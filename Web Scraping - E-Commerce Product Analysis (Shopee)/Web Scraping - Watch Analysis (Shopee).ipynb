{
  "nbformat": 4,
  "nbformat_minor": 0,
  "metadata": {
    "colab": {
      "name": "A176297 - Group 6 - Individual Assignment 1.ipynb",
      "provenance": [],
      "collapsed_sections": []
    },
    "kernelspec": {
      "name": "python3",
      "display_name": "Python 3"
    },
    "language_info": {
      "name": "python"
    }
  },
  "cells": [
    {
      "cell_type": "markdown",
      "metadata": {
        "id": "FYmNOk1nengD"
      },
      "source": [
        "#**Case Study: Watches⌚ in Online E-commerce Platform Shopee (PART 1)**\n",
        "A total of 173 watches from Shopee were extracted on the 15th November 2021. The main objective of this study is to identify the best selling watch in Shopee according to the number of sales. The latter part of the final project shall include the discovery of the best selling watch in Shopee by its brand, style, ratings and price range, supported by the response rate of the seller, the functions and warranty period of the watch.\n",
        "---\n",
        "**Author:** Tang Jia Hui<br>\n",
        "**Matric Number:** A176297<br>\n",
        "**Incharge:** Watch Name, Style and Brand<br>\n",
        "**File Submission:**\n",
        "A176297 - Group 6 - Individual Assignment 1.ipynb and a176297_watch_style_brand_name_2021.csv\n",
        "\n",
        "---\n",
        "Note: There are 4 CSV files in the A176297_TC3213_IA1_CSV.zip file submitted. \n",
        "1. **watch_product_link.csv** is the csv file that stores all 173 watches links. It is obtained in Part 1 and read in Part 2 of this project.\n",
        "2. **backup_fullcsv.csv** is the csv file that stores all 173 different watches information (uncleaned) scraped from Shopee. It is obtained from Part 2-4 of this project and is read in Part 5 of this project.\n",
        "3. **a176297_watch_style_brand_name.csv** is the csv file that stores the watches' data respective to the 173 watches scraped, without changing the categorical data to quantitative data.\n",
        "4. **a176297_watch_style_brand_name_2021.csv** is the final csv file that stores the cleaned data respective to the 173 watches scraped.\n",
        "\n",
        "---\n",
        "To run the codes, please upload **watch_product_link.csv** csv file and start running the codes from Part 2 of this project. By the end of this project, you shall have 2 additional csv file generated, namely the **backup_fullcsv.csv**, **a176297_watch_style_brand_name.csv** and **a176297_watch_style_brand_name_2021.csv**\n"
      ]
    },
    {
      "cell_type": "markdown",
      "metadata": {
        "id": "sU-O8af5d-L9"
      },
      "source": [
        "##**Step 1: Import Library**\n",
        "Import the necessary libraries to fulfill the work of this project"
      ]
    },
    {
      "cell_type": "code",
      "metadata": {
        "colab": {
          "base_uri": "https://localhost:8080/"
        },
        "id": "K5CHO4Zid62e",
        "outputId": "119e719e-3377-4d99-a08d-b67c03d2eae8"
      },
      "source": [
        "!pip install urllib3\n",
        "!pip install folium\n",
        "!pip install albumentations\n",
        "!pip install -q gwpy\n",
        "# %%capture "
      ],
      "execution_count": null,
      "outputs": [
        {
          "output_type": "stream",
          "name": "stdout",
          "text": [
            "Requirement already satisfied: urllib3 in /usr/local/lib/python3.7/dist-packages (1.25.11)\n",
            "Requirement already satisfied: folium in /usr/local/lib/python3.7/dist-packages (0.8.3)\n",
            "Requirement already satisfied: six in /usr/local/lib/python3.7/dist-packages (from folium) (1.15.0)\n",
            "Requirement already satisfied: jinja2 in /usr/local/lib/python3.7/dist-packages (from folium) (2.11.3)\n",
            "Requirement already satisfied: branca>=0.3.0 in /usr/local/lib/python3.7/dist-packages (from folium) (0.4.2)\n",
            "Requirement already satisfied: requests in /usr/local/lib/python3.7/dist-packages (from folium) (2.23.0)\n",
            "Requirement already satisfied: numpy in /usr/local/lib/python3.7/dist-packages (from folium) (1.19.5)\n",
            "Requirement already satisfied: MarkupSafe>=0.23 in /usr/local/lib/python3.7/dist-packages (from jinja2->folium) (2.0.1)\n",
            "Requirement already satisfied: urllib3!=1.25.0,!=1.25.1,<1.26,>=1.21.1 in /usr/local/lib/python3.7/dist-packages (from requests->folium) (1.25.11)\n",
            "Requirement already satisfied: idna<3,>=2.5 in /usr/local/lib/python3.7/dist-packages (from requests->folium) (2.10)\n",
            "Requirement already satisfied: certifi>=2017.4.17 in /usr/local/lib/python3.7/dist-packages (from requests->folium) (2021.10.8)\n",
            "Requirement already satisfied: chardet<4,>=3.0.2 in /usr/local/lib/python3.7/dist-packages (from requests->folium) (3.0.4)\n",
            "Requirement already satisfied: albumentations in /usr/local/lib/python3.7/dist-packages (0.1.12)\n",
            "Requirement already satisfied: numpy>=1.11.1 in /usr/local/lib/python3.7/dist-packages (from albumentations) (1.19.5)\n",
            "Requirement already satisfied: opencv-python in /usr/local/lib/python3.7/dist-packages (from albumentations) (4.1.2.30)\n",
            "Requirement already satisfied: imgaug<0.2.7,>=0.2.5 in /usr/local/lib/python3.7/dist-packages (from albumentations) (0.2.6)\n",
            "Requirement already satisfied: scipy in /usr/local/lib/python3.7/dist-packages (from albumentations) (1.4.1)\n",
            "Requirement already satisfied: scikit-image>=0.11.0 in /usr/local/lib/python3.7/dist-packages (from imgaug<0.2.7,>=0.2.5->albumentations) (0.18.3)\n",
            "Requirement already satisfied: six in /usr/local/lib/python3.7/dist-packages (from imgaug<0.2.7,>=0.2.5->albumentations) (1.15.0)\n",
            "Requirement already satisfied: pillow!=7.1.0,!=7.1.1,>=4.3.0 in /usr/local/lib/python3.7/dist-packages (from scikit-image>=0.11.0->imgaug<0.2.7,>=0.2.5->albumentations) (7.1.2)\n",
            "Requirement already satisfied: tifffile>=2019.7.26 in /usr/local/lib/python3.7/dist-packages (from scikit-image>=0.11.0->imgaug<0.2.7,>=0.2.5->albumentations) (2021.11.2)\n",
            "Requirement already satisfied: PyWavelets>=1.1.1 in /usr/local/lib/python3.7/dist-packages (from scikit-image>=0.11.0->imgaug<0.2.7,>=0.2.5->albumentations) (1.2.0)\n",
            "Requirement already satisfied: networkx>=2.0 in /usr/local/lib/python3.7/dist-packages (from scikit-image>=0.11.0->imgaug<0.2.7,>=0.2.5->albumentations) (2.6.3)\n",
            "Requirement already satisfied: imageio>=2.3.0 in /usr/local/lib/python3.7/dist-packages (from scikit-image>=0.11.0->imgaug<0.2.7,>=0.2.5->albumentations) (2.4.1)\n",
            "Requirement already satisfied: matplotlib!=3.0.0,>=2.0.0 in /usr/local/lib/python3.7/dist-packages (from scikit-image>=0.11.0->imgaug<0.2.7,>=0.2.5->albumentations) (3.5.0)\n",
            "Requirement already satisfied: setuptools-scm>=4 in /usr/local/lib/python3.7/dist-packages (from matplotlib!=3.0.0,>=2.0.0->scikit-image>=0.11.0->imgaug<0.2.7,>=0.2.5->albumentations) (6.3.2)\n",
            "Requirement already satisfied: pyparsing>=2.2.1 in /usr/local/lib/python3.7/dist-packages (from matplotlib!=3.0.0,>=2.0.0->scikit-image>=0.11.0->imgaug<0.2.7,>=0.2.5->albumentations) (3.0.6)\n",
            "Requirement already satisfied: python-dateutil>=2.7 in /usr/local/lib/python3.7/dist-packages (from matplotlib!=3.0.0,>=2.0.0->scikit-image>=0.11.0->imgaug<0.2.7,>=0.2.5->albumentations) (2.8.2)\n",
            "Requirement already satisfied: cycler>=0.10 in /usr/local/lib/python3.7/dist-packages (from matplotlib!=3.0.0,>=2.0.0->scikit-image>=0.11.0->imgaug<0.2.7,>=0.2.5->albumentations) (0.11.0)\n",
            "Requirement already satisfied: kiwisolver>=1.0.1 in /usr/local/lib/python3.7/dist-packages (from matplotlib!=3.0.0,>=2.0.0->scikit-image>=0.11.0->imgaug<0.2.7,>=0.2.5->albumentations) (1.3.2)\n",
            "Requirement already satisfied: packaging>=20.0 in /usr/local/lib/python3.7/dist-packages (from matplotlib!=3.0.0,>=2.0.0->scikit-image>=0.11.0->imgaug<0.2.7,>=0.2.5->albumentations) (21.3)\n",
            "Requirement already satisfied: fonttools>=4.22.0 in /usr/local/lib/python3.7/dist-packages (from matplotlib!=3.0.0,>=2.0.0->scikit-image>=0.11.0->imgaug<0.2.7,>=0.2.5->albumentations) (4.28.2)\n",
            "Requirement already satisfied: setuptools in /usr/local/lib/python3.7/dist-packages (from setuptools-scm>=4->matplotlib!=3.0.0,>=2.0.0->scikit-image>=0.11.0->imgaug<0.2.7,>=0.2.5->albumentations) (57.4.0)\n",
            "Requirement already satisfied: tomli>=1.0.0 in /usr/local/lib/python3.7/dist-packages (from setuptools-scm>=4->matplotlib!=3.0.0,>=2.0.0->scikit-image>=0.11.0->imgaug<0.2.7,>=0.2.5->albumentations) (1.2.2)\n"
          ]
        }
      ]
    },
    {
      "cell_type": "code",
      "metadata": {
        "id": "2ozsVIQHdOvC"
      },
      "source": [
        "# Install and update library\n",
        "%%capture\n",
        "!pip install selenium\n",
        "!apt-get update # to update ubuntu to correctly run apt install\n",
        "!apt install chromium-chromedriver\n",
        "\n",
        "from selenium import webdriver\n",
        "from selenium.webdriver.common.by import By\n",
        "# !cp /usr/lib/chromium-browser/chromedriver /usr/bin\n",
        "import sys\n",
        "import pandas as pd\n"
      ],
      "execution_count": null,
      "outputs": []
    },
    {
      "cell_type": "markdown",
      "metadata": {
        "id": "DLGWPyWerf2W"
      },
      "source": [
        "#**PART 1: SELENIUM EXTRACT WATCH LINKS**\n",
        "Selenium, an open-source umbrella project consisting a range of tools and libraries used for web browser automation and web scraping will be used as the tool to scrape product (watch) links in order to ease the scraping process of watches information in the latter section of this project."
      ]
    },
    {
      "cell_type": "markdown",
      "metadata": {
        "id": "IgeclMiLeNVo"
      },
      "source": [
        "##**Step 1: Extract Anchor Link of Products**\n",
        "A function named get_product_links is defined to extract the links of each respective watches in Shopee. Then, the function is called to start the extraction process and the extracted link is stored in a list named as product_link."
      ]
    },
    {
      "cell_type": "code",
      "metadata": {
        "id": "ydUsARLcWftV"
      },
      "source": [
        "%%capture\n",
        "# define function to extract product links\n",
        "def get_product_links(page_num, product_link_lst):\n",
        "    # Find link that access product page\n",
        "    url = \"https://shopee.com.my/mall/Watches-cat.11001724/popular?pageNumber=\" + str(page_num)\n",
        "    #Define Chrome WebDriver\n",
        "    sys.path.insert(0,'/usr/lib/chromium-browser/chromedriver')\n",
        "    chrome_options = webdriver.ChromeOptions()\n",
        "    chrome_options.add_argument('--headless')\n",
        "    chrome_options.add_argument('--no-sandbox')\n",
        "    chrome_options.add_argument('--disable-dev-shm-usage')\n",
        "    wd = webdriver.Chrome('chromedriver', options=chrome_options)\n",
        "    # get url\n",
        "    wd.get(url)\n",
        "    # impose pause\n",
        "    wd.implicitly_wait(10)\n",
        "    container = wd.find_element_by_xpath('/html/body/div[1]/div[1]/div[2]/div[2]').find_elements_by_tag_name('a')\n",
        "    for link in container:\n",
        "        product_link_lst.append(link.get_attribute('href'))\n",
        "    wd.quit()\n",
        "\n",
        "# Call function get_product_link\n",
        "product_link = list()\n",
        "for page_num in range(1, 4):\n",
        "    get_product_links(page_num, product_link)\n"
      ],
      "execution_count": null,
      "outputs": []
    },
    {
      "cell_type": "code",
      "metadata": {
        "id": "0HHwGCLwrrao"
      },
      "source": [
        "# filter list to ensure there is no repeated watch links\n",
        "product_link = list(set(product_link))"
      ],
      "execution_count": null,
      "outputs": []
    },
    {
      "cell_type": "markdown",
      "metadata": {
        "id": "cYGyQxS8_d8e"
      },
      "source": [
        "##**Step 2: Save product links in a CSV file**\n",
        "The product links are saved to a CSV file to work with the extracted links in the future."
      ]
    },
    {
      "cell_type": "code",
      "metadata": {
        "id": "xTpA4ZGxeO-k"
      },
      "source": [
        "# Save the list of product list \n",
        "link_dict = {'product_link': product_link}\n",
        "df_link = pd.DataFrame(link_dict)\n",
        "df_link.to_csv('watch_product_link.csv')"
      ],
      "execution_count": null,
      "outputs": []
    },
    {
      "cell_type": "code",
      "metadata": {
        "colab": {
          "base_uri": "https://localhost:8080/"
        },
        "id": "RVoNZX8Vl_lR",
        "outputId": "04c9d91c-5c90-405d-f834-f77783c988c2"
      },
      "source": [
        "len(df_link) # total number of products"
      ],
      "execution_count": null,
      "outputs": [
        {
          "output_type": "execute_result",
          "data": {
            "text/plain": [
              "173"
            ]
          },
          "metadata": {},
          "execution_count": 57
        }
      ]
    },
    {
      "cell_type": "markdown",
      "metadata": {
        "id": "gBYvcX_o80J3"
      },
      "source": [
        "#**PART 2: EXTRACT WATCH STYLE WITH SELENIUM**\n",
        "The extraction of the style of watches are performed with selenium as well. Before the extraction process begins, the csv file saved in the previous section (Part 1) is read and the links are restored as a list, called product_link."
      ]
    },
    {
      "cell_type": "code",
      "metadata": {
        "id": "g2WOg8PsWJ4Z"
      },
      "source": [
        "import pandas as pd\n",
        "productlink = pd.read_csv('/content/watch_product_link.csv', index_col=['Unnamed: 0']).values.tolist()\n",
        "product_link = [link[0] for link in productlink]"
      ],
      "execution_count": null,
      "outputs": []
    },
    {
      "cell_type": "code",
      "metadata": {
        "colab": {
          "base_uri": "https://localhost:8080/"
        },
        "id": "p5b3ndDSZO9t",
        "outputId": "c6962977-737c-4f4d-be0c-e7c4bb29f4ac"
      },
      "source": [
        "product_link"
      ],
      "execution_count": null,
      "outputs": [
        {
          "output_type": "execute_result",
          "data": {
            "text/plain": [
              "['https://shopee.com.my/OLEVS-Jam-Tangan-Lelaki-Original-Watch-Men-Waterproof-Stainless-Steel-Quartz-Luminous-Authentic-Dragon-Design-Gold-Watch-For-Men-i.56027601.8111224520',\n",
              " 'https://shopee.com.my/NAVIFORCE-2021-Bussiness-Watch-Men-Sport-Quartz-Watches-Luxury-Brand-Leather-Waterproof-LED-Digital-Wristwatch-i.50942824.6602794197',\n",
              " 'https://shopee.com.my/Casio-General-W-218H-3A-Black-Resin-Band-Men-Youth-Watch-i.33853391.8945228241',\n",
              " \"https://shopee.com.my/SKMEI-new-men's-outdoor-waterproof-sports-large-dial-electronic-watch-multi-function-dual-display-luminous-electronic-watch-i.83591286.10709989665\",\n",
              " \"https://shopee.com.my/Kids-Cute-Girl-Cat-Children's-Kids-Watch-Gel-Digital-i.83591286.2464347922\",\n",
              " 'https://shopee.com.my/Carlo-Rino-Jade-of-The-Orient-Dark-Green-i.126606645.5468599987',\n",
              " 'https://shopee.com.my/SKMEI-Smart-Watch-Fashion-Full-Touch-Screen-Mens-Sport-Fitness-Watches-IP68-Waterproof-Bluetooth-Luxury-Connection-For-Android-ios-SmartWatch-for-men-i.83591286.7686939805',\n",
              " 'https://shopee.com.my/Sanda-Military-Waterproof-Quartz-LED-Multi-function-Luxury-Fashion-Men-Watch-i.173426679.3223445616',\n",
              " 'https://shopee.com.my/Uniq-Aspen-Strap-for-Apple-Watch-Grey-Blue-Green-Series-1-2-3-4-5-6-SE-7-(38-40-41-42-44-45mm)-i.277288234.4382496215',\n",
              " \"https://shopee.com.my/SKMEI-Fashion-watch-Men's-Waterproof-Sport-Quartz-Stainless-Steel-Steel-Watch-Wristwatches-i.83591286.9525951760\",\n",
              " \"https://shopee.com.my/CURREN-Men's-g-shock-Chronograph-Waterproof-Watch-Fashion-Sports-Waterproof-Quartz-jam-tangan-lelaki-i.131966034.2234586295\",\n",
              " 'https://shopee.com.my/NAVIFORCE-Mens-Watch-Top-Brand-Luxury-Fashion-Quartz-Men-Watches-Waterproof-Sports-Male-Military-Wrist-Watch-i.50942824.2839653717',\n",
              " 'https://shopee.com.my/%E3%80%90COD%E3%80%91Jam-Tangan-Couple-Set-Top-Brand-Luxury-Men-Quartz-Watches-Women-Waterproof-Casual-Date-Couple-Clock-Male-Wrist-Watch-i.165261705.3001300863',\n",
              " 'https://shopee.com.my/Casio-General-AEQ-110BW-9A-Black-Resin-Band-Men-Youth-Watch-i.33853391.6692598820',\n",
              " \"https://shopee.com.my/SANDA-Men-Watch-Sports-Waterproof-Watch-LED-Display-Multifunction-Men's-Watch-Digital-Watch-i.173426679.6327484847\",\n",
              " \"https://shopee.com.my/BOSTANTEN-Men's-Genuine-Leather-Ratchet-Belt-with-Automatic-Sliding-Buckle-i.18185005.2040130593\",\n",
              " \"https://shopee.com.my/Bostanten-Official-2052-Ready-Stock-new-model-Multi-function-Digital-Waterproof-Men's-Sports-Watch-COD-i.165261705.2545727578\",\n",
              " 'https://shopee.com.my/CURREN-Elegant-Women-Watch-Classy-Quartz-g-shock-Waterproof-jam-tangan-perempuan-Beautiful-Flower-Dial-Quartz-Wristwatches-ShopeeMY-i.131966034.2609313619',\n",
              " \"https://shopee.com.my/Bostanten-Classic-Black-Minimalist-Leather-Men's-Quartz-Watch%EF%BC%88watch*1%EF%BC%89-i.165261705.7640223214\",\n",
              " 'https://shopee.com.my/Uniq-Case-for-Apple-Watch-Torres-Black-White-Blue-Series-1-2-3-4-5-6-SE-(40mm-44mm)-i.277288234.7578113657',\n",
              " 'https://shopee.com.my/SKMEI-New-Solar-Power-Outdoor-Sports-Watches-Men-Shock-Digital-watch-i.83591286.1414270621',\n",
              " 'https://shopee.com.my/Boy-Girl-Kids-Sports-Waterproof-Silicone-Band-LED-Digital-Wrist-Watch-i.83591286.2464100499',\n",
              " 'https://shopee.com.my/SKMEI-I2-Sports-Smart-Watch-IP67-Waterproof-with-Heart-Rate-Blood-Pressure-Oxygen-Monitoring-Smartband-Long-Standby-Sport-Smart-Watch-Android-IOS-i.83591286.7467257244',\n",
              " 'https://shopee.com.my/SKMEI-replace-watchbands-only-band-not-watch-i.83591286.7351574706',\n",
              " 'https://shopee.com.my/Sanda-Smart-Watch-IOS-Android-Bluetooth-Fitness-Watch-with-Pedometer-Fashion-Watch-i.173426679.6723285169',\n",
              " 'https://shopee.com.my/SKMEI-Men-Quartz-Watch-Casual-Ultra-Thin-Waterproof-Simple-Style-Business-Wristwatches-i.83591286.1745252820',\n",
              " 'https://shopee.com.my/SKMEI-Men-Women-Smart-Watch-Sport-Clock-Fitness-Tracker-Heart-Rate-Monitor-Sleep-Monitor-IP67-Smartwatch-for-Android-IOS-i.83591286.5658313236',\n",
              " 'https://shopee.com.my/SKMEI-Couple-Watch-Unisex-Men-Women-Quartz-Casual-Stainless-Steel-Dress-Dinner-Analog-Gold-Silver-i.83591286.7053898116',\n",
              " \"https://shopee.com.my/WISHDOIT-100-Asal-rasmi-Jam-Tangan-lelaki-original-Waterproof-Men-watch-Stainless-steel-Quartz-analog-watch-for-Men's-Business-Sport-Multifunction-Chronograph-Calendar-Luminous-Fashion-Wristwatch-Green-i.392351144.6286113489\",\n",
              " 'https://shopee.com.my/NAVIFORCE-Women-Watches-Top-Brand-Luxury-Stainless-Steel-Strap-Wristwatch-for-Women-Clock-Stylish-Quartz-Ladies-Watch-i.50942824.2836482398',\n",
              " \"https://shopee.com.my/OLEVS-Jam-Tangan-Perempuan-Wanita-Women-Watches-Original-Wrist-Watch-Women's-Casual-Rose-Gold-Ultrathin-Quartz-Girl-Steel-Watch-i.56027601.975292833\",\n",
              " 'https://shopee.com.my/Casio-General-MQ-24-1B3-Black-Resin-Band-Men-Watch-i.33853391.6607694145',\n",
              " 'https://shopee.com.my/SANDA-Men-Watch-Luxury-Waterproof-Quartz-LED-with-Multi-function-Swimming-Watch-739-i.173426679.7623280380',\n",
              " \"https://shopee.com.my/SKMEI-1454-Top-luxury-Men's-Dual-Display-LED-Digital-PU-Luxury-Strap-Date-Clock-Watch-i.83591286.1673884107\",\n",
              " 'https://shopee.com.my/Bostanten-Men-Sports-Shock-Watch-3Time-Chrono-Alarm-Date-Week-Display-LED-Light-Digital-Big-Dial-Military-Men-Sports-Watches-Jam-Tangan-Lelaki-i.348937628.9307315540',\n",
              " \"https://shopee.com.my/NAVIFORCE-Men's-Sport-Leather-Quartz-LED-Watch-(with-original-box)-Jam-Tangan-i.50942824.1611683626\",\n",
              " 'https://shopee.com.my/Q-Q-Japan-by-Citizen-Unisex-Resin-Analogue-Watch-VS42-i.183733032.4110904995',\n",
              " 'https://shopee.com.my/SKMEI-logo-Original-Brand-Metal-Box-Gift-Box-i.83591286.2019146619',\n",
              " 'https://shopee.com.my/Sanda-Waterproof-Women-Watch-Sports-Watch-Multifunction-Outdoor-Women-Watch-i.173426679.8549141322',\n",
              " 'https://shopee.com.my/Q-Q-Japan-by-Citizen-Unisex-Resin-Analogue-Watch-A212-i.183733032.4417008151',\n",
              " 'https://shopee.com.my/Casio-General-A168WA-1W-Silver-Stainless-Steel-Band-Men-Watch-i.33853391.6669023817',\n",
              " \"https://shopee.com.my/Q-Q-Japan-by-Citizen-Ladies'-Kids'-Resin-Analogue-Watch-VR19-i.183733032.6940345560\",\n",
              " 'https://shopee.com.my/SKMEI-SmartWatch-Waterproof-Bluetooth-Sport-Fitness-Tracker-Wristband-for-Men-Women-Pedometer-heart-rate-Smart-Band-Bracelet-i.83591286.5558741362',\n",
              " \"https://shopee.com.my/OLEVS-Watch-Men's-Business-New-Jam-Tangan-Lelaki-Original-Quartz-Watch-Steel-Strap-Gold-Waterproof-Calendar-Luminous-Blue-Black-Green-Men-Casual-Watch-For-Men-i.56027601.3337175471\",\n",
              " 'https://shopee.com.my/SANDA-Waterproof-Women-Watch-Fashion-Sports-Digital-Women-Watch-i.173426679.4020486414',\n",
              " 'https://shopee.com.my/%E3%80%90Sanda-official%E3%80%91Original-Luxury-Watch-Gift-Box-i.173426679.4119456565',\n",
              " 'https://shopee.com.my/Casio-General-AE-1200WHD-1A-Silver-Stainless-Steel-Band-Men-Watch-i.33853391.1645021309',\n",
              " 'https://shopee.com.my/-Box-Upgrade-Q-Q-Box-QC225-RM15-Only-Please-Purchase-with-Add-On--i.183733032.10921754512',\n",
              " \"https://shopee.com.my/Q-Q-Japan-by-Citizen-Men's-Resin-Analogue-Watch-VS50-i.183733032.6040346227\",\n",
              " \"https://shopee.com.my/OPK-Watches-for-Women's-Casual-Water-Resistant-Quartz-Luminous-Watch-Jam-tangan-wanita-Wristwatches-i.56027601.6418736200\",\n",
              " 'https://shopee.com.my/Kids-Bracelet-Digital-LED-Sport-Watch-i.83591286.2463599674',\n",
              " \"https://shopee.com.my/CURREN-Men's-Luxury-Waterproof-Sports-Chronograph-Quartz-Military-Leather-Watch-i.131966034.2176335014\",\n",
              " 'https://shopee.com.my/SKMEI-Kiblat-Watch-Qibla-Direction-Time-Reminder-Nmane-Display-Worship-Pray-Compass-Religious-Month-Day-Wristwatch-for-Ramadan-Gift-Hijri-Calendar-Pilgrimage-i.83591286.5738688634',\n",
              " 'https://shopee.com.my/SKMEI-LOGO-BOX06-watch-BOX-Gift-Box-Package-i.83591286.2645614088',\n",
              " 'https://shopee.com.my/SKMEI-Women-Luxury-Quartz-Watch-Fashion-Design-Water-Resistant-Mesh-Stainless-Steel-Strap-Rose-Gold-i.83591286.5810211546',\n",
              " \"https://shopee.com.my/JULIUS-Store-Women's-Square-Watches-JA-496-i.256155445.7232216754\",\n",
              " 'https://shopee.com.my/NAVIFORCE-100-Original-Men-Sport-Quartz-Stainless-Steel-Wrist-Watch-Silver-Watch-with-box-i.50942824.1237914485',\n",
              " 'https://shopee.com.my/Milliot-Co.-Alexis-Watch-Set-i.262215712.9674207185',\n",
              " 'https://shopee.com.my/-Clearance-%E3%80%90Sanda-Official%E3%80%91Waterproof-New-Listing-Women-Watch-Sports-Watch-Original-Fashion-Luxury-Multifunctional-Digital-Chronograph-Luminous-24-Hour-Women-Watch-i.173426679.3541977585',\n",
              " 'https://shopee.com.my/Q-Q-Japan-by-Citizen-Unisex-Rubber-Analogue-Watch-VS12-i.183733032.4100088532',\n",
              " \"https://shopee.com.my/WISHDOIT-100-Asal-rasmi-Jam-Tangan-lelaki-original-Waterproof-Men-watch-Stainless-steel-strap-Quartz-analog-watch-for-Men's-Business-Sport-Multifunction-Chronograph-Calendar-Luminous-Fashion-Wristwatch-Jam-hitam-i.392351144.4980278188\",\n",
              " \"https://shopee.com.my/SANDA-Men-Watch-Waterproof-Fashion-Sports-Luxury-Multi-function-Analog-Men's-Watch-i.173426679.3914793382\",\n",
              " \"https://shopee.com.my/SKMEI-Women's-Quartz-Watch-Silicone-Waterproof-Sport-Wristwatch-Bracelet-Sport-watch-i.83591286.1417277006\",\n",
              " 'https://shopee.com.my/SKMEI-Sports-Waterproof-Digital-Watches-Countdown-Alarm-Fashion-Wristwatch-Clock-i.83591286.2007883347',\n",
              " 'https://shopee.com.my/Bostanten-Leather-Strap-Quartz-Watch-Simple-Clasic-Original-Waterproof-Watches-Men-Jam-Tangan-Lelaki-Free-Box--i.348937628.6773584332',\n",
              " 'https://shopee.com.my/OPK-Jam-Tangan-Perempuan-Wanita-Murah-Girl-Ladies-Watch-Women-Waterproof-Leather-Strap-Genuine-Original-Quartz-Small-Dial-Luminous-Flowing-Rhinestone-Trend-Design-i.56027601.3694089296',\n",
              " 'https://shopee.com.my/-NOT-FOR-SALE-FREE-GIFT-Kit-Kat-Watch-i.252323839.11750076476',\n",
              " 'https://shopee.com.my/SKMEI-Simple-Design-Quartz-Small-Dial-Watch-Women-Student-i.83591286.6251936066',\n",
              " 'https://shopee.com.my/Sanda-Women-Watch-Waterproof-Luxury-Digital-Fashion-Multifunctional-Multifunction-Chronograph-Women-Watch-i.173426679.3369583097',\n",
              " 'https://shopee.com.my/Daniel-Wellington-Petite-Cornwall-Black-Watch-28-32mm-Rose-Gold-Nato-strap-DW-Watch-for-women-Fashion-watch-DW-official-Authentic-jam-tangan-perempuan-jam-tangan-lelaki-jam-tangan-perempuan-jam-tangan-wanita-i.406568402.9745180553',\n",
              " 'https://shopee.com.my/Q-Q-Japan-by-Citizen-Ladies-Leather-Analogue-Watch-Q979-QZ87-i.183733032.7800736562',\n",
              " 'https://shopee.com.my/NAVIFORCE-Men-Military-Dual-Display-Quartz-LED-Stainless-Steel-Waterproof-Watch-Silver-i.50942824.2614161580',\n",
              " 'https://shopee.com.my/(GWP)-CATEPILLAR-Limited-Edition-Sport-Towel-(Not-For-Sale)-i.378814704.12541467515',\n",
              " \"https://shopee.com.my/OLEVS-Jam-Tangan-Lelaki-Original-Waterproof-Watch-Men-Quartz-Analog-Genuine-Leather-Business-Sun-Moon-Star-Multifunctional-Calendar-Luminous-Fashion-Men's-Watches-i.56027601.4364612810\",\n",
              " 'https://shopee.com.my/Q-Q-Japan-by-Citizen-Ladies-Resin-Analogue-Watch-VP34-i.183733032.3200102929',\n",
              " 'https://shopee.com.my/Cute-Candy-Color-Sports-Digital-LED-Men-Women-Kid-Student-Watch-Jam-Tangan-Lelaki-Wanita-Kanak-i.83591286.3752011202',\n",
              " 'https://shopee.com.my/2021-Cute-Candy-Color-Sports-Digital-LED-Men-Women-Kid-Student-Watch-Jam-Tangan-Lelaki-Wanita-Kanak-i.50942824.11220593343',\n",
              " 'https://shopee.com.my/SKMEI-Sports-Watch-Shock-LED-Digital-JAM-TANGAN-Outdoor-Multifunction-Data-Calendar-Running-i.83591286.6047260366',\n",
              " \"https://shopee.com.my/WISHDOIT-100-Asal-rasmi-Jam-Tangan-perempuan-wanita-original-Waterproof-Ladies-watch-Leather-strap-Quartz-analog-watch-for-Women's-Multifunction-Calendar-Luminous-Casual-Fashion-Wristwatch-i.392351144.9571382705\",\n",
              " \"https://shopee.com.my/SKMEI-Ready-Stock-new-model-Multi-function-Digital-Waterproof-Men's-Sports-Watch-i.83591286.1397926503\",\n",
              " 'https://shopee.com.my/Voarch-Smart-Watch-Men-Woman-Full-Smartwatch-waterproof-Heart-Rate-Sleep-Monitor-For-iOS-Android-phone-i.50942824.827848750',\n",
              " 'https://shopee.com.my/JULIUS-Quartz-Waterproof-Watch-Natural-Leather-Strap-JA-1112-i.256155445.7339040048',\n",
              " \"https://shopee.com.my/WISHDOIT-100-Asal-rasmi-Jam-Tangan-lelaki-original-Waterproof-Men-watch-Stainless-steel-Quartz-analog-watch-for-Men's-Business-Sport-Multifunction-Chronograph-Calendar-Luminous-Fashion-Wristwatch-i.392351144.8019027322\",\n",
              " 'https://shopee.com.my/Q-Q-Japan-by-Citizen-Kids-Resin-Analogue-Watch-VR99-i.183733032.7813039826',\n",
              " 'https://shopee.com.my/Casio-General-LTP-1302D-7A2-Stainless-Steel-Band-Women-Watch-i.33853391.3917570949',\n",
              " 'https://shopee.com.my/%E3%80%90Official-original%E3%80%91WISHDOIT-Jam-Tangan-lelaki-Multifunction-Waterproof-watch-LED-Analog-Digita-watch-Quartz-watch-Men-watch-Sports-watch-Golden-black-watch-luxury-watch-luminous-watch-authentic-watches-chronograph-can-swimming-i.295319610.5846457719',\n",
              " \"https://shopee.com.my/SKMEI-Kiblat-Men's-Qibla-Direction-Time-Pilgrimage-Watch-LED-Light-Languege-Selection-Date-Alarm-Hijri-Calendar-Digital-Religious-Worship-Pray-i.83591286.5938677087\",\n",
              " 'https://shopee.com.my/Q-Q-Japan-by-Citizen-Ladies-Leather-Analogue-Watch-QC35-i.183733032.4244107654',\n",
              " 'https://shopee.com.my/%E3%80%90Free-Watch-Box%E3%80%91OLEVS-Luxury-Jam-Tangan-Perempuan-Lelaki-Couple-Watch-Women-Original-Casual-Waterproof-Quartz-Luminous-Leather-Watch-Men-Watches-i.56027601.983457963',\n",
              " \"https://shopee.com.my/Jam-Tangan-Perempuan-Wanita-Murah-Original-Ladies-Watch-Women's-Casual-Magnet-Waterproof-For-girl-i.56027601.9720380562\",\n",
              " 'https://shopee.com.my/Q-Q-Japan-by-Citizen-Ladies-Resin-Analogue-Watch-VQ86-i.183733032.7034153317',\n",
              " 'https://shopee.com.my/NAVIFORCE-Men-Analog-Digital-Leather-Sports-Military-Quartz-Watch(with-original-box)-G-Jam-Tangan-Shock-i.50942824.1610108119',\n",
              " 'https://shopee.com.my/%E3%80%90Asal-rasmi%E3%80%91WISHDOIT-jam-tangan-lelaki-original-Multifunction-waterproof-watch-analog-watch-Quartz-watch-Men-watch-Sports-watch-Stainless-steel-watch-black-watch-luxury-watch-luminous-watch-casual-watch-authentic-watches-chronograph-can-swimming-i.295319610.4946007216',\n",
              " 'https://shopee.com.my/%E3%80%8AReady-stock%E3%80%8B2021-New-Men-Watches-LIGE-Top-Brand-Luxury-Waterproof-Quartz-Square-Watch-For-Men-Date-Sport-Hollow-Clock-Male-Jam-tangan-lelaki-i.118070725.4783885167',\n",
              " 'https://shopee.com.my/Amazfit-Band-5-Strap-FREE-GIFT--i.68425014.11464301368',\n",
              " \"https://shopee.com.my/SKMEI-Women's-Quartz-PU-Strap-Waterproof-Sport-Wristwatches-i.83591286.1430189746\",\n",
              " 'https://shopee.com.my/SKMEI-Smart-Watch-Women-Blood-Pressure-Heart-Rate-Sports-Fitness-watches-Ultra-Thin-Smartwatch-DIY-Watch-Faces-for-Android-Ios-i.83591286.3659965494',\n",
              " \"https://shopee.com.my/%E3%80%90Free-Watch-Box%E3%80%91Original-Steel-Watch-Women's-Casual-Waterproof-Rose-Gold-Quartz-Watches-Jam-Tangan-Wanita-Perempuan-Murah-i.56027601.5209701861\",\n",
              " 'https://shopee.com.my/SKMEI-Prayer-Watch-with-Azan-Time-and-Qibla-Compass-Hijri-Calendar-Adhan-AlarmIslamic-Muslim-Wristwatch-i.83591286.5381274967',\n",
              " 'https://shopee.com.my/Olevs-Jam-Tangan-Perempuan-Wanita-Original-Watch-Women-Waterproof-Rose-Gold-Lady-Girl-Watch-Set-Gift-i.56027601.3057406602',\n",
              " \"https://shopee.com.my/%E3%80%90Official-original%E3%80%91WISHDOIT-jam-tangan-lelaki-Men-watch-Sport-watch-men's-analogue-watch-chronograph-Leather-strap-Luminous-Quartz-watches-Multifunction-swimming-watch-Really-three-eye-watch-Business-Casual-couple-watch-i.295319610.5347675328\",\n",
              " 'https://shopee.com.my/Casio-General-F-91W-1S-Black-Resin-Band-Men-Watch-i.33853391.6715661356',\n",
              " 'https://shopee.com.my/CURREN-Mens-Luxury-Casual-Quartz-Wristwatches-with-Luminous-hands-Sport-Chronograph-Clock-Stainless-Steel-Wrist-Watches-for-Male-i.131966034.7693747497',\n",
              " \"https://shopee.com.my/Q-Q-Japan-by-Citizen-Ladies'-Leather-Analogue-Watch-QZ51-i.183733032.7359597500\",\n",
              " \"https://shopee.com.my/SKMEI-Men's-Sport-LED-Back-EL-Light-Display-Watch-Luxury-Digital-Wristwatches-Waterproof-i.83591286.1414426597\",\n",
              " 'https://shopee.com.my/SKMEI-Leather-Strap-Watch-Couple-Simple-Clasic-Original-Waterproof-Watches-Women-Men-i.83591286.2513899322',\n",
              " \"https://shopee.com.my/WISHDOIT-100-Asal-rasmi-Jam-Tangan-lelaki-original-Waterproof-Men-watch-Stainless-steel-strap-Quartz-analog-watch-for-Men's-Business-Sun-Moon-Star-Multifunction-Calendar-Luminous-Fashion-Wristwatch-i.392351144.9218985283\",\n",
              " \"https://shopee.com.my/Jam-Tangan-Couple-Set-Bostanten-Luxury-Watches-Men-Women-Couple-Watches-Ladies-Original-Casual-Waterproof-Quartz-Watches-Men's-Classic-Simple-Resistant-Leather-Watches-i.165261705.4286820538\",\n",
              " \"https://shopee.com.my/Bostanten-Women's-Leather-Watch-Creative-Unique-Style-Charm-Clock-Jam-Tangan-Wanita-Free-Box--i.348937628.4873643776\",\n",
              " 'https://shopee.com.my/Her-Jewellery-Sonia-Leather-Watch-Premium-Crystals-with-18K-Real-Gold-Plated-i.18175023.314301325',\n",
              " 'https://shopee.com.my/Cartoon-50m-Waterproof-Digital-LED-Children-Pikachu-Mickey-Doraemon-Watch-Girl-Boy-Sports-Silicone-Band-i.83591286.7368006527',\n",
              " 'https://shopee.com.my/Sanda-Bluetooth-Call-Smart-Watch-Music-Player-Waterproof-Watch-Exercise-Heart-Rate-Fitness-Music-Men-Watch-Women-Smart-Watch-Calories-Blood-Pressure-i.173426679.4760114120',\n",
              " 'https://shopee.com.my/Bostanten-Multi-function-Digital-Sports-Men-Watch-Waterproof-and-Shock-Resistant-Jam-Tangan-Lelaki-i.348937628.7773626798',\n",
              " 'https://shopee.com.my/SKMEI-Fashion-Couple-Watch-Women-Original-Casual-Waterproof-Quartz-Watches-Men-Digital-Watches-Stainless-Steel-Wristwatch-Jam-Tangan-Perempuan-Lelaki-i.83591286.6831817059',\n",
              " 'https://shopee.com.my/SANDA-Waterproof-Men-Watch-Stainless-Steel-Digital-Swimming-Watch-for-Men-Watch-i.173426679.2716995879',\n",
              " 'https://shopee.com.my/SKMEI-Women-Fashion-Simple-Quartz-Watch-Leather-Ladies-Waterproof-Clock-watches-i.83591286.2008236758',\n",
              " \"https://shopee.com.my/Bostanten-Men's-Ultra-Thin-Waterproof-Quartz-Leather-Original-Watch-For-Men-Jam-Tangan-Lelaki-i.348937628.8242665465\",\n",
              " \"https://shopee.com.my/100-Original-Men's-Watch-and-Sunglasses-High-end-Luxury-Gift-2pcs-set-with-Gift-Box-Business-Casual-Holiday-Gift-Men's-Gifts-Hadiah-Untuk-Lelaki-i.348937628.6273588191\",\n",
              " \"https://shopee.com.my/Q-Q-Japan-by-Citizen-Men's-Resin-Analogue-Watch-VS44-i.183733032.5713461182\",\n",
              " 'https://shopee.com.my/Bostanten-Dial-Women-Leather-Quartz-Watch-Classic-Rainbow-Jam-Tangan-Wanita-Free-Box--i.348937628.8607514386',\n",
              " 'https://shopee.com.my/Q-Q-Japan-by-Citizen-Unisex-Resin-Analogue-Watch-VP46-i.183733032.3700050771',\n",
              " 'https://shopee.com.my/SANDA-Waterproof-Men-Watch-Sports-Luxury-Quartz-LED-Multifunction-Swimming-Military-Mens-Watch-6008-i.173426679.4056674845',\n",
              " \"https://shopee.com.my/SKMEI-Women's-Waterproof-Sport-Alarm-LED-Digital-Wristwatch-Bracelet-Sport-Watch-Couple-i.83591286.1417127047\",\n",
              " 'https://shopee.com.my/OPK-Square-Watch-Women-Original-Jam-Tangan-Perempuan-Wanita-Waterproof-Stainless-Steel-Quartz-Luminous-Calendar-Display-Relo-Fashion-Ladies-Watch-For-Women-i.56027601.8210614604',\n",
              " 'https://shopee.com.my/Bostanten-Ultra-Thin-Wrist-Women-Watches-Luxury-Female-Clock-Fashion-Montre-Femme-Ladies-Quartz-Watch-Jam-Tangan-Wanita-i.348937628.10308657672',\n",
              " 'https://shopee.com.my/100-original-WISHDOIT-Jam-Tangan-Lelaki-Perempuan-Wanita-Couple-watch-set-Men-Business-Casual-Women-Waterproof-Stainless-steel-Quartz-Ladies-watches-Luminous-Free-Box-Leather-strap--i.295319610.6946034883',\n",
              " 'https://shopee.com.my/Fossil-Rhett-Chronograph-Watch-BQ1009-i.93161366.3700669201',\n",
              " 'https://shopee.com.my/-SHOPEE-EXCLUSIVE-Ice-Watch-ICE-Glam-Pastel-Medium-Pink-Lady-i.36618696.1331364788',\n",
              " \"https://shopee.com.my/Bostanten-Men'S-Digital-Sports-Watch-Multifunctional-Waterproof-Military-Jam-Tangan-Lelaki-i.348937628.7873362060\",\n",
              " 'https://shopee.com.my/%E3%80%90Official-original%E3%80%91WISHDOIT-jam-tangan-lelaki-Multifunction-waterproof-watch-analog-watch-Quartz-watch-Men-watch-Sports-watch-Stainless-steel-watch-black-watch-luxury-watch-luminous-watch-casual-watch-authentic-watches-chronograph-can-swimming-i.295319610.6347227429',\n",
              " \"https://shopee.com.my/%E3%80%8AReady-stock%E3%80%8BLIGE-Men's-Waterproof-Sport-Quartz-Stainless-Steel-Watch%E3%80%8Ajam-tangan-lelaki%E3%80%8B-i.118070725.1810470325\",\n",
              " \"https://shopee.com.my/Sanda-Women-Watch-Waterproof-Luxury-Fashion-Multifunctional-Luminous-Chronograph-Outdoor-Women's-Watch-i.173426679.5043778210\",\n",
              " 'https://shopee.com.my/Q-Q-Japan-by-Citizen-Floral-Dial-Ladies-Resin-Analogue-Watch-VS12-i.183733032.7259208431',\n",
              " 'https://shopee.com.my/Q-Q-Japan-by-Citizen-Unisex-Resin-Analogue-Watch-VS52-i.183733032.6740346666',\n",
              " \"https://shopee.com.my/SKMEI-Ultra-Light-Stainless-Steel-Men's-Watch-Silicone-Strap-Boy-Style-Quartz-Black-Color-Gold-i.83591286.4751946308\",\n",
              " 'https://shopee.com.my/SANDA-Sports-Watch-Men-Watch-Waterproof-Army-Green-Analog-Military-Fashion-LED-Digital-Multi-function-Men-Watch-i.173426679.5169466194',\n",
              " 'https://shopee.com.my/NAVIFORCE-Mens-Sport-Leather-Waterproof-Wrist-Watch%EF%BC%88with-original-box)-Jam-tangan-i.50942824.823041839',\n",
              " \"https://shopee.com.my/WISHDOIT-100-Asal-rasmi-Jam-Tangan-lelaki-original-Waterproof-Men-watch-Stainless-steel-Quartz-analog-watch-for-Men's-Business-Sun-Moon-Star-Multifunction-Chronograph-Calendar-Luminous-Fashion-Wristwatch-i.392351144.6180266800\",\n",
              " 'https://shopee.com.my/Bostanten-Fashion-Gift-Bag-i.348937628.6173650447',\n",
              " 'https://shopee.com.my/SKMEI-Watch-Box-Small-Light-Weight-Simple-Package-Packing-Case-i.83591286.3842501740',\n",
              " \"https://shopee.com.my/Q-Q-Japan-by-Citizen-Kids'-Resin-Analogue-Watch-VS59-i.183733032.7148697204\",\n",
              " 'https://shopee.com.my/NAVIFORCE-Dual-Display-Watch-Men-Army-Military-Sports-Watches-Man-Leather-Chronograph-Montre-Homme-2018-i.85632368.1449062756',\n",
              " 'https://shopee.com.my/SUBMARINE-Men-Watch-Fashion-Sports-Analog-Waterproof-Kids-Watch-I-Jam-Tangan-Budak-Lelaki-Wanita-TP-2145-M-PS-i.259271535.4380333241',\n",
              " \"https://shopee.com.my/SKMEI-Men's-Digital-Waterproof-LED-Clocks-Sports-Watch-(50M)-i.83591286.1416899338\",\n",
              " \"https://shopee.com.my/WISHDOIT-100-Asal-rasmi-Jam-Tangan-lelaki-original-Waterproof-Men-watch-Leather-strap-Quartz-analog-watch-for-Men's-Sport-Multifunction-Chronograph-Calendar-Luminous-Fashion-Wristwatch-i.392351144.3786205093\",\n",
              " 'https://shopee.com.my/Bostanten-Classic-Rainbow-Dial-Women-Leather-Quartz-Watch-i.165261705.3545217919',\n",
              " 'https://shopee.com.my/NAVIFORCE-Women-Ladies-Girl-Fashion-Casual-Analog-Quartz-Watch-i.50942824.2193554661',\n",
              " 'https://shopee.com.my/Q-Q-Japan-by-Citizen-Unisex-Resin-Analogue-Watch-VR28-i.183733032.6734152266',\n",
              " 'https://shopee.com.my/SANDA-Waterproof-Men-Watch-LED-Running-Sports-Chronograph-Stopwatch-Fashion-Men-Watch-i.173426679.2717121829',\n",
              " 'https://shopee.com.my/SKMEI-Women-Fashion-Watches-Quartz-Waterproof-Watch-Stainless-Steel-Elegant-Wristwatches-Ladies-i.83591286.8125957243',\n",
              " \"https://shopee.com.my/SANDA-Men's-Watch-Waterproof-Chronograph-Dual-Display-Multifunction-Sports-Fashion-Men-Watch-i.173426679.2735020805\",\n",
              " 'https://shopee.com.my/-Clearance-SKMEI-Women-Classic-Square-Dial-Quartz-Wristwatches-Fashion-Casual-Watch-Leather-Strap-watches-i.83591286.4449917748',\n",
              " \"https://shopee.com.my/WISHDOIT-100-Asal-rasmi-Jam-Tangan-lelaki-original-Waterproof-Men-watch-Leather-strap-Quartz-analog-watch-for-Men's-Business-Sport-Multifunction-Chronograph-Calendar-Luminous-Fashion-Wristwatch-i.392351144.8218984622\",\n",
              " 'https://shopee.com.my/B016-Stainless-Steel-Digital-Watch-Strap-Band-Time-Function-Luxury-Style-i.83591286.4071133356',\n",
              " 'https://shopee.com.my/SKMEI-M4-Smart-Bracelet-Sport-Fitness-Tracker-Pedometer-Heart-Rate-Blood-Pressure-Bluetooth-Smartband-IOS-Android-i.83591286.6422564346',\n",
              " 'https://shopee.com.my/Rubber-Strap-Watch-Digital-Band-Sports-Multi-color-Touch-Screen-Soft-Wristband-i.83591286.7571134752',\n",
              " \"https://shopee.com.my/%E3%80%90Produk-Rasmi%E3%80%91WISHDOIT-Women's-temperament-simple-casual-watch-leather-quartz-watches-Fashion-elegant-watch-Waterproof-swimming-Luminous-week-calendar-functions-All-match-girl-student-watch-i.295319610.7949364341\",\n",
              " \"https://shopee.com.my/CRRJU-Fashion-Men's-Ultra-thin-Waterproof-Sports-Quartz-Watches-g-shock-i.131966034.2176052765\",\n",
              " 'https://shopee.com.my/SKMEI-Men-Women-Large-Size-Sport-Watch-Analog-Digital-Large-Dial-Alarm-Watch-Dual-Display-Waterproof-Wristwatches-Boys-Girls-i.83591286.6740018671',\n",
              " \"https://shopee.com.my/SKMEI-Men's-Watches-Steel-Belt-Dive-Sports-Quartz-Watches-Free-Box-i.83591286.9586259801\",\n",
              " 'https://shopee.com.my/WISHDOIT-100-Asal-rasmi-Jam-Tangan-Lelaki-Pasangan-Perempuan-Wanita-Couple-watch-set-Original-Men-Business-Casual-Women-Waterproof-Stainless-steel-Quartz-Ladies-watches-Luminous-Free-Box-Leather-Strap--i.392351144.12803483343',\n",
              " 'https://shopee.com.my/Q-Q-Japan-by-Citizen-Ladies-Stainless-Steel-Mesh-Analogue-Watch-QA21-i.183733032.7700741187',\n",
              " 'https://shopee.com.my/SKMEI-1.54inch-Smart-Watch-Bluetooth-Call-Touch-Screen-Music-Control-Sport-Tracker-Heart-Rate-Monitoring-i.83591286.7164327246',\n",
              " \"https://shopee.com.my/WISHDOIT-100-Asal-rasmi-Jam-Tangan-lelaki-original-Waterproof-Men-watch-Stainless-steel-Quartz-analog-watch-for-Men's-Business-Sport-Multifunction-Chronograph-Calendar-Luminous-Fashion-Wristwatch-Black-i.392351144.6780261816\",\n",
              " 'https://shopee.com.my/SKMEI-Men-Sports-Shock-Watch-3Time-Chrono-Alarm-Date-Week-Display-LED-Light-Digital-Big-Dial-Military-Men-Sports-Watches-i.83591286.4547430211',\n",
              " 'https://shopee.com.my/%E3%80%8AReady-stock%E3%80%8BLIGE-Jam-Tangan-Perempuan-Lelaki-Couple-Watch-Women-Original-Casual-Waterproof-Quartz-Luminous-Leather-Watch-Men-Watches-i.118070725.10230010416',\n",
              " \"https://shopee.com.my/SKMEI-Men's-Sports-Waterproof-LED-Light-Display-Digital-Watch-i.83591286.1413870483\",\n",
              " \"https://shopee.com.my/CURREN-jam-tangan-lelaki-Men's-Military-Sport-Quartz-Watch-Men-Fashion-Business-Waterproof-Cheap-Watch-i.131966034.2230012866\",\n",
              " \"https://shopee.com.my/%E3%80%90Official-original%E3%80%91WISHDOIT-jam-tangan-lelaki-original-jam-Men's-watch-PU-Leather-strap-jam-tangan-korean-style-jam-tangan-pria-fashion-pria-jam-tangan-Sport-watch-Multifunction-chronograph-swimming-waterproof-watch-Luminous-Quartz-men-analogue-watches-i.295319610.5078632109\",\n",
              " \"https://shopee.com.my/GCHOK-New-Men's-Watch-Outdoor-Sport-Waterproof-Multi-Function-Dual-Display-Luminous-Watches-i.18235532.10315275952\",\n",
              " 'https://shopee.com.my/Q-Q-Japan-by-Citizen-Ladies-Rubber-Analogue-Watch-VS13-V01A-i.183733032.9806243626',\n",
              " 'https://shopee.com.my/Sanda-Sports-Watch-Women-Waterproof-Multifunctional-Wristwatch-Women-i.173426679.5042190176',\n",
              " 'https://shopee.com.my/SKMEI-Smart-Watch-Multifunctional-Sports-Bracelet-Smart-Wristband-IP67-Fit-Bit-Smart-Digital-Wristwatches-Fitness-Heart-Rate-i.83591286.3438318561']"
            ]
          },
          "metadata": {},
          "execution_count": 7
        }
      ]
    },
    {
      "cell_type": "markdown",
      "metadata": {
        "id": "jDGgdmvRsnac"
      },
      "source": [
        "##**Step 1: Define Function to Extract Watch Style**\n",
        "The function named get_style is used to extract the style for each watches."
      ]
    },
    {
      "cell_type": "code",
      "metadata": {
        "id": "BzK92xtmheRJ"
      },
      "source": [
        "def get_style(links, watch_style_lst):\n",
        "    # webdriver is imported in Part 1 Step 1\n",
        "    options = webdriver.ChromeOptions()\n",
        "    options.add_argument('--headless')\n",
        "    options.add_argument('--no-sandbox')\n",
        "    options.add_argument('--disable-dev-shm-usage')\n",
        "    wd = webdriver.Chrome('chromedriver',options=options)\n",
        "    wd.get(links)\n",
        "    wd.implicitly_wait(10)\n",
        "    watch_styles_sub = wd.find_elements(By.CLASS_NAME, '_3QRNmL')\n",
        "    watch_styles_sub[2].get_attribute('innerHTML')\n",
        "    for index, value in enumerate(watch_styles_sub):\n",
        "        if index == 2:\n",
        "            watch_style_lst.append(value.get_attribute('innerHTML'))\n",
        "    wd.quit()"
      ],
      "execution_count": null,
      "outputs": []
    },
    {
      "cell_type": "markdown",
      "metadata": {
        "id": "75nXyyvJcxjK"
      },
      "source": [
        "##**Step 2: Extraction of all watches' style**\n",
        "The function get_style is called and the style for each watches saved in variable watch_styles_lst are listed. Before saving the extract style to a dataframe called watch_df, the unique styles of watches will be stored in variable named as unique_styles and its values are listed later."
      ]
    },
    {
      "cell_type": "code",
      "metadata": {
        "colab": {
          "base_uri": "https://localhost:8080/"
        },
        "id": "mlKiW7-xtnOz",
        "outputId": "1dc1c29e-1701-41ef-9a3f-769f41fbd892"
      },
      "source": [
        "watch_style_lst = []\n",
        "for i in product_link:\n",
        "    get_style(i, watch_style_lst)\n",
        "print('Scraping Watch Style -- Done!')"
      ],
      "execution_count": null,
      "outputs": [
        {
          "output_type": "stream",
          "name": "stdout",
          "text": [
            "Scraping Watch Style -- Done!\n"
          ]
        }
      ]
    },
    {
      "cell_type": "code",
      "metadata": {
        "colab": {
          "base_uri": "https://localhost:8080/"
        },
        "id": "FuHy3-8Hn52O",
        "outputId": "90ba0e6e-de4b-4492-a307-12332e42be24"
      },
      "source": [
        "len(watch_style_lst)"
      ],
      "execution_count": null,
      "outputs": [
        {
          "output_type": "execute_result",
          "data": {
            "text/plain": [
              "173"
            ]
          },
          "metadata": {},
          "execution_count": 10
        }
      ]
    },
    {
      "cell_type": "code",
      "metadata": {
        "colab": {
          "base_uri": "https://localhost:8080/"
        },
        "id": "rvzCk-TijwOQ",
        "outputId": "45c9cd1d-ce9b-405e-c266-c3e5841f634f"
      },
      "source": [
        "watch_style_lst"
      ],
      "execution_count": null,
      "outputs": [
        {
          "output_type": "execute_result",
          "data": {
            "text/plain": [
              "['Business &amp; Casual',\n",
              " 'Business &amp; Casual',\n",
              " 'Business &amp; Casual',\n",
              " 'Business &amp; Casual',\n",
              " \"Women's Sports\",\n",
              " \"Women's Casual\",\n",
              " 'Business &amp; Casual',\n",
              " 'Business &amp; Casual',\n",
              " 'Straps &amp; Clasps',\n",
              " 'Business &amp; Casual',\n",
              " 'Business &amp; Casual',\n",
              " 'Business &amp; Casual',\n",
              " 'Business Set',\n",
              " 'Business &amp; Casual',\n",
              " 'Business &amp; Casual',\n",
              " 'Straps &amp; Clasps',\n",
              " 'Business &amp; Casual',\n",
              " \"Women's Business\",\n",
              " 'Business &amp; Casual',\n",
              " 'Others',\n",
              " 'Business &amp; Casual',\n",
              " \"Women's Sports\",\n",
              " \"Women's Sports\",\n",
              " 'Others',\n",
              " \"Women's Sports\",\n",
              " 'Business &amp; Casual',\n",
              " \"Women's Sports\",\n",
              " 'Business Set',\n",
              " 'Business &amp; Casual',\n",
              " \"Women's Casual\",\n",
              " \"Women's Business\",\n",
              " 'Business &amp; Casual',\n",
              " 'Business &amp; Casual',\n",
              " 'Business &amp; Casual',\n",
              " 'Business &amp; Casual',\n",
              " 'Business &amp; Casual',\n",
              " \"Women's Casual\",\n",
              " 'Display &amp; Storage',\n",
              " \"Women's Sports\",\n",
              " \"Women's Sports\",\n",
              " 'Business &amp; Casual',\n",
              " \"Women's Sports\",\n",
              " \"Women's Sports\",\n",
              " 'Business &amp; Casual',\n",
              " \"Women's Casual\",\n",
              " 'Display &amp; Storage',\n",
              " 'Business &amp; Casual',\n",
              " 'Display &amp; Storage',\n",
              " 'Business &amp; Casual',\n",
              " \"Women's Casual\",\n",
              " \"Women's Sports\",\n",
              " 'Business &amp; Casual',\n",
              " 'Business &amp; Casual',\n",
              " 'Display &amp; Storage',\n",
              " \"Women's Casual\",\n",
              " \"Women's Casual\",\n",
              " 'Business &amp; Casual',\n",
              " \"Women's Casual\",\n",
              " \"Women's Casual\",\n",
              " \"Women's Casual\",\n",
              " 'Business &amp; Casual',\n",
              " 'Business &amp; Casual',\n",
              " \"Women's Casual\",\n",
              " 'Business &amp; Casual',\n",
              " 'Business &amp; Casual',\n",
              " \"Women's Casual\",\n",
              " 'Casual Set',\n",
              " \"Women's Casual\",\n",
              " \"Women's Casual\",\n",
              " \"Women's Casual\",\n",
              " \"Women's Casual\",\n",
              " 'Business &amp; Casual',\n",
              " '(GWP) CATEPILLAR Limited Edition Sport Towel (Not For Sale)',\n",
              " 'Business &amp; Casual',\n",
              " \"Women's Casual\",\n",
              " \"Women's Business\",\n",
              " \"Women's Business\",\n",
              " 'Business &amp; Casual',\n",
              " \"Women's Casual\",\n",
              " 'Business &amp; Casual',\n",
              " 'Business &amp; Casual',\n",
              " \"Women's Business\",\n",
              " 'Business &amp; Casual',\n",
              " 'Business &amp; Casual',\n",
              " \"Women's Casual\",\n",
              " 'Business &amp; Casual',\n",
              " 'Business &amp; Casual',\n",
              " \"Women's Casual\",\n",
              " 'Business Set',\n",
              " \"Women's Casual\",\n",
              " \"Women's Casual\",\n",
              " 'Business &amp; Casual',\n",
              " 'Business &amp; Casual',\n",
              " 'Business &amp; Casual',\n",
              " 'Straps &amp; Clasps',\n",
              " \"Women's Casual\",\n",
              " \"Women's Sports\",\n",
              " \"Women's Casual\",\n",
              " 'Business &amp; Casual',\n",
              " \"Women's Business\",\n",
              " 'Business &amp; Casual',\n",
              " 'Business &amp; Casual',\n",
              " 'Business &amp; Casual',\n",
              " \"Women's Casual\",\n",
              " 'Business &amp; Casual',\n",
              " 'Business Set',\n",
              " 'Business &amp; Casual',\n",
              " 'Business Set',\n",
              " \"Women's Casual\",\n",
              " \"Women's Business\",\n",
              " \"Women's Sports\",\n",
              " \"Women's Sports\",\n",
              " 'Business &amp; Casual',\n",
              " 'Casual Set',\n",
              " 'Business &amp; Casual',\n",
              " \"Women's Casual\",\n",
              " 'Business &amp; Casual',\n",
              " 'Business &amp; Casual',\n",
              " 'Business &amp; Casual',\n",
              " \"Women's Casual\",\n",
              " \"Women's Sports\",\n",
              " 'Business &amp; Casual',\n",
              " 'Casual Set',\n",
              " \"Women's Business\",\n",
              " 'Business Set',\n",
              " 'Business Set',\n",
              " 'Business &amp; Casual',\n",
              " \"Women's Casual\",\n",
              " 'Business &amp; Casual',\n",
              " 'Business &amp; Casual',\n",
              " 'Business &amp; Casual',\n",
              " \"Women's Casual\",\n",
              " \"Women's Casual\",\n",
              " \"Women's Casual\",\n",
              " 'Business &amp; Casual',\n",
              " 'Business &amp; Casual',\n",
              " 'Business &amp; Casual',\n",
              " 'Business &amp; Casual',\n",
              " 'Display &amp; Storage',\n",
              " 'Display &amp; Storage',\n",
              " 'Business &amp; Casual',\n",
              " 'Business &amp; Casual',\n",
              " 'Business &amp; Casual',\n",
              " 'Business &amp; Casual',\n",
              " 'Business &amp; Casual',\n",
              " \"Women's Business\",\n",
              " \"Women's Business\",\n",
              " \"Women's Casual\",\n",
              " 'Business &amp; Casual',\n",
              " \"Women's Casual\",\n",
              " 'Business &amp; Casual',\n",
              " \"Women's Business\",\n",
              " 'Business &amp; Casual',\n",
              " 'Straps &amp; Clasps',\n",
              " \"Women's Sports\",\n",
              " 'Straps &amp; Clasps',\n",
              " \"Women's Casual\",\n",
              " 'Business &amp; Casual',\n",
              " 'Business &amp; Casual',\n",
              " 'Business Set',\n",
              " 'Business Set',\n",
              " \"Women's Casual\",\n",
              " \"Women's Sports\",\n",
              " 'Business &amp; Casual',\n",
              " 'Business &amp; Casual',\n",
              " 'Casual Set',\n",
              " 'Business &amp; Casual',\n",
              " 'Business &amp; Casual',\n",
              " 'Business &amp; Casual',\n",
              " 'Business &amp; Casual',\n",
              " \"Women's Casual\",\n",
              " \"Women's Casual\",\n",
              " \"Women's Sports\"]"
            ]
          },
          "metadata": {},
          "execution_count": 11
        }
      ]
    },
    {
      "cell_type": "code",
      "metadata": {
        "colab": {
          "base_uri": "https://localhost:8080/"
        },
        "id": "5-BFetKybRg4",
        "outputId": "a756d0cd-ee86-4cd1-f112-88142de6c796"
      },
      "source": [
        "unique_styles = set(watch_style_lst)\n",
        "unique_styles"
      ],
      "execution_count": null,
      "outputs": [
        {
          "output_type": "execute_result",
          "data": {
            "text/plain": [
              "{'(GWP) CATEPILLAR Limited Edition Sport Towel (Not For Sale)',\n",
              " 'Business &amp; Casual',\n",
              " 'Business Set',\n",
              " 'Casual Set',\n",
              " 'Display &amp; Storage',\n",
              " 'Others',\n",
              " 'Straps &amp; Clasps',\n",
              " \"Women's Business\",\n",
              " \"Women's Casual\",\n",
              " \"Women's Sports\"}"
            ]
          },
          "metadata": {},
          "execution_count": 12
        }
      ]
    },
    {
      "cell_type": "code",
      "metadata": {
        "colab": {
          "base_uri": "https://localhost:8080/",
          "height": 423
        },
        "id": "nBQn99HjoQ20",
        "outputId": "24375db1-8c75-4345-b577-0dba60e820f1"
      },
      "source": [
        "watch_df = pd.DataFrame(watch_style_lst, columns=['Watch_Style'])\n",
        "watch_df"
      ],
      "execution_count": null,
      "outputs": [
        {
          "output_type": "execute_result",
          "data": {
            "text/html": [
              "<div>\n",
              "<style scoped>\n",
              "    .dataframe tbody tr th:only-of-type {\n",
              "        vertical-align: middle;\n",
              "    }\n",
              "\n",
              "    .dataframe tbody tr th {\n",
              "        vertical-align: top;\n",
              "    }\n",
              "\n",
              "    .dataframe thead th {\n",
              "        text-align: right;\n",
              "    }\n",
              "</style>\n",
              "<table border=\"1\" class=\"dataframe\">\n",
              "  <thead>\n",
              "    <tr style=\"text-align: right;\">\n",
              "      <th></th>\n",
              "      <th>Watch_Style</th>\n",
              "    </tr>\n",
              "  </thead>\n",
              "  <tbody>\n",
              "    <tr>\n",
              "      <th>0</th>\n",
              "      <td>Business &amp;amp; Casual</td>\n",
              "    </tr>\n",
              "    <tr>\n",
              "      <th>1</th>\n",
              "      <td>Business &amp;amp; Casual</td>\n",
              "    </tr>\n",
              "    <tr>\n",
              "      <th>2</th>\n",
              "      <td>Business &amp;amp; Casual</td>\n",
              "    </tr>\n",
              "    <tr>\n",
              "      <th>3</th>\n",
              "      <td>Business &amp;amp; Casual</td>\n",
              "    </tr>\n",
              "    <tr>\n",
              "      <th>4</th>\n",
              "      <td>Women's Sports</td>\n",
              "    </tr>\n",
              "    <tr>\n",
              "      <th>...</th>\n",
              "      <td>...</td>\n",
              "    </tr>\n",
              "    <tr>\n",
              "      <th>168</th>\n",
              "      <td>Business &amp;amp; Casual</td>\n",
              "    </tr>\n",
              "    <tr>\n",
              "      <th>169</th>\n",
              "      <td>Business &amp;amp; Casual</td>\n",
              "    </tr>\n",
              "    <tr>\n",
              "      <th>170</th>\n",
              "      <td>Women's Casual</td>\n",
              "    </tr>\n",
              "    <tr>\n",
              "      <th>171</th>\n",
              "      <td>Women's Casual</td>\n",
              "    </tr>\n",
              "    <tr>\n",
              "      <th>172</th>\n",
              "      <td>Women's Sports</td>\n",
              "    </tr>\n",
              "  </tbody>\n",
              "</table>\n",
              "<p>173 rows × 1 columns</p>\n",
              "</div>"
            ],
            "text/plain": [
              "               Watch_Style\n",
              "0    Business &amp; Casual\n",
              "1    Business &amp; Casual\n",
              "2    Business &amp; Casual\n",
              "3    Business &amp; Casual\n",
              "4           Women's Sports\n",
              "..                     ...\n",
              "168  Business &amp; Casual\n",
              "169  Business &amp; Casual\n",
              "170         Women's Casual\n",
              "171         Women's Casual\n",
              "172         Women's Sports\n",
              "\n",
              "[173 rows x 1 columns]"
            ]
          },
          "metadata": {},
          "execution_count": 13
        }
      ]
    },
    {
      "cell_type": "markdown",
      "metadata": {
        "id": "VqJFPyhYu7aJ"
      },
      "source": [
        "#**PART 3: EXTRACT WATCH BRAND WITH SELENIUM**\n",
        "The extraction of watches' brands utilize selenium and the list called product_link, same as in Part 3."
      ]
    },
    {
      "cell_type": "markdown",
      "metadata": {
        "id": "5UdWfD8yB5Kx"
      },
      "source": [
        "##**Step 1: Define function to Extract Watch Brand**\n",
        "The function named get_brand is used to extract the brand for each watches."
      ]
    },
    {
      "cell_type": "code",
      "metadata": {
        "id": "w7s2gLouvBUz"
      },
      "source": [
        "def get_brand(links, watch_brand_lst):\n",
        "    options = webdriver.ChromeOptions()\n",
        "    options.add_argument('--headless')\n",
        "    options.add_argument('--no-sandbox')\n",
        "    options.add_argument('--disable-dev-shm-usage')\n",
        "    wd = webdriver.Chrome('chromedriver',options=options)\n",
        "    wd.get(links)\n",
        "    wd.implicitly_wait(10)\n",
        "    watch_styles_sub = wd.find_elements(By.CLASS_NAME, '_3uf2ae')\n",
        "    watch_brand_lst.append(watch_styles_sub[0].get_attribute('innerHTML'))\n",
        "    wd.quit()"
      ],
      "execution_count": null,
      "outputs": []
    },
    {
      "cell_type": "markdown",
      "metadata": {
        "id": "K0zFPPueJWrq"
      },
      "source": [
        "##**Step 2: Extraction of all watches' brand**\n",
        "The function get_brand is called and the brand for each watches are saved in variable watch_brand_lst and are then listed. The unique brands of watches will be stored in a variable, named unique_brands and listed before saving the extract brands to a dataframe called watch_df."
      ]
    },
    {
      "cell_type": "code",
      "metadata": {
        "colab": {
          "base_uri": "https://localhost:8080/"
        },
        "id": "rb1FC_NOxjDt",
        "outputId": "15e59639-4bef-4259-f44e-a27068085ae2"
      },
      "source": [
        "watch_brand_lst = []\n",
        "for i in product_link:\n",
        "    get_brand(i, watch_brand_lst)\n",
        "print('Scraping Watch Brand -- Done!')"
      ],
      "execution_count": null,
      "outputs": [
        {
          "output_type": "stream",
          "name": "stdout",
          "text": [
            "Scraping Watch Brand -- Done!\n"
          ]
        }
      ]
    },
    {
      "cell_type": "code",
      "metadata": {
        "colab": {
          "base_uri": "https://localhost:8080/"
        },
        "id": "y2xWffWgsWSe",
        "outputId": "137d9a85-3cf2-4fd5-b8ec-e33fd742ce2c"
      },
      "source": [
        "len(watch_brand_lst)"
      ],
      "execution_count": null,
      "outputs": [
        {
          "output_type": "execute_result",
          "data": {
            "text/plain": [
              "173"
            ]
          },
          "metadata": {},
          "execution_count": 16
        }
      ]
    },
    {
      "cell_type": "code",
      "metadata": {
        "colab": {
          "base_uri": "https://localhost:8080/"
        },
        "id": "PbS8KE4bpuGH",
        "outputId": "5558812e-d648-41f8-ca00-68033e6f642c"
      },
      "source": [
        "watch_brand_lst"
      ],
      "execution_count": null,
      "outputs": [
        {
          "output_type": "execute_result",
          "data": {
            "text/plain": [
              "['olevs.os',\n",
              " 'naviforce.os',\n",
              " 'casio.os',\n",
              " 'skmei.os',\n",
              " 'skmei.os',\n",
              " 'carlorino.os',\n",
              " 'skmei.os',\n",
              " 'sanda.os',\n",
              " 'uniq_my',\n",
              " 'skmei.os',\n",
              " 'curren.os',\n",
              " 'naviforce.os',\n",
              " 'bostantenwatch.os',\n",
              " 'casio.os',\n",
              " 'sanda.os',\n",
              " 'bostanten.os',\n",
              " 'bostantenwatch.os',\n",
              " 'curren.os',\n",
              " 'bostantenwatch.os',\n",
              " 'uniq_my',\n",
              " 'skmei.os',\n",
              " 'skmei.os',\n",
              " 'skmei.os',\n",
              " 'skmei.os',\n",
              " 'sanda.os',\n",
              " 'skmei.os',\n",
              " 'skmei.os',\n",
              " 'skmei.os',\n",
              " 'wishdoitwatch.wh.os',\n",
              " 'naviforce.os',\n",
              " 'olevs.os',\n",
              " 'casio.os',\n",
              " 'sanda.os',\n",
              " 'skmei.os',\n",
              " 'bostanten_watchlocal.os',\n",
              " 'naviforce.os',\n",
              " 'qqmalaysia.os',\n",
              " 'skmei.os',\n",
              " 'sanda.os',\n",
              " 'qqmalaysia.os',\n",
              " 'casio.os',\n",
              " 'qqmalaysia.os',\n",
              " 'skmei.os',\n",
              " 'olevs.os',\n",
              " 'sanda.os',\n",
              " 'sanda.os',\n",
              " 'casio.os',\n",
              " 'qqmalaysia.os',\n",
              " 'qqmalaysia.os',\n",
              " 'olevs.os',\n",
              " 'skmei.os',\n",
              " 'curren.os',\n",
              " 'skmei.os',\n",
              " 'skmei.os',\n",
              " 'skmei.os',\n",
              " 'julius.os',\n",
              " 'naviforce.os',\n",
              " 'milliotandco.os',\n",
              " 'sanda.os',\n",
              " 'qqmalaysia.os',\n",
              " 'wishdoitwatch.wh.os',\n",
              " 'sanda.os',\n",
              " 'skmei.os',\n",
              " 'skmei.os',\n",
              " 'bostanten_watchlocal.os',\n",
              " 'olevs.os',\n",
              " 'billion.os',\n",
              " 'skmei.os',\n",
              " 'sanda.os',\n",
              " 'danielwellington.os',\n",
              " 'qqmalaysia.os',\n",
              " 'naviforce.os',\n",
              " 'catwatch.os',\n",
              " 'olevs.os',\n",
              " 'qqmalaysia.os',\n",
              " 'skmei.os',\n",
              " 'naviforce.os',\n",
              " 'skmei.os',\n",
              " 'wishdoitwatch.wh.os',\n",
              " 'skmei.os',\n",
              " 'naviforce.os',\n",
              " 'julius.os',\n",
              " 'wishdoitwatch.wh.os',\n",
              " 'qqmalaysia.os',\n",
              " 'casio.os',\n",
              " 'wsdwatch.os',\n",
              " 'skmei.os',\n",
              " 'qqmalaysia.os',\n",
              " 'olevs.os',\n",
              " 'olevs.os',\n",
              " 'qqmalaysia.os',\n",
              " 'naviforce.os',\n",
              " 'wsdwatch.os',\n",
              " 'ligewatch.os',\n",
              " 'amazfit.os',\n",
              " 'skmei.os',\n",
              " 'skmei.os',\n",
              " 'olevs.os',\n",
              " 'skmei.os',\n",
              " 'olevs.os',\n",
              " 'wsdwatch.os',\n",
              " 'casio.os',\n",
              " 'curren.os',\n",
              " 'qqmalaysia.os',\n",
              " 'skmei.os',\n",
              " 'skmei.os',\n",
              " 'wishdoitwatch.wh.os',\n",
              " 'bostantenwatch.os',\n",
              " 'bostanten_watchlocal.os',\n",
              " 'herjewellery123',\n",
              " 'skmei.os',\n",
              " 'sanda.os',\n",
              " 'bostanten_watchlocal.os',\n",
              " 'skmei.os',\n",
              " 'sanda.os',\n",
              " 'skmei.os',\n",
              " 'bostanten_watchlocal.os',\n",
              " 'bostanten_watchlocal.os',\n",
              " 'qqmalaysia.os',\n",
              " 'bostanten_watchlocal.os',\n",
              " 'qqmalaysia.os',\n",
              " 'sanda.os',\n",
              " 'skmei.os',\n",
              " 'olevs.os',\n",
              " 'bostanten_watchlocal.os',\n",
              " 'wsdwatch.os',\n",
              " 'fossil.os',\n",
              " 'icewatch.os',\n",
              " 'bostanten_watchlocal.os',\n",
              " 'wsdwatch.os',\n",
              " 'ligewatch.os',\n",
              " 'sanda.os',\n",
              " 'qqmalaysia.os',\n",
              " 'qqmalaysia.os',\n",
              " 'skmei.os',\n",
              " 'sanda.os',\n",
              " 'naviforce.os',\n",
              " 'wishdoitwatch.wh.os',\n",
              " 'bostanten_watchlocal.os',\n",
              " 'skmei.os',\n",
              " 'qqmalaysia.os',\n",
              " 'voarch.os',\n",
              " 'submarinewatch.os',\n",
              " 'skmei.os',\n",
              " 'wishdoitwatch.wh.os',\n",
              " 'bostantenwatch.os',\n",
              " 'naviforce.os',\n",
              " 'qqmalaysia.os',\n",
              " 'sanda.os',\n",
              " 'skmei.os',\n",
              " 'sanda.os',\n",
              " 'skmei.os',\n",
              " 'wishdoitwatch.wh.os',\n",
              " 'skmei.os',\n",
              " 'skmei.os',\n",
              " 'skmei.os',\n",
              " 'wsdwatch.os',\n",
              " 'curren.os',\n",
              " 'skmei.os',\n",
              " 'skmei.os',\n",
              " 'wishdoitwatch.wh.os',\n",
              " 'qqmalaysia.os',\n",
              " 'skmei.os',\n",
              " 'wishdoitwatch.wh.os',\n",
              " 'skmei.os',\n",
              " 'ligewatch.os',\n",
              " 'skmei.os',\n",
              " 'curren.os',\n",
              " 'wsdwatch.os',\n",
              " 'adshops.os',\n",
              " 'qqmalaysia.os',\n",
              " 'sanda.os',\n",
              " 'skmei.os']"
            ]
          },
          "metadata": {},
          "execution_count": 17
        }
      ]
    },
    {
      "cell_type": "code",
      "metadata": {
        "colab": {
          "base_uri": "https://localhost:8080/"
        },
        "id": "D8l3Mn05cG7_",
        "outputId": "342f206d-9eb7-4f1f-c13d-1a4f73609bf1"
      },
      "source": [
        "unique_brands = set(watch_brand_lst)\n",
        "unique_brands"
      ],
      "execution_count": null,
      "outputs": [
        {
          "output_type": "execute_result",
          "data": {
            "text/plain": [
              "{'adshops.os',\n",
              " 'amazfit.os',\n",
              " 'billion.os',\n",
              " 'bostanten.os',\n",
              " 'bostanten_watchlocal.os',\n",
              " 'bostantenwatch.os',\n",
              " 'carlorino.os',\n",
              " 'casio.os',\n",
              " 'catwatch.os',\n",
              " 'curren.os',\n",
              " 'danielwellington.os',\n",
              " 'fossil.os',\n",
              " 'herjewellery123',\n",
              " 'icewatch.os',\n",
              " 'julius.os',\n",
              " 'ligewatch.os',\n",
              " 'milliotandco.os',\n",
              " 'naviforce.os',\n",
              " 'olevs.os',\n",
              " 'qqmalaysia.os',\n",
              " 'sanda.os',\n",
              " 'skmei.os',\n",
              " 'submarinewatch.os',\n",
              " 'uniq_my',\n",
              " 'voarch.os',\n",
              " 'wishdoitwatch.wh.os',\n",
              " 'wsdwatch.os'}"
            ]
          },
          "metadata": {},
          "execution_count": 18
        }
      ]
    },
    {
      "cell_type": "code",
      "metadata": {
        "colab": {
          "base_uri": "https://localhost:8080/",
          "height": 423
        },
        "id": "Y2DtDSOap9GJ",
        "outputId": "dfdb1e5f-e1e1-4ccd-edf5-4b4b3511ce35"
      },
      "source": [
        "# Append to dataframe created in scraping watch style data\n",
        "watch_df['Watch_Brand'] = pd.DataFrame(watch_brand_lst, columns=['Watch_Brand'])\n",
        "watch_df"
      ],
      "execution_count": null,
      "outputs": [
        {
          "output_type": "execute_result",
          "data": {
            "text/html": [
              "<div>\n",
              "<style scoped>\n",
              "    .dataframe tbody tr th:only-of-type {\n",
              "        vertical-align: middle;\n",
              "    }\n",
              "\n",
              "    .dataframe tbody tr th {\n",
              "        vertical-align: top;\n",
              "    }\n",
              "\n",
              "    .dataframe thead th {\n",
              "        text-align: right;\n",
              "    }\n",
              "</style>\n",
              "<table border=\"1\" class=\"dataframe\">\n",
              "  <thead>\n",
              "    <tr style=\"text-align: right;\">\n",
              "      <th></th>\n",
              "      <th>Watch_Style</th>\n",
              "      <th>Watch_Brand</th>\n",
              "    </tr>\n",
              "  </thead>\n",
              "  <tbody>\n",
              "    <tr>\n",
              "      <th>0</th>\n",
              "      <td>Business &amp;amp; Casual</td>\n",
              "      <td>olevs.os</td>\n",
              "    </tr>\n",
              "    <tr>\n",
              "      <th>1</th>\n",
              "      <td>Business &amp;amp; Casual</td>\n",
              "      <td>naviforce.os</td>\n",
              "    </tr>\n",
              "    <tr>\n",
              "      <th>2</th>\n",
              "      <td>Business &amp;amp; Casual</td>\n",
              "      <td>casio.os</td>\n",
              "    </tr>\n",
              "    <tr>\n",
              "      <th>3</th>\n",
              "      <td>Business &amp;amp; Casual</td>\n",
              "      <td>skmei.os</td>\n",
              "    </tr>\n",
              "    <tr>\n",
              "      <th>4</th>\n",
              "      <td>Women's Sports</td>\n",
              "      <td>skmei.os</td>\n",
              "    </tr>\n",
              "    <tr>\n",
              "      <th>...</th>\n",
              "      <td>...</td>\n",
              "      <td>...</td>\n",
              "    </tr>\n",
              "    <tr>\n",
              "      <th>168</th>\n",
              "      <td>Business &amp;amp; Casual</td>\n",
              "      <td>wsdwatch.os</td>\n",
              "    </tr>\n",
              "    <tr>\n",
              "      <th>169</th>\n",
              "      <td>Business &amp;amp; Casual</td>\n",
              "      <td>adshops.os</td>\n",
              "    </tr>\n",
              "    <tr>\n",
              "      <th>170</th>\n",
              "      <td>Women's Casual</td>\n",
              "      <td>qqmalaysia.os</td>\n",
              "    </tr>\n",
              "    <tr>\n",
              "      <th>171</th>\n",
              "      <td>Women's Casual</td>\n",
              "      <td>sanda.os</td>\n",
              "    </tr>\n",
              "    <tr>\n",
              "      <th>172</th>\n",
              "      <td>Women's Sports</td>\n",
              "      <td>skmei.os</td>\n",
              "    </tr>\n",
              "  </tbody>\n",
              "</table>\n",
              "<p>173 rows × 2 columns</p>\n",
              "</div>"
            ],
            "text/plain": [
              "               Watch_Style    Watch_Brand\n",
              "0    Business &amp; Casual       olevs.os\n",
              "1    Business &amp; Casual   naviforce.os\n",
              "2    Business &amp; Casual       casio.os\n",
              "3    Business &amp; Casual       skmei.os\n",
              "4           Women's Sports       skmei.os\n",
              "..                     ...            ...\n",
              "168  Business &amp; Casual    wsdwatch.os\n",
              "169  Business &amp; Casual     adshops.os\n",
              "170         Women's Casual  qqmalaysia.os\n",
              "171         Women's Casual       sanda.os\n",
              "172         Women's Sports       skmei.os\n",
              "\n",
              "[173 rows x 2 columns]"
            ]
          },
          "metadata": {},
          "execution_count": 19
        }
      ]
    },
    {
      "cell_type": "markdown",
      "metadata": {
        "id": "Ou1oF08khBRW"
      },
      "source": [
        "#**PART 4: EXTRACT WATCH NAME SELENIUM**\n",
        "The extraction of watches' name utilize selenium and the list called product_link, same as in Part 3 and 4."
      ]
    },
    {
      "cell_type": "markdown",
      "metadata": {
        "id": "BMARDxT_JlmI"
      },
      "source": [
        "##**Step 1: Define Function to Extract Watch Name**\n",
        "The function named get_name is used to extract the name for each watches."
      ]
    },
    {
      "cell_type": "code",
      "metadata": {
        "id": "1VRxCcwXhGbc"
      },
      "source": [
        "def get_name(links, watch_name_lst):\n",
        "    options = webdriver.ChromeOptions()\n",
        "    options.add_argument('--headless')\n",
        "    options.add_argument('--no-sandbox')\n",
        "    options.add_argument('--disable-dev-shm-usage')\n",
        "    wd = webdriver.Chrome('chromedriver',options=options)\n",
        "    wd.get(links)\n",
        "    wd.implicitly_wait(10)\n",
        "    watch_styles_sub = wd.find_elements(By.XPATH, '/html/body/div[1]/div/div[2]/div[2]/div/div[2]/div[3]/div/div[1]/span')\n",
        "    watch_name_lst.append(watch_styles_sub[0].get_attribute('innerHTML'))\n",
        "    wd.quit()"
      ],
      "execution_count": null,
      "outputs": []
    },
    {
      "cell_type": "markdown",
      "metadata": {
        "id": "44b0TsboJvYk"
      },
      "source": [
        "##**Step 2: Extraction of all watches' name**\n",
        "The function get_name is called and the name for each watches saved in variable watch_name_lst are listed. The extracted names are saved to the watch_df dataframe."
      ]
    },
    {
      "cell_type": "code",
      "metadata": {
        "colab": {
          "base_uri": "https://localhost:8080/"
        },
        "id": "VrP9z983h2zs",
        "outputId": "114e34ed-ced5-4f6a-8d15-3bdd689d4463"
      },
      "source": [
        "watch_name_lst = []\n",
        "for i in product_link:\n",
        "    get_name(i, watch_name_lst)\n",
        "print('Scraping Watch Name -- Done!')"
      ],
      "execution_count": null,
      "outputs": [
        {
          "output_type": "stream",
          "name": "stdout",
          "text": [
            "Scraping Watch Name -- Done!\n"
          ]
        }
      ]
    },
    {
      "cell_type": "code",
      "metadata": {
        "colab": {
          "base_uri": "https://localhost:8080/"
        },
        "id": "hczlaYdctcnw",
        "outputId": "43c227b7-227a-45e4-c49b-da5f8bf2004c"
      },
      "source": [
        "len(watch_name_lst)"
      ],
      "execution_count": null,
      "outputs": [
        {
          "output_type": "execute_result",
          "data": {
            "text/plain": [
              "173"
            ]
          },
          "metadata": {},
          "execution_count": 22
        }
      ]
    },
    {
      "cell_type": "code",
      "metadata": {
        "colab": {
          "base_uri": "https://localhost:8080/"
        },
        "id": "G0zj0jilsfaB",
        "outputId": "3dca85ca-a5b8-4cf7-c1e1-9e11671c9d83"
      },
      "source": [
        "watch_name_lst"
      ],
      "execution_count": null,
      "outputs": [
        {
          "output_type": "execute_result",
          "data": {
            "text/plain": [
              "['OLEVS Jam Tangan Lelaki Original Watch Men Waterproof Stainless Steel Quartz Luminous Authentic Dragon Design Gold Watch For Men',\n",
              " 'NAVIFORCE 2021 Bussiness Watch Men Sport Quartz Watches Luxury Brand Leather Waterproof LED Digital Wristwatch',\n",
              " 'Casio General W-218H-3A Black Resin Band Men Youth Watch',\n",
              " \"SKMEI new men's outdoor waterproof sports large dial electronic watch multi-function dual display luminous electronic watch\",\n",
              " \"Kids Cute  Girl Cat Children's Kids Watch Gel Digital\",\n",
              " 'Carlo Rino Jade of The Orient - Dark Green',\n",
              " 'SKMEI Smart Watch Fashion Full Touch Screen Mens Sport Fitness Watches IP68 Waterproof Bluetooth Luxury Connection SmartWatch',\n",
              " 'Sanda Military Waterproof Quartz LED  Multi-function Luxury Fashion Men Watch',\n",
              " 'Uniq Aspen Strap for Apple Watch  - Grey Blue Green Series 1/2/3/4/5/6/SE/7 (38/40/41/42/44/45mm)',\n",
              " \"SKMEI  Fashion watch Men's Waterproof Sport Quartz Stainless Steel Steel Watch Wristwatches\",\n",
              " \"CURREN Men's g shock Chronograph Waterproof Watch Fashion Sports Waterproof Quartz jam tangan lelaki\",\n",
              " 'NAVIFORCE Mens Watch Top Brand Luxury Fashion Quartz Men Watches Waterproof Sports Male Military Wrist Watch',\n",
              " '【Christmas Gift】Jam Tangan Couple Set Top Brand Luxury Men Quartz Watches Women Waterproof Casual Date Couple Clock Male Wrist Watch',\n",
              " 'Casio General AEQ-110BW-9A Black Resin Band Men Youth Watch',\n",
              " \"SANDA Men Watch Sports Waterproof Watch LED Display Multifunction Men's Watch Digital Watch\",\n",
              " \"BOSTANTEN Men's Genuine Leather Ratchet Belt with Automatic Sliding Buckle\",\n",
              " \"Bostanten Official 2052 Ready Stock new model Multi-function Digital Waterproof Men's Sports Watch COD\",\n",
              " 'CURREN  Elegant Women Watch Classy Quartz g shock  Waterproof jam tangan perempuan Beautiful Flower Dial Quartz Wristwatches #ShopeeMY',\n",
              " \"Bostanten Classic Black Minimalist Leather Men's Quartz Watch（watch*1）\",\n",
              " 'Uniq Case for Apple Watch - Torres Black White Blue Series 1/2/3/4/5/6/SE (40mm 44mm)',\n",
              " 'SKMEI New Solar Power Outdoor Sports Watches Men Shock Digital watch',\n",
              " 'Boy Girl Kids Sports Waterproof Silicone Band LED Digital Wrist Watch',\n",
              " 'SKMEI I2 Sports Smart Watch IP67 Waterproof with Heart Rate Blood Pressure Oxygen Monitoring Smartband Long Standby Sport Smart Watch Android IOS',\n",
              " 'SKMEI replace watchbands only band not watch',\n",
              " 'Sanda Smart Watch IOS &amp; Android Bluetooth Fitness Watch with Pedometer Fashion Watch',\n",
              " 'SKMEI Men Quartz Watch Casual Ultra Thin Waterproof Simple Style Business Wristwatches',\n",
              " 'SKMEI Men Women Smart Watch Sport Clock Fitness Tracker Heart Rate Monitor Sleep Monitor IP67 Smartwatch for Android IOS',\n",
              " 'SKMEI Couple Watch Unisex Men Women Quartz Casual Stainless Steel Dress Dinner Analog Gold&amp;Silver',\n",
              " \"WISHDOIT [100% Asal rasmi] Jam Tangan lelaki original Waterproof Men watch Stainless steel Quartz analog watch for Men's Business Sport Multifunction Chronograph Calendar Luminous Fashion Wristwatch Green\",\n",
              " 'NAVIFORCE Women Watches Top Brand Luxury Stainless Steel Strap Wristwatch for Women Clock Stylish Quartz Ladies Watch',\n",
              " \"OLEVS Jam Tangan Perempuan Wanita Women Watches Original Wrist Watch Women's Casual Rose Gold Ultrathin Quartz Girl Steel Watch\",\n",
              " 'Casio General MQ-24-1B3 Black Resin Band Men Youth Watch',\n",
              " 'SANDA Men Watch Luxury Waterproof Quartz LED with Multi-function Swimming Watch 739',\n",
              " \"SKMEI 1454 Top luxury Men's Dual Display LED Digital PU Luxury  Strap Date Clock Watch\",\n",
              " 'Bostanten Men Sports Shock Watch 3Time Chrono Alarm Date Week Display LED Light Digital Big Dial Military Men Sports Watches Jam Tangan Lelaki',\n",
              " \"NAVIFORCE Men's Sport Leather Quartz LED Watch (with original box) Jam Tangan\",\n",
              " 'Q&amp;Q Japan by Citizen Unisex Resin Analogue Watch VS42',\n",
              " 'SKMEI logo Original Brand Metal Box Gift Box',\n",
              " 'Sanda Waterproof Women Watch Sports Watch Multifunction Outdoor Women Watch',\n",
              " 'Q&amp;Q Japan by Citizen Unisex Resin Analogue Watch A212',\n",
              " 'Casio General A168WA-1W Silver Stainless Steel Band Men Watch',\n",
              " \"Q&amp;Q Japan by Citizen Ladies'/Kids' Resin Analogue Watch VR19\",\n",
              " 'SKMEI SmartWatch Waterproof Bluetooth Sport Fitness Tracker Wristband for Men Women Pedometer heart rate Smart Band Bracelet',\n",
              " \"OLEVS Watch Men's Business New Jam Tangan Lelaki Original Quartz Watch Steel Strap Gold Waterproof Calendar Luminous Blue Black Green Men Casual Watch For Men\",\n",
              " 'SANDA Waterproof Women Watch Fashion Sports Digital Women Watch',\n",
              " '【Sanda official】Original Luxury Watch Gift Box',\n",
              " 'Casio General AE-1200WHD-1A Silver Stainless Steel Band Men Watch',\n",
              " '[Box Upgrade] Q&amp;Q Box QC225 [RM15 Only Please Purchase with Add-On]',\n",
              " \"Q&amp;Q Japan by Citizen Men's Resin Analogue Watch VS50\",\n",
              " \"OPK Watches for Women's Casual Water Resistant Quartz Luminous Watch  Jam tangan wanita  Wristwatches\",\n",
              " 'Kids Bracelet Digital LED Sport Watch',\n",
              " \"CURREN Men's Luxury Waterproof Sports Chronograph Quartz Military Leather Watch\",\n",
              " 'SKMEI Kiblat Watch Qibla Direction Time Reminder Nmane Display Worship Pray Compass Religious Month/Day Wristwatch for Ramadan Gift Hijri Calendar Pilgrimage',\n",
              " 'SKMEI LOGO BOX06 watch BOX Gift Box Package',\n",
              " 'SKMEI Women Luxury Quartz Watch Fashion Design Water Resistant Mesh Stainless Steel Strap Rose Gold',\n",
              " \"JULIUS Store Women's Square Watches JA-496\",\n",
              " 'NAVIFORCE 100% Original Men Sport Quartz Stainless Steel Wrist Watch Silver Watch with box',\n",
              " 'Milliot &amp; Co.-Alexis Watch Set',\n",
              " '[Clearance] 【Sanda Official】Waterproof New Listing Women Watch Sports Watch Original Fashion Luxury Multifunctional Digital Chronograph Luminous 24 Hour Women Watch',\n",
              " 'Q&amp;Q Japan by Citizen Unisex Rubber Analogue Watch VS12',\n",
              " \"WISHDOIT [100% Asal rasmi] Jam Tangan lelaki original Waterproof Men watch Stainless steel strap Quartz analog watch for Men's Business Sport Multifunction Chronograph Calendar Luminous Fashion Wristwatch Jam hitam\",\n",
              " \"SANDA Men Watch Waterproof Fashion Sports Luxury Multi-function Analog Men's Watch\",\n",
              " \"SKMEI Women's Quartz Watch Silicone Waterproof Sport Wristwatch Bracelet Sport watch\",\n",
              " 'SKMEI Sports Waterproof Digital Watches Countdown Alarm Fashion Wristwatch Clock',\n",
              " 'Bostanten Leather Strap Quartz Watch Simple Clasic Original Waterproof Watches Men Jam Tangan Lelaki [Free Box]',\n",
              " 'OPK Jam Tangan Perempuan Wanita Murah Girl Ladies Watch Women Waterproof  Leather Strap Genuine Original Quartz Small Dial Luminous Flowing Rhinestone Trend Design',\n",
              " '{NOT FOR SALE} {FREE GIFT} Kit Kat Watch',\n",
              " 'SKMEI Simple Design Quartz Small Dial Watch Women Student',\n",
              " 'Sanda Women Watch Waterproof Luxury Digital Fashion Multifunctional Multifunction Chronograph Women Watch',\n",
              " 'Daniel Wellington Petite Cornwall Black Watch 28/32mm - Rose Gold - Nato strap - DW Watch for women - Fashion watch - DW official - Authentic - jam tangan perempuan - jam tangan lelaki - jam tangan perempuan - jam tangan wanita',\n",
              " 'Q&amp;Q Japan by Citizen Ladies Leather Analogue Watch Q979 / QZ87',\n",
              " 'NAVIFORCE Men Military Dual Display Quartz LED Stainless Steel Waterproof Watch - Silver',\n",
              " '(GWP) CATEPILLAR Limited Edition Sport Towel (Not For Sale)',\n",
              " \"OLEVS Jam Tangan Lelaki Original Waterproof Watch Men Quartz Analog Genuine Leather Business Sun Moon Star Multifunctional Calendar Luminous Fashion Men's Watches\",\n",
              " 'Q&amp;Q Japan by Citizen Ladies Resin Analogue Watch VP34',\n",
              " 'Cute Candy Color Sports Digital LED Men Women Kid Student Watch Jam Tangan Lelaki Wanita Kanak',\n",
              " '2021 Cute Candy Color Sports Digital LED Men Women Kid Student Watch Jam Tangan Lelaki Wanita Kanak',\n",
              " 'SKMEI Sports Watch Shock LED Digital JAM TANGAN Outdoor Multifunction Data Calendar Running',\n",
              " \"WISHDOIT [100% Asal rasmi] Jam Tangan perempuan wanita original Waterproof Ladies watch Leather strap Quartz analog watch for Women's Multifunction Calendar Luminous Casual Fashion Wristwatch\",\n",
              " \"SKMEI Ready Stock new model Multi-function Digital Waterproof Men's Sports Watch\",\n",
              " 'Voarch Smart Watch Men Woman Full Smartwatch waterproof Heart Rate Sleep Monitor For iOS Android phone',\n",
              " 'JULIUS Quartz Waterproof Watch Natural Leather Strap JA-1112',\n",
              " \"WISHDOIT [100% Asal rasmi] Jam Tangan lelaki original Waterproof Men watch Stainless steel Quartz analog watch for Men's Business Sport Multifunction Chronograph Calendar Luminous Fashion Wristwatch\",\n",
              " 'Q&amp;Q Japan by Citizen Kids Resin Analogue Watch VR99',\n",
              " 'Casio General LTP-1302D-7A2 Stainless Steel Band Women Watch',\n",
              " '【Official original】WISHDOIT Jam Tangan lelaki Multifunction Waterproof watch LED Analog-Digita watch Quartz watch Men watch Sports watch Golden black watch luxury watch luminous watch authentic watches chronograph can swimming',\n",
              " \"SKMEI Kiblat Men's Qibla Direction Time Pilgrimage Watch LED Light Languege Selection Date Alarm Hijri Calendar Digital Religious Worship Pray\",\n",
              " 'Q&amp;Q Japan by Citizen Ladies Leather Analogue Watch QC35',\n",
              " '【Free Watch Box】OLEVS Luxury Jam Tangan Perempuan Lelaki Couple Watch Women Original Casual Waterproof Quartz Luminous Leather Watch Men Watches',\n",
              " \"Jam Tangan Perempuan Wanita Murah Original Ladies Watch Women's Casual Magnet Waterproof For girl\",\n",
              " 'Q&amp;Q Japan by Citizen Ladies Resin Analogue Watch VQ86',\n",
              " 'NAVIFORCE Men Analog Digital Leather Sports Military Quartz Watch(with original box) G Jam Tangan Shock',\n",
              " '【Asal rasmi】WISHDOIT jam tangan lelaki original Multifunction waterproof watch analog watch Quartz watch Men watch Sports watch Stainless steel watch black watch luxury watch luminous watch casual watch authentic watches chronograph can swimming',\n",
              " '《Ready stock》2021 New Men Watches LIGE Top Brand Luxury Waterproof Quartz Square Watch For Men Date Sport Hollow Clock Male Jam tangan lelaki',\n",
              " 'Amazfit Band 5 Strap [FREE GIFT]',\n",
              " \"SKMEI Women's Quartz PU Strap Waterproof Sport Wristwatches\",\n",
              " 'SKMEI Smart Watch Women Blood Pressure Heart Rate Sports Fitness watches Ultra Thin Smartwatch DIY Watch Faces for Android Ios',\n",
              " \"【Free Watch Box】Original Steel Watch Women's Casual Waterproof Rose Gold Quartz Watches Jam Tangan Wanita Perempuan Murah\",\n",
              " 'SKMEI Prayer Watch with Azan Time and Qibla Compass Hijri Calendar Adhan AlarmIslamic Muslim Wristwatch',\n",
              " 'Olevs Jam Tangan Perempuan Wanita Original Watch Women Waterproof Rose Gold Lady Girl Watch Set Gift',\n",
              " \"【Official original】WISHDOIT jam tangan lelaki Men watch Sport watch men's analogue watch chronograph Leather strap Luminous Quartz watches Multifunction swimming watch Really three-eye watch Business Casual couple watch\",\n",
              " 'Casio General F-91W-1S Black Resin Band Men Youth Watch',\n",
              " 'CURREN Mens Luxury Casual Quartz Wristwatches with Luminous hands Sport Chronograph Clock Stainless Steel Wrist Watches for Male',\n",
              " \"Q&amp;Q Japan by Citizen Ladies' Leather Analogue Watch QZ51\",\n",
              " \"SKMEI Men's Sport LED Back EL Light Display Watch Luxury Digital Wristwatches Waterproof\",\n",
              " 'SKMEI Leather Strap Watch Couple Simple Clasic Original Waterproof Watches Women Men',\n",
              " \"WISHDOIT [100% Asal rasmi] Jam Tangan lelaki original Waterproof Men watch Stainless steel strap Quartz analog watch for Men's Business Sun Moon Star Multifunction Calendar Luminous Fashion Wristwatch\",\n",
              " \"Jam Tangan Couple Set Bostanten Luxury Watches Men Women Couple Watches Ladies Original Casual Waterproof Quartz Watches Men's Classic Simple Resistant Leather Watches\",\n",
              " \"Bostanten Women's Leather Watch Creative Unique Style Charm Clock Jam Tangan Wanita [Free Box]\",\n",
              " 'Her Jewellery Sonia Leather Watch Premium Crystals with 18K Real Gold Plated',\n",
              " 'Cartoon 50m Waterproof Digital LED Children Pikachu Mickey Doraemon Watch Girl Boy Sports Silicone Band',\n",
              " 'Sanda Bluetooth Call Smart Watch Music Player Waterproof Watch Exercise Heart Rate Fitness Music Men Watch Women Smart Watch Calories Blood Pressure',\n",
              " 'Bostanten Multi-function Digital Sports Men Watch Waterproof and Shock Resistant Jam Tangan Lelaki',\n",
              " 'SKMEI Fashion Couple Watch Women Original Casual Waterproof Quartz Watches Men Digital Watches Stainless Steel Wristwatch Jam Tangan Perempuan Lelaki',\n",
              " 'SANDA Waterproof Men Watch Stainless Steel Digital Swimming Watch for Men Watch',\n",
              " 'SKMEI Women Fashion Simple Quartz Watch Leather Ladies Waterproof Clock watches',\n",
              " \"Bostanten Men's Ultra Thin Waterproof Quartz Leather Original  Watch For Men Jam Tangan Lelaki\",\n",
              " \"100% Original Men's Watch and Sunglasses High-end Luxury Gift 2pcs/set with Gift Box Business Casual Holiday Gift Men's Gifts Hadiah Untuk Lelaki\",\n",
              " \"Q&amp;Q Japan by Citizen Men's Resin Analogue Watch VS44\",\n",
              " 'Bostanten Dial Women Leather Quartz Watch - Classic Rainbow Jam Tangan Wanita [Free Box]',\n",
              " 'Q&amp;Q Japan by Citizen Unisex Resin Analogue Watch VP46 / V06A',\n",
              " 'SANDA Waterproof Men Watch Sports Luxury Quartz LED Multifunction Swimming Military Mens Watch 6008',\n",
              " \"SKMEI Women's Waterproof Sport Alarm LED Digital Wristwatch Bracelet Sport Watch Couple\",\n",
              " 'OPK Square Watch Women Original Jam Tangan Perempuan Wanita Waterproof Stainless Steel Quartz Luminous Calendar Display Relo Fashion Ladies Watch For Women',\n",
              " 'Bostanten Ultra-Thin Wrist Women Watches Luxury Female Clock Fashion Montre Femme Ladies Quartz Watch Jam Tangan Wanita',\n",
              " '100%original WISHDOIT Jam Tangan Lelaki Perempuan Wanita Couple watch set Men Business Casual Women Waterproof Stainless steel Quartz Ladies watches Luminous [Free Box+Leather strap]',\n",
              " 'Fossil Rhett Chronograph  Watch BQ1009',\n",
              " '[SHOPEE EXCLUSIVE] Ice-Watch ICE Glam Pastel Medium - Pink Lady',\n",
              " \"Bostanten Men'S Digital Sports Watch Multifunctional Waterproof Military Jam Tangan Lelaki\",\n",
              " '【Official original】WISHDOIT jam tangan lelaki Multifunction waterproof watch analog watch Quartz watch Men watch Sports watch Stainless steel watch black watch luxury watch luminous watch casual watch authentic watches chronograph can swimming',\n",
              " \"《Ready stock》LIGE Men's Waterproof Sport Quartz Stainless Steel Watch《jam tangan lelaki》\",\n",
              " \"Sanda Women Watch Waterproof Luxury Fashion Multifunctional Luminous Chronograph Outdoor Women's Watch\",\n",
              " 'Q&amp;Q Japan by Citizen Floral Dial Ladies Resin Analogue Watch VS12',\n",
              " 'Q&amp;Q Japan by Citizen Unisex Resin Analogue Watch VS52',\n",
              " \"SKMEI Ultra Light Stainless Steel Men's Watch Silicone Strap Boy Style Quartz Black Color Gold\",\n",
              " 'SANDA Sports Watch Men Watch Waterproof Army Green Analog Military Fashion LED Digital Multi-function Men Watch',\n",
              " 'NAVIFORCE Mens Sport Leather Waterproof Wrist Watch（with original box) Jam tangan',\n",
              " \"WISHDOIT [100% Asal rasmi] Jam Tangan lelaki original Waterproof Men watch Stainless steel Quartz analog watch for Men's Business Sun Moon Star Multifunction Chronograph Calendar Luminous Fashion Wristwatch\",\n",
              " 'Bostanten Fashion Gift Bag',\n",
              " 'SKMEI Watch Box Small Light Weight Simple Package Packing Case',\n",
              " \"Q&amp;Q Japan by Citizen Kids' Resin Analogue Watch VS59\",\n",
              " 'NAVIFORCE Dual Display Watch Men Army Military Sports Watches Man Leather Chronograph Montre Homme 2018',\n",
              " 'SUBMARINE Men Watch Fashion Sports Analog Waterproof Kids Watch I Jam Tangan Budak Lelaki Wanita TP-2145-M-PS',\n",
              " \"SKMEI Men's Digital Waterproof LED Clocks Sports Watch (50M)\",\n",
              " \"WISHDOIT [100% Asal rasmi] Jam Tangan lelaki original Waterproof Men watch Leather strap Quartz analog watch for Men's Sport Multifunction Chronograph Calendar Luminous Fashion Wristwatch\",\n",
              " 'Bostanten  Classic Rainbow Dial Women Leather Quartz Watch',\n",
              " 'NAVIFORCE Women Ladies Girl Fashion Casual Analog Quartz Watch',\n",
              " 'Q&amp;Q Japan by Citizen Unisex Resin Analogue Watch VR28',\n",
              " 'SANDA Waterproof Men Watch LED Running Sports Chronograph Stopwatch Fashion Men Watch',\n",
              " 'SKMEI Women Fashion Watches Quartz Waterproof Watch Stainless Steel Elegant Wristwatches Ladies',\n",
              " \"SANDA Men's Watch Waterproof Chronograph Dual Display Multifunction Sports Fashion Men Watch\",\n",
              " '[Clearance] SKMEI Women Classic Square Dial Quartz Wristwatches Fashion Casual Watch Leather Strap watches',\n",
              " \"WISHDOIT [100% Asal rasmi] Jam Tangan lelaki original Waterproof Men watch Leather strap Quartz analog watch for Men's Business Sport Multifunction Chronograph Calendar Luminous Fashion Wristwatch\",\n",
              " 'B016 Stainless Steel Digital Watch Strap Band Time Function Luxury Style',\n",
              " 'SKMEI M4 Smart Bracelet Sport Fitness Tracker Pedometer Heart Rate Blood Pressure Bluetooth Smartband IOS Android',\n",
              " 'Rubber Strap Watch Digital Band Sports Multi color Touch Screen Soft Wristband',\n",
              " \"【Produk Rasmi】WISHDOIT Women's temperament simple casual watch leather quartz watches Fashion elegant watch Waterproof swimming Luminous week calendar functions All-match girl student watch\",\n",
              " \"CRRJU Fashion Men's Ultra-thin Waterproof Sports Quartz Watches g shock\",\n",
              " 'SKMEI Men Women Large Size Sport Watch Analog Digital Large Dial Alarm Watch Dual Display Waterproof Wristwatches Boys Girls',\n",
              " \"SKMEI Men's Watches Steel Belt Dive Sports Quartz Watches Free Box\",\n",
              " 'WISHDOIT [100% Asal rasmi] Couple watch set Original Jam Tangan Pasangan Lelaki/Perempuan/Wanita Men Business Casual Women Waterproof Stainless steel Quartz Ladies watches Luminous [Free Box/Leather Strap]',\n",
              " 'Q&amp;Q Japan by Citizen Ladies Stainless Steel Mesh Analogue Watch QA21',\n",
              " 'SKMEI 1.54inch Smart Watch Bluetooth Call Touch Screen Music Control Sport Tracker Heart Rate Monitoring',\n",
              " \"WISHDOIT [100% Asal rasmi] Jam Tangan lelaki original Waterproof Men watch Stainless steel Quartz analog watch for Men's Business Sport Multifunction Chronograph Calendar Luminous Fashion Wristwatch Black\",\n",
              " 'SKMEI Men Sports Shock Watch 3Time Chrono Alarm Date Week Display LED Light Digital Big Dial Military Men Sports Watches',\n",
              " '《Ready stock》LIGE Jam Tangan Perempuan Lelaki Couple Watch Women Original Casual Waterproof Quartz Luminous Leather Watch Men Watches',\n",
              " \"SKMEI Men's Sports Waterproof LED Light Display Digital Watch\",\n",
              " \"CURREN  jam tangan lelaki Men's Military Sport Quartz Watch Men Fashion Business Waterproof Cheap Watch\",\n",
              " \"【Official original】WISHDOIT jam tangan lelaki original jam Men's watch PU Leather strap jam tangan korean style jam tangan pria fashion pria jam tangan Sport watch Multifunction chronograph swimming waterproof watch Luminous Quartz men analogue watches\",\n",
              " \"GCHOK New Men's Watch Outdoor Sport Waterproof Multi-Function Dual Display Luminous Watches\",\n",
              " 'Q&amp;Q Japan by Citizen Ladies Rubber Analogue Watch VS13 / V01A',\n",
              " 'Sanda  Sports Watch Women Waterproof Multifunctional Wristwatch Women',\n",
              " 'SKMEI Smart Watch Multifunctional Sports Bracelet Smart Wristband IP67 Fit Bit Smart Digital Wristwatches Fitness Heart Rate']"
            ]
          },
          "metadata": {},
          "execution_count": 23
        }
      ]
    },
    {
      "cell_type": "code",
      "metadata": {
        "colab": {
          "base_uri": "https://localhost:8080/",
          "height": 423
        },
        "id": "yIg5wmfitiPV",
        "outputId": "76259825-ad0e-46e6-8e70-d5fa19502579"
      },
      "source": [
        "# Append to dataframe created in scraping watch style data\n",
        "watch_df['Watch_Name'] = pd.DataFrame(watch_name_lst, columns=['Watch_Name'])\n",
        "watch_df"
      ],
      "execution_count": null,
      "outputs": [
        {
          "output_type": "execute_result",
          "data": {
            "text/html": [
              "<div>\n",
              "<style scoped>\n",
              "    .dataframe tbody tr th:only-of-type {\n",
              "        vertical-align: middle;\n",
              "    }\n",
              "\n",
              "    .dataframe tbody tr th {\n",
              "        vertical-align: top;\n",
              "    }\n",
              "\n",
              "    .dataframe thead th {\n",
              "        text-align: right;\n",
              "    }\n",
              "</style>\n",
              "<table border=\"1\" class=\"dataframe\">\n",
              "  <thead>\n",
              "    <tr style=\"text-align: right;\">\n",
              "      <th></th>\n",
              "      <th>Watch_Style</th>\n",
              "      <th>Watch_Brand</th>\n",
              "      <th>Watch_Name</th>\n",
              "    </tr>\n",
              "  </thead>\n",
              "  <tbody>\n",
              "    <tr>\n",
              "      <th>0</th>\n",
              "      <td>Business &amp;amp; Casual</td>\n",
              "      <td>olevs.os</td>\n",
              "      <td>OLEVS Jam Tangan Lelaki Original Watch Men Wat...</td>\n",
              "    </tr>\n",
              "    <tr>\n",
              "      <th>1</th>\n",
              "      <td>Business &amp;amp; Casual</td>\n",
              "      <td>naviforce.os</td>\n",
              "      <td>NAVIFORCE 2021 Bussiness Watch Men Sport Quart...</td>\n",
              "    </tr>\n",
              "    <tr>\n",
              "      <th>2</th>\n",
              "      <td>Business &amp;amp; Casual</td>\n",
              "      <td>casio.os</td>\n",
              "      <td>Casio General W-218H-3A Black Resin Band Men Y...</td>\n",
              "    </tr>\n",
              "    <tr>\n",
              "      <th>3</th>\n",
              "      <td>Business &amp;amp; Casual</td>\n",
              "      <td>skmei.os</td>\n",
              "      <td>SKMEI new men's outdoor waterproof sports larg...</td>\n",
              "    </tr>\n",
              "    <tr>\n",
              "      <th>4</th>\n",
              "      <td>Women's Sports</td>\n",
              "      <td>skmei.os</td>\n",
              "      <td>Kids Cute  Girl Cat Children's Kids Watch Gel ...</td>\n",
              "    </tr>\n",
              "    <tr>\n",
              "      <th>...</th>\n",
              "      <td>...</td>\n",
              "      <td>...</td>\n",
              "      <td>...</td>\n",
              "    </tr>\n",
              "    <tr>\n",
              "      <th>168</th>\n",
              "      <td>Business &amp;amp; Casual</td>\n",
              "      <td>wsdwatch.os</td>\n",
              "      <td>【Official original】WISHDOIT jam tangan lelaki ...</td>\n",
              "    </tr>\n",
              "    <tr>\n",
              "      <th>169</th>\n",
              "      <td>Business &amp;amp; Casual</td>\n",
              "      <td>adshops.os</td>\n",
              "      <td>GCHOK New Men's Watch Outdoor Sport Waterproof...</td>\n",
              "    </tr>\n",
              "    <tr>\n",
              "      <th>170</th>\n",
              "      <td>Women's Casual</td>\n",
              "      <td>qqmalaysia.os</td>\n",
              "      <td>Q&amp;amp;Q Japan by Citizen Ladies Rubber Analogu...</td>\n",
              "    </tr>\n",
              "    <tr>\n",
              "      <th>171</th>\n",
              "      <td>Women's Casual</td>\n",
              "      <td>sanda.os</td>\n",
              "      <td>Sanda  Sports Watch Women Waterproof Multifunc...</td>\n",
              "    </tr>\n",
              "    <tr>\n",
              "      <th>172</th>\n",
              "      <td>Women's Sports</td>\n",
              "      <td>skmei.os</td>\n",
              "      <td>SKMEI Smart Watch Multifunctional Sports Brace...</td>\n",
              "    </tr>\n",
              "  </tbody>\n",
              "</table>\n",
              "<p>173 rows × 3 columns</p>\n",
              "</div>"
            ],
            "text/plain": [
              "               Watch_Style  ...                                         Watch_Name\n",
              "0    Business &amp; Casual  ...  OLEVS Jam Tangan Lelaki Original Watch Men Wat...\n",
              "1    Business &amp; Casual  ...  NAVIFORCE 2021 Bussiness Watch Men Sport Quart...\n",
              "2    Business &amp; Casual  ...  Casio General W-218H-3A Black Resin Band Men Y...\n",
              "3    Business &amp; Casual  ...  SKMEI new men's outdoor waterproof sports larg...\n",
              "4           Women's Sports  ...  Kids Cute  Girl Cat Children's Kids Watch Gel ...\n",
              "..                     ...  ...                                                ...\n",
              "168  Business &amp; Casual  ...  【Official original】WISHDOIT jam tangan lelaki ...\n",
              "169  Business &amp; Casual  ...  GCHOK New Men's Watch Outdoor Sport Waterproof...\n",
              "170         Women's Casual  ...  Q&amp;Q Japan by Citizen Ladies Rubber Analogu...\n",
              "171         Women's Casual  ...  Sanda  Sports Watch Women Waterproof Multifunc...\n",
              "172         Women's Sports  ...  SKMEI Smart Watch Multifunctional Sports Brace...\n",
              "\n",
              "[173 rows x 3 columns]"
            ]
          },
          "metadata": {},
          "execution_count": 24
        }
      ]
    },
    {
      "cell_type": "code",
      "metadata": {
        "id": "TvBqedmGtptz"
      },
      "source": [
        "watch_df.to_csv('backup_fullcsv.csv')"
      ],
      "execution_count": null,
      "outputs": []
    },
    {
      "cell_type": "markdown",
      "metadata": {
        "id": "8CetXvSCqyeo"
      },
      "source": [
        "#**PART 5: DATA CLEANING / TRANSFORMATION**\n",
        "From Part 2 to 4, some of the data extracted from Shopee is irrelevant to the case study. Referring to Part 2 - Step 2, the unique_style showed 10 different styles and some of which are irrelevant to watches. Besides, the data have noises such as redundant/ unnecessary information as shown in the watch name and style, which distort the quality of data extracted. Some example of noises in data are the apostrophe s in watch style, mixed language in the watch name and more which will be further explain in the following section."
      ]
    },
    {
      "cell_type": "markdown",
      "metadata": {
        "id": "QCTOOo5DNjwT"
      },
      "source": [
        "##**Step 1: Import Libraries**\n",
        "Import necessary libraries to perform the data cleaning"
      ]
    },
    {
      "cell_type": "code",
      "metadata": {
        "id": "CYCvZhkTNjWu",
        "colab": {
          "base_uri": "https://localhost:8080/"
        },
        "outputId": "35322079-52e4-401a-9a39-13d1c61a43f5"
      },
      "source": [
        "# %%capture\n",
        "import re\n",
        "import string\n",
        "!pip install malaya\n",
        "!pip install fasttext\n",
        "!pip install fuzzywuzzy\n",
        "import malaya\n",
        "import fasttext\n",
        "import fuzzywuzzy\n",
        "from fuzzywuzzy import process\n",
        "import chardet\n",
        "import pandas as pd\n",
        "import numpy as np\n",
        "np.random.seed(0)"
      ],
      "execution_count": null,
      "outputs": [
        {
          "output_type": "stream",
          "name": "stdout",
          "text": [
            "Requirement already satisfied: malaya in /usr/local/lib/python3.7/dist-packages (4.7.1)\n",
            "Requirement already satisfied: numpy in /usr/local/lib/python3.7/dist-packages (from malaya) (1.19.5)\n",
            "Requirement already satisfied: ftfy in /usr/local/lib/python3.7/dist-packages (from malaya) (6.0.3)\n",
            "Requirement already satisfied: herpetologist in /usr/local/lib/python3.7/dist-packages (from malaya) (0.0.9)\n",
            "Requirement already satisfied: dateparser in /usr/local/lib/python3.7/dist-packages (from malaya) (1.1.0)\n",
            "Requirement already satisfied: sentencepiece in /usr/local/lib/python3.7/dist-packages (from malaya) (0.1.96)\n",
            "Requirement already satisfied: requests in /usr/local/lib/python3.7/dist-packages (from malaya) (2.23.0)\n",
            "Requirement already satisfied: tqdm in /usr/local/lib/python3.7/dist-packages (from malaya) (4.62.3)\n",
            "Requirement already satisfied: networkx<=2.5.1 in /usr/local/lib/python3.7/dist-packages (from malaya) (2.5.1)\n",
            "Requirement already satisfied: malaya-boilerplate>=0.0.10 in /usr/local/lib/python3.7/dist-packages (from malaya) (0.0.14)\n",
            "Requirement already satisfied: tensorflow>=1.15 in /usr/local/lib/python3.7/dist-packages (from malaya) (2.7.0)\n",
            "Requirement already satisfied: regex in /usr/local/lib/python3.7/dist-packages (from malaya) (2019.12.20)\n",
            "Requirement already satisfied: scikit-learn in /usr/local/lib/python3.7/dist-packages (from malaya) (1.0.1)\n",
            "Requirement already satisfied: scipy in /usr/local/lib/python3.7/dist-packages (from malaya) (1.4.1)\n",
            "Requirement already satisfied: unidecode in /usr/local/lib/python3.7/dist-packages (from malaya) (1.3.2)\n",
            "Requirement already satisfied: decorator<5,>=4.3 in /usr/local/lib/python3.7/dist-packages (from networkx<=2.5.1->malaya) (4.4.2)\n",
            "Requirement already satisfied: tensorflow-io-gcs-filesystem>=0.21.0 in /usr/local/lib/python3.7/dist-packages (from tensorflow>=1.15->malaya) (0.22.0)\n",
            "Requirement already satisfied: opt-einsum>=2.3.2 in /usr/local/lib/python3.7/dist-packages (from tensorflow>=1.15->malaya) (3.3.0)\n",
            "Requirement already satisfied: keras-preprocessing>=1.1.1 in /usr/local/lib/python3.7/dist-packages (from tensorflow>=1.15->malaya) (1.1.2)\n",
            "Requirement already satisfied: tensorboard~=2.6 in /usr/local/lib/python3.7/dist-packages (from tensorflow>=1.15->malaya) (2.7.0)\n",
            "Requirement already satisfied: six>=1.12.0 in /usr/local/lib/python3.7/dist-packages (from tensorflow>=1.15->malaya) (1.15.0)\n",
            "Requirement already satisfied: libclang>=9.0.1 in /usr/local/lib/python3.7/dist-packages (from tensorflow>=1.15->malaya) (12.0.0)\n",
            "Requirement already satisfied: astunparse>=1.6.0 in /usr/local/lib/python3.7/dist-packages (from tensorflow>=1.15->malaya) (1.6.3)\n",
            "Requirement already satisfied: protobuf>=3.9.2 in /usr/local/lib/python3.7/dist-packages (from tensorflow>=1.15->malaya) (3.17.3)\n",
            "Requirement already satisfied: absl-py>=0.4.0 in /usr/local/lib/python3.7/dist-packages (from tensorflow>=1.15->malaya) (0.12.0)\n",
            "Requirement already satisfied: wheel<1.0,>=0.32.0 in /usr/local/lib/python3.7/dist-packages (from tensorflow>=1.15->malaya) (0.37.0)\n",
            "Requirement already satisfied: termcolor>=1.1.0 in /usr/local/lib/python3.7/dist-packages (from tensorflow>=1.15->malaya) (1.1.0)\n",
            "Requirement already satisfied: google-pasta>=0.1.1 in /usr/local/lib/python3.7/dist-packages (from tensorflow>=1.15->malaya) (0.2.0)\n",
            "Requirement already satisfied: flatbuffers<3.0,>=1.12 in /usr/local/lib/python3.7/dist-packages (from tensorflow>=1.15->malaya) (2.0)\n",
            "Requirement already satisfied: keras<2.8,>=2.7.0rc0 in /usr/local/lib/python3.7/dist-packages (from tensorflow>=1.15->malaya) (2.7.0)\n",
            "Requirement already satisfied: h5py>=2.9.0 in /usr/local/lib/python3.7/dist-packages (from tensorflow>=1.15->malaya) (3.1.0)\n",
            "Requirement already satisfied: gast<0.5.0,>=0.2.1 in /usr/local/lib/python3.7/dist-packages (from tensorflow>=1.15->malaya) (0.4.0)\n",
            "Requirement already satisfied: typing-extensions>=3.6.6 in /usr/local/lib/python3.7/dist-packages (from tensorflow>=1.15->malaya) (3.10.0.2)\n",
            "Requirement already satisfied: wrapt>=1.11.0 in /usr/local/lib/python3.7/dist-packages (from tensorflow>=1.15->malaya) (1.13.3)\n",
            "Requirement already satisfied: grpcio<2.0,>=1.24.3 in /usr/local/lib/python3.7/dist-packages (from tensorflow>=1.15->malaya) (1.42.0)\n",
            "Requirement already satisfied: tensorflow-estimator<2.8,~=2.7.0rc0 in /usr/local/lib/python3.7/dist-packages (from tensorflow>=1.15->malaya) (2.7.0)\n",
            "Requirement already satisfied: cached-property in /usr/local/lib/python3.7/dist-packages (from h5py>=2.9.0->tensorflow>=1.15->malaya) (1.5.2)\n",
            "Requirement already satisfied: google-auth<3,>=1.6.3 in /usr/local/lib/python3.7/dist-packages (from tensorboard~=2.6->tensorflow>=1.15->malaya) (1.35.0)\n",
            "Requirement already satisfied: werkzeug>=0.11.15 in /usr/local/lib/python3.7/dist-packages (from tensorboard~=2.6->tensorflow>=1.15->malaya) (1.0.1)\n",
            "Requirement already satisfied: tensorboard-data-server<0.7.0,>=0.6.0 in /usr/local/lib/python3.7/dist-packages (from tensorboard~=2.6->tensorflow>=1.15->malaya) (0.6.1)\n",
            "Requirement already satisfied: google-auth-oauthlib<0.5,>=0.4.1 in /usr/local/lib/python3.7/dist-packages (from tensorboard~=2.6->tensorflow>=1.15->malaya) (0.4.6)\n",
            "Requirement already satisfied: setuptools>=41.0.0 in /usr/local/lib/python3.7/dist-packages (from tensorboard~=2.6->tensorflow>=1.15->malaya) (57.4.0)\n",
            "Requirement already satisfied: tensorboard-plugin-wit>=1.6.0 in /usr/local/lib/python3.7/dist-packages (from tensorboard~=2.6->tensorflow>=1.15->malaya) (1.8.0)\n",
            "Requirement already satisfied: markdown>=2.6.8 in /usr/local/lib/python3.7/dist-packages (from tensorboard~=2.6->tensorflow>=1.15->malaya) (3.3.6)\n",
            "Requirement already satisfied: rsa<5,>=3.1.4 in /usr/local/lib/python3.7/dist-packages (from google-auth<3,>=1.6.3->tensorboard~=2.6->tensorflow>=1.15->malaya) (4.8)\n",
            "Requirement already satisfied: cachetools<5.0,>=2.0.0 in /usr/local/lib/python3.7/dist-packages (from google-auth<3,>=1.6.3->tensorboard~=2.6->tensorflow>=1.15->malaya) (4.2.4)\n",
            "Requirement already satisfied: pyasn1-modules>=0.2.1 in /usr/local/lib/python3.7/dist-packages (from google-auth<3,>=1.6.3->tensorboard~=2.6->tensorflow>=1.15->malaya) (0.2.8)\n",
            "Requirement already satisfied: requests-oauthlib>=0.7.0 in /usr/local/lib/python3.7/dist-packages (from google-auth-oauthlib<0.5,>=0.4.1->tensorboard~=2.6->tensorflow>=1.15->malaya) (1.3.0)\n",
            "Requirement already satisfied: importlib-metadata>=4.4 in /usr/local/lib/python3.7/dist-packages (from markdown>=2.6.8->tensorboard~=2.6->tensorflow>=1.15->malaya) (4.8.2)\n",
            "Requirement already satisfied: zipp>=0.5 in /usr/local/lib/python3.7/dist-packages (from importlib-metadata>=4.4->markdown>=2.6.8->tensorboard~=2.6->tensorflow>=1.15->malaya) (3.6.0)\n",
            "Requirement already satisfied: pyasn1<0.5.0,>=0.4.6 in /usr/local/lib/python3.7/dist-packages (from pyasn1-modules>=0.2.1->google-auth<3,>=1.6.3->tensorboard~=2.6->tensorflow>=1.15->malaya) (0.4.8)\n",
            "Requirement already satisfied: chardet<4,>=3.0.2 in /usr/local/lib/python3.7/dist-packages (from requests->malaya) (3.0.4)\n",
            "Requirement already satisfied: idna<3,>=2.5 in /usr/local/lib/python3.7/dist-packages (from requests->malaya) (2.10)\n",
            "Requirement already satisfied: certifi>=2017.4.17 in /usr/local/lib/python3.7/dist-packages (from requests->malaya) (2021.10.8)\n",
            "Requirement already satisfied: urllib3!=1.25.0,!=1.25.1,<1.26,>=1.21.1 in /usr/local/lib/python3.7/dist-packages (from requests->malaya) (1.24.3)\n",
            "Requirement already satisfied: oauthlib>=3.0.0 in /usr/local/lib/python3.7/dist-packages (from requests-oauthlib>=0.7.0->google-auth-oauthlib<0.5,>=0.4.1->tensorboard~=2.6->tensorflow>=1.15->malaya) (3.1.1)\n",
            "Requirement already satisfied: python-dateutil in /usr/local/lib/python3.7/dist-packages (from dateparser->malaya) (2.8.2)\n",
            "Requirement already satisfied: pytz in /usr/local/lib/python3.7/dist-packages (from dateparser->malaya) (2018.9)\n",
            "Requirement already satisfied: tzlocal in /usr/local/lib/python3.7/dist-packages (from dateparser->malaya) (1.5.1)\n",
            "Requirement already satisfied: wcwidth in /usr/local/lib/python3.7/dist-packages (from ftfy->malaya) (0.2.5)\n",
            "Requirement already satisfied: memoization in /usr/local/lib/python3.7/dist-packages (from herpetologist->malaya) (0.4.0)\n",
            "Requirement already satisfied: joblib>=0.11 in /usr/local/lib/python3.7/dist-packages (from scikit-learn->malaya) (1.1.0)\n",
            "Requirement already satisfied: threadpoolctl>=2.0.0 in /usr/local/lib/python3.7/dist-packages (from scikit-learn->malaya) (3.0.0)\n",
            "Requirement already satisfied: fasttext in /usr/local/lib/python3.7/dist-packages (0.9.2)\n",
            "Requirement already satisfied: pybind11>=2.2 in /usr/local/lib/python3.7/dist-packages (from fasttext) (2.8.1)\n",
            "Requirement already satisfied: numpy in /usr/local/lib/python3.7/dist-packages (from fasttext) (1.19.5)\n",
            "Requirement already satisfied: setuptools>=0.7.0 in /usr/local/lib/python3.7/dist-packages (from fasttext) (57.4.0)\n",
            "Requirement already satisfied: fuzzywuzzy in /usr/local/lib/python3.7/dist-packages (0.18.0)\n"
          ]
        },
        {
          "output_type": "stream",
          "name": "stderr",
          "text": [
            "/usr/local/lib/python3.7/dist-packages/malaya_boilerplate/frozen_graph.py:35: UserWarning: Cannot import beam_search_ops from Tensorflow Addons, `deep_model` for stemmer will not available to use, make sure Tensorflow Addons version >= 0.12.0\n",
            "  'Cannot import beam_search_ops from Tensorflow Addons, `deep_model` for stemmer will not available to use, make sure Tensorflow Addons version >= 0.12.0'\n",
            "/usr/local/lib/python3.7/dist-packages/fuzzywuzzy/fuzz.py:11: UserWarning: Using slow pure-python SequenceMatcher. Install python-Levenshtein to remove this warning\n",
            "  warnings.warn('Using slow pure-python SequenceMatcher. Install python-Levenshtein to remove this warning')\n"
          ]
        }
      ]
    },
    {
      "cell_type": "markdown",
      "metadata": {
        "id": "UVRGzwZeN3gb"
      },
      "source": [
        "##**Step 2: Read backup_fullcsv.csv file**\n",
        "Read in the extracted watch data (watch style, watch brand and watch name) that were saved in Part 5 Step 2.\n"
      ]
    },
    {
      "cell_type": "code",
      "metadata": {
        "colab": {
          "base_uri": "https://localhost:8080/",
          "height": 423
        },
        "id": "Eqk1A_7vOB2K",
        "outputId": "40f2e3e8-6fe8-4738-ebd3-ac206671c7f1"
      },
      "source": [
        "watch_df = pd.read_csv('backup_fullcsv.csv', index_col=['Unnamed: 0'])\n",
        "watch_df"
      ],
      "execution_count": null,
      "outputs": [
        {
          "output_type": "execute_result",
          "data": {
            "text/html": [
              "<div>\n",
              "<style scoped>\n",
              "    .dataframe tbody tr th:only-of-type {\n",
              "        vertical-align: middle;\n",
              "    }\n",
              "\n",
              "    .dataframe tbody tr th {\n",
              "        vertical-align: top;\n",
              "    }\n",
              "\n",
              "    .dataframe thead th {\n",
              "        text-align: right;\n",
              "    }\n",
              "</style>\n",
              "<table border=\"1\" class=\"dataframe\">\n",
              "  <thead>\n",
              "    <tr style=\"text-align: right;\">\n",
              "      <th></th>\n",
              "      <th>Watch_Style</th>\n",
              "      <th>Watch_Brand</th>\n",
              "      <th>Watch_Name</th>\n",
              "    </tr>\n",
              "  </thead>\n",
              "  <tbody>\n",
              "    <tr>\n",
              "      <th>0</th>\n",
              "      <td>Business &amp;amp; Casual</td>\n",
              "      <td>olevs.os</td>\n",
              "      <td>OLEVS Jam Tangan Lelaki Original Watch Men Wat...</td>\n",
              "    </tr>\n",
              "    <tr>\n",
              "      <th>1</th>\n",
              "      <td>Business &amp;amp; Casual</td>\n",
              "      <td>naviforce.os</td>\n",
              "      <td>NAVIFORCE 2021 Bussiness Watch Men Sport Quart...</td>\n",
              "    </tr>\n",
              "    <tr>\n",
              "      <th>2</th>\n",
              "      <td>Business &amp;amp; Casual</td>\n",
              "      <td>casio.os</td>\n",
              "      <td>Casio General W-218H-3A Black Resin Band Men Y...</td>\n",
              "    </tr>\n",
              "    <tr>\n",
              "      <th>3</th>\n",
              "      <td>Business &amp;amp; Casual</td>\n",
              "      <td>skmei.os</td>\n",
              "      <td>SKMEI new men's outdoor waterproof sports larg...</td>\n",
              "    </tr>\n",
              "    <tr>\n",
              "      <th>4</th>\n",
              "      <td>Women's Sports</td>\n",
              "      <td>skmei.os</td>\n",
              "      <td>Kids Cute  Girl Cat Children's Kids Watch Gel ...</td>\n",
              "    </tr>\n",
              "    <tr>\n",
              "      <th>...</th>\n",
              "      <td>...</td>\n",
              "      <td>...</td>\n",
              "      <td>...</td>\n",
              "    </tr>\n",
              "    <tr>\n",
              "      <th>168</th>\n",
              "      <td>Business &amp;amp; Casual</td>\n",
              "      <td>wsdwatch.os</td>\n",
              "      <td>【Official original】WISHDOIT jam tangan lelaki ...</td>\n",
              "    </tr>\n",
              "    <tr>\n",
              "      <th>169</th>\n",
              "      <td>Business &amp;amp; Casual</td>\n",
              "      <td>adshops.os</td>\n",
              "      <td>GCHOK New Men's Watch Outdoor Sport Waterproof...</td>\n",
              "    </tr>\n",
              "    <tr>\n",
              "      <th>170</th>\n",
              "      <td>Women's Casual</td>\n",
              "      <td>qqmalaysia.os</td>\n",
              "      <td>Q&amp;amp;Q Japan by Citizen Ladies Rubber Analogu...</td>\n",
              "    </tr>\n",
              "    <tr>\n",
              "      <th>171</th>\n",
              "      <td>Women's Casual</td>\n",
              "      <td>sanda.os</td>\n",
              "      <td>Sanda  Sports Watch Women Waterproof Multifunc...</td>\n",
              "    </tr>\n",
              "    <tr>\n",
              "      <th>172</th>\n",
              "      <td>Women's Sports</td>\n",
              "      <td>skmei.os</td>\n",
              "      <td>SKMEI Smart Watch Multifunctional Sports Brace...</td>\n",
              "    </tr>\n",
              "  </tbody>\n",
              "</table>\n",
              "<p>173 rows × 3 columns</p>\n",
              "</div>"
            ],
            "text/plain": [
              "               Watch_Style  ...                                         Watch_Name\n",
              "0    Business &amp; Casual  ...  OLEVS Jam Tangan Lelaki Original Watch Men Wat...\n",
              "1    Business &amp; Casual  ...  NAVIFORCE 2021 Bussiness Watch Men Sport Quart...\n",
              "2    Business &amp; Casual  ...  Casio General W-218H-3A Black Resin Band Men Y...\n",
              "3    Business &amp; Casual  ...  SKMEI new men's outdoor waterproof sports larg...\n",
              "4           Women's Sports  ...  Kids Cute  Girl Cat Children's Kids Watch Gel ...\n",
              "..                     ...  ...                                                ...\n",
              "168  Business &amp; Casual  ...  【Official original】WISHDOIT jam tangan lelaki ...\n",
              "169  Business &amp; Casual  ...  GCHOK New Men's Watch Outdoor Sport Waterproof...\n",
              "170         Women's Casual  ...  Q&amp;Q Japan by Citizen Ladies Rubber Analogu...\n",
              "171         Women's Casual  ...  Sanda  Sports Watch Women Waterproof Multifunc...\n",
              "172         Women's Sports  ...  SKMEI Smart Watch Multifunctional Sports Brace...\n",
              "\n",
              "[173 rows x 3 columns]"
            ]
          },
          "metadata": {},
          "execution_count": 2
        }
      ]
    },
    {
      "cell_type": "markdown",
      "metadata": {
        "id": "Sx9vjzlKZ2wh"
      },
      "source": [
        "###**List of the unique values of each column that represents the watches attributes in the dataframe**\n",
        "\n"
      ]
    },
    {
      "cell_type": "code",
      "metadata": {
        "colab": {
          "base_uri": "https://localhost:8080/"
        },
        "id": "LJ7vM_RsTkMt",
        "outputId": "c7cc8340-1e62-43c4-8df3-f0b994420393"
      },
      "source": [
        "# Watch Styles\n",
        "watch_df['Watch_Style'].unique()"
      ],
      "execution_count": null,
      "outputs": [
        {
          "output_type": "execute_result",
          "data": {
            "text/plain": [
              "array(['Business &amp; Casual', \"Women's Sports\", \"Women's Casual\",\n",
              "       'Straps &amp; Clasps', 'Business Set', \"Women's Business\",\n",
              "       'Others', 'Display &amp; Storage', 'Casual Set',\n",
              "       '(GWP) CATEPILLAR Limited Edition Sport Towel (Not For Sale)'],\n",
              "      dtype=object)"
            ]
          },
          "metadata": {},
          "execution_count": 3
        }
      ]
    },
    {
      "cell_type": "code",
      "metadata": {
        "colab": {
          "base_uri": "https://localhost:8080/"
        },
        "id": "UQVPJJ1DTsS5",
        "outputId": "c08c2213-4d33-4e59-def2-9aedc58ce4ae"
      },
      "source": [
        "# Watch Brand\n",
        "watch_df['Watch_Brand'].unique()"
      ],
      "execution_count": null,
      "outputs": [
        {
          "output_type": "execute_result",
          "data": {
            "text/plain": [
              "array(['olevs.os', 'naviforce.os', 'casio.os', 'skmei.os', 'carlorino.os',\n",
              "       'sanda.os', 'uniq_my', 'curren.os', 'bostantenwatch.os',\n",
              "       'bostanten.os', 'wishdoitwatch.wh.os', 'bostanten_watchlocal.os',\n",
              "       'qqmalaysia.os', 'julius.os', 'milliotandco.os', 'billion.os',\n",
              "       'danielwellington.os', 'catwatch.os', 'wsdwatch.os',\n",
              "       'ligewatch.os', 'amazfit.os', 'herjewellery123', 'fossil.os',\n",
              "       'icewatch.os', 'voarch.os', 'submarinewatch.os', 'adshops.os'],\n",
              "      dtype=object)"
            ]
          },
          "metadata": {},
          "execution_count": 4
        }
      ]
    },
    {
      "cell_type": "code",
      "metadata": {
        "colab": {
          "base_uri": "https://localhost:8080/"
        },
        "id": "ms0hIhY3Twy3",
        "outputId": "f2cfed36-d9d5-4cc1-bba4-571aa953f10a"
      },
      "source": [
        "# Watch Name\n",
        "watch_df['Watch_Name'].unique()"
      ],
      "execution_count": null,
      "outputs": [
        {
          "output_type": "execute_result",
          "data": {
            "text/plain": [
              "array(['OLEVS Jam Tangan Lelaki Original Watch Men Waterproof Stainless Steel Quartz Luminous Authentic Dragon Design Gold Watch For Men',\n",
              "       'NAVIFORCE 2021 Bussiness Watch Men Sport Quartz Watches Luxury Brand Leather Waterproof LED Digital Wristwatch',\n",
              "       'Casio General W-218H-3A Black Resin Band Men Youth Watch',\n",
              "       \"SKMEI new men's outdoor waterproof sports large dial electronic watch multi-function dual display luminous electronic watch\",\n",
              "       \"Kids Cute  Girl Cat Children's Kids Watch Gel Digital\",\n",
              "       'Carlo Rino Jade of The Orient - Dark Green',\n",
              "       'SKMEI Smart Watch Fashion Full Touch Screen Mens Sport Fitness Watches IP68 Waterproof Bluetooth Luxury Connection SmartWatch',\n",
              "       'Sanda Military Waterproof Quartz LED  Multi-function Luxury Fashion Men Watch',\n",
              "       'Uniq Aspen Strap for Apple Watch  - Grey Blue Green Series 1/2/3/4/5/6/SE/7 (38/40/41/42/44/45mm)',\n",
              "       \"SKMEI  Fashion watch Men's Waterproof Sport Quartz Stainless Steel Steel Watch Wristwatches\",\n",
              "       \"CURREN Men's g shock Chronograph Waterproof Watch Fashion Sports Waterproof Quartz jam tangan lelaki\",\n",
              "       'NAVIFORCE Mens Watch Top Brand Luxury Fashion Quartz Men Watches Waterproof Sports Male Military Wrist Watch',\n",
              "       '【Christmas Gift】Jam Tangan Couple Set Top Brand Luxury Men Quartz Watches Women Waterproof Casual Date Couple Clock Male Wrist Watch',\n",
              "       'Casio General AEQ-110BW-9A Black Resin Band Men Youth Watch',\n",
              "       \"SANDA Men Watch Sports Waterproof Watch LED Display Multifunction Men's Watch Digital Watch\",\n",
              "       \"BOSTANTEN Men's Genuine Leather Ratchet Belt with Automatic Sliding Buckle\",\n",
              "       \"Bostanten Official 2052 Ready Stock new model Multi-function Digital Waterproof Men's Sports Watch COD\",\n",
              "       'CURREN  Elegant Women Watch Classy Quartz g shock  Waterproof jam tangan perempuan Beautiful Flower Dial Quartz Wristwatches #ShopeeMY',\n",
              "       \"Bostanten Classic Black Minimalist Leather Men's Quartz Watch（watch*1）\",\n",
              "       'Uniq Case for Apple Watch - Torres Black White Blue Series 1/2/3/4/5/6/SE (40mm 44mm)',\n",
              "       'SKMEI New Solar Power Outdoor Sports Watches Men Shock Digital watch',\n",
              "       'Boy Girl Kids Sports Waterproof Silicone Band LED Digital Wrist Watch',\n",
              "       'SKMEI I2 Sports Smart Watch IP67 Waterproof with Heart Rate Blood Pressure Oxygen Monitoring Smartband Long Standby Sport Smart Watch Android IOS',\n",
              "       'SKMEI replace watchbands only band not watch',\n",
              "       'Sanda Smart Watch IOS &amp; Android Bluetooth Fitness Watch with Pedometer Fashion Watch',\n",
              "       'SKMEI Men Quartz Watch Casual Ultra Thin Waterproof Simple Style Business Wristwatches',\n",
              "       'SKMEI Men Women Smart Watch Sport Clock Fitness Tracker Heart Rate Monitor Sleep Monitor IP67 Smartwatch for Android IOS',\n",
              "       'SKMEI Couple Watch Unisex Men Women Quartz Casual Stainless Steel Dress Dinner Analog Gold&amp;Silver',\n",
              "       \"WISHDOIT [100% Asal rasmi] Jam Tangan lelaki original Waterproof Men watch Stainless steel Quartz analog watch for Men's Business Sport Multifunction Chronograph Calendar Luminous Fashion Wristwatch Green\",\n",
              "       'NAVIFORCE Women Watches Top Brand Luxury Stainless Steel Strap Wristwatch for Women Clock Stylish Quartz Ladies Watch',\n",
              "       \"OLEVS Jam Tangan Perempuan Wanita Women Watches Original Wrist Watch Women's Casual Rose Gold Ultrathin Quartz Girl Steel Watch\",\n",
              "       'Casio General MQ-24-1B3 Black Resin Band Men Youth Watch',\n",
              "       'SANDA Men Watch Luxury Waterproof Quartz LED with Multi-function Swimming Watch 739',\n",
              "       \"SKMEI 1454 Top luxury Men's Dual Display LED Digital PU Luxury  Strap Date Clock Watch\",\n",
              "       'Bostanten Men Sports Shock Watch 3Time Chrono Alarm Date Week Display LED Light Digital Big Dial Military Men Sports Watches Jam Tangan Lelaki',\n",
              "       \"NAVIFORCE Men's Sport Leather Quartz LED Watch (with original box) Jam Tangan\",\n",
              "       'Q&amp;Q Japan by Citizen Unisex Resin Analogue Watch VS42',\n",
              "       'SKMEI logo Original Brand Metal Box Gift Box',\n",
              "       'Sanda Waterproof Women Watch Sports Watch Multifunction Outdoor Women Watch',\n",
              "       'Q&amp;Q Japan by Citizen Unisex Resin Analogue Watch A212',\n",
              "       'Casio General A168WA-1W Silver Stainless Steel Band Men Watch',\n",
              "       \"Q&amp;Q Japan by Citizen Ladies'/Kids' Resin Analogue Watch VR19\",\n",
              "       'SKMEI SmartWatch Waterproof Bluetooth Sport Fitness Tracker Wristband for Men Women Pedometer heart rate Smart Band Bracelet',\n",
              "       \"OLEVS Watch Men's Business New Jam Tangan Lelaki Original Quartz Watch Steel Strap Gold Waterproof Calendar Luminous Blue Black Green Men Casual Watch For Men\",\n",
              "       'SANDA Waterproof Women Watch Fashion Sports Digital Women Watch',\n",
              "       '【Sanda official】Original Luxury Watch Gift Box',\n",
              "       'Casio General AE-1200WHD-1A Silver Stainless Steel Band Men Watch',\n",
              "       '[Box Upgrade] Q&amp;Q Box QC225 [RM15 Only Please Purchase with Add-On]',\n",
              "       \"Q&amp;Q Japan by Citizen Men's Resin Analogue Watch VS50\",\n",
              "       \"OPK Watches for Women's Casual Water Resistant Quartz Luminous Watch  Jam tangan wanita  Wristwatches\",\n",
              "       'Kids Bracelet Digital LED Sport Watch',\n",
              "       \"CURREN Men's Luxury Waterproof Sports Chronograph Quartz Military Leather Watch\",\n",
              "       'SKMEI Kiblat Watch Qibla Direction Time Reminder Nmane Display Worship Pray Compass Religious Month/Day Wristwatch for Ramadan Gift Hijri Calendar Pilgrimage',\n",
              "       'SKMEI LOGO BOX06 watch BOX Gift Box Package',\n",
              "       'SKMEI Women Luxury Quartz Watch Fashion Design Water Resistant Mesh Stainless Steel Strap Rose Gold',\n",
              "       \"JULIUS Store Women's Square Watches JA-496\",\n",
              "       'NAVIFORCE 100% Original Men Sport Quartz Stainless Steel Wrist Watch Silver Watch with box',\n",
              "       'Milliot &amp; Co.-Alexis Watch Set',\n",
              "       '[Clearance] 【Sanda Official】Waterproof New Listing Women Watch Sports Watch Original Fashion Luxury Multifunctional Digital Chronograph Luminous 24 Hour Women Watch',\n",
              "       'Q&amp;Q Japan by Citizen Unisex Rubber Analogue Watch VS12',\n",
              "       \"WISHDOIT [100% Asal rasmi] Jam Tangan lelaki original Waterproof Men watch Stainless steel strap Quartz analog watch for Men's Business Sport Multifunction Chronograph Calendar Luminous Fashion Wristwatch Jam hitam\",\n",
              "       \"SANDA Men Watch Waterproof Fashion Sports Luxury Multi-function Analog Men's Watch\",\n",
              "       \"SKMEI Women's Quartz Watch Silicone Waterproof Sport Wristwatch Bracelet Sport watch\",\n",
              "       'SKMEI Sports Waterproof Digital Watches Countdown Alarm Fashion Wristwatch Clock',\n",
              "       'Bostanten Leather Strap Quartz Watch Simple Clasic Original Waterproof Watches Men Jam Tangan Lelaki [Free Box]',\n",
              "       'OPK Jam Tangan Perempuan Wanita Murah Girl Ladies Watch Women Waterproof  Leather Strap Genuine Original Quartz Small Dial Luminous Flowing Rhinestone Trend Design',\n",
              "       '{NOT FOR SALE} {FREE GIFT} Kit Kat Watch',\n",
              "       'SKMEI Simple Design Quartz Small Dial Watch Women Student',\n",
              "       'Sanda Women Watch Waterproof Luxury Digital Fashion Multifunctional Multifunction Chronograph Women Watch',\n",
              "       'Daniel Wellington Petite Cornwall Black Watch 28/32mm - Rose Gold - Nato strap - DW Watch for women - Fashion watch - DW official - Authentic - jam tangan perempuan - jam tangan lelaki - jam tangan perempuan - jam tangan wanita',\n",
              "       'Q&amp;Q Japan by Citizen Ladies Leather Analogue Watch Q979 / QZ87',\n",
              "       'NAVIFORCE Men Military Dual Display Quartz LED Stainless Steel Waterproof Watch - Silver',\n",
              "       '(GWP) CATEPILLAR Limited Edition Sport Towel (Not For Sale)',\n",
              "       \"OLEVS Jam Tangan Lelaki Original Waterproof Watch Men Quartz Analog Genuine Leather Business Sun Moon Star Multifunctional Calendar Luminous Fashion Men's Watches\",\n",
              "       'Q&amp;Q Japan by Citizen Ladies Resin Analogue Watch VP34',\n",
              "       'Cute Candy Color Sports Digital LED Men Women Kid Student Watch Jam Tangan Lelaki Wanita Kanak',\n",
              "       '2021 Cute Candy Color Sports Digital LED Men Women Kid Student Watch Jam Tangan Lelaki Wanita Kanak',\n",
              "       'SKMEI Sports Watch Shock LED Digital JAM TANGAN Outdoor Multifunction Data Calendar Running',\n",
              "       \"WISHDOIT [100% Asal rasmi] Jam Tangan perempuan wanita original Waterproof Ladies watch Leather strap Quartz analog watch for Women's Multifunction Calendar Luminous Casual Fashion Wristwatch\",\n",
              "       \"SKMEI Ready Stock new model Multi-function Digital Waterproof Men's Sports Watch\",\n",
              "       'Voarch Smart Watch Men Woman Full Smartwatch waterproof Heart Rate Sleep Monitor For iOS Android phone',\n",
              "       'JULIUS Quartz Waterproof Watch Natural Leather Strap JA-1112',\n",
              "       \"WISHDOIT [100% Asal rasmi] Jam Tangan lelaki original Waterproof Men watch Stainless steel Quartz analog watch for Men's Business Sport Multifunction Chronograph Calendar Luminous Fashion Wristwatch\",\n",
              "       'Q&amp;Q Japan by Citizen Kids Resin Analogue Watch VR99',\n",
              "       'Casio General LTP-1302D-7A2 Stainless Steel Band Women Watch',\n",
              "       '【Official original】WISHDOIT Jam Tangan lelaki Multifunction Waterproof watch LED Analog-Digita watch Quartz watch Men watch Sports watch Golden black watch luxury watch luminous watch authentic watches chronograph can swimming',\n",
              "       \"SKMEI Kiblat Men's Qibla Direction Time Pilgrimage Watch LED Light Languege Selection Date Alarm Hijri Calendar Digital Religious Worship Pray\",\n",
              "       'Q&amp;Q Japan by Citizen Ladies Leather Analogue Watch QC35',\n",
              "       '【Free Watch Box】OLEVS Luxury Jam Tangan Perempuan Lelaki Couple Watch Women Original Casual Waterproof Quartz Luminous Leather Watch Men Watches',\n",
              "       \"Jam Tangan Perempuan Wanita Murah Original Ladies Watch Women's Casual Magnet Waterproof For girl\",\n",
              "       'Q&amp;Q Japan by Citizen Ladies Resin Analogue Watch VQ86',\n",
              "       'NAVIFORCE Men Analog Digital Leather Sports Military Quartz Watch(with original box) G Jam Tangan Shock',\n",
              "       '【Asal rasmi】WISHDOIT jam tangan lelaki original Multifunction waterproof watch analog watch Quartz watch Men watch Sports watch Stainless steel watch black watch luxury watch luminous watch casual watch authentic watches chronograph can swimming',\n",
              "       '《Ready stock》2021 New Men Watches LIGE Top Brand Luxury Waterproof Quartz Square Watch For Men Date Sport Hollow Clock Male Jam tangan lelaki',\n",
              "       'Amazfit Band 5 Strap [FREE GIFT]',\n",
              "       \"SKMEI Women's Quartz PU Strap Waterproof Sport Wristwatches\",\n",
              "       'SKMEI Smart Watch Women Blood Pressure Heart Rate Sports Fitness watches Ultra Thin Smartwatch DIY Watch Faces for Android Ios',\n",
              "       \"【Free Watch Box】Original Steel Watch Women's Casual Waterproof Rose Gold Quartz Watches Jam Tangan Wanita Perempuan Murah\",\n",
              "       'SKMEI Prayer Watch with Azan Time and Qibla Compass Hijri Calendar Adhan AlarmIslamic Muslim Wristwatch',\n",
              "       'Olevs Jam Tangan Perempuan Wanita Original Watch Women Waterproof Rose Gold Lady Girl Watch Set Gift',\n",
              "       \"【Official original】WISHDOIT jam tangan lelaki Men watch Sport watch men's analogue watch chronograph Leather strap Luminous Quartz watches Multifunction swimming watch Really three-eye watch Business Casual couple watch\",\n",
              "       'Casio General F-91W-1S Black Resin Band Men Youth Watch',\n",
              "       'CURREN Mens Luxury Casual Quartz Wristwatches with Luminous hands Sport Chronograph Clock Stainless Steel Wrist Watches for Male',\n",
              "       \"Q&amp;Q Japan by Citizen Ladies' Leather Analogue Watch QZ51\",\n",
              "       \"SKMEI Men's Sport LED Back EL Light Display Watch Luxury Digital Wristwatches Waterproof\",\n",
              "       'SKMEI Leather Strap Watch Couple Simple Clasic Original Waterproof Watches Women Men',\n",
              "       \"WISHDOIT [100% Asal rasmi] Jam Tangan lelaki original Waterproof Men watch Stainless steel strap Quartz analog watch for Men's Business Sun Moon Star Multifunction Calendar Luminous Fashion Wristwatch\",\n",
              "       \"Jam Tangan Couple Set Bostanten Luxury Watches Men Women Couple Watches Ladies Original Casual Waterproof Quartz Watches Men's Classic Simple Resistant Leather Watches\",\n",
              "       \"Bostanten Women's Leather Watch Creative Unique Style Charm Clock Jam Tangan Wanita [Free Box]\",\n",
              "       'Her Jewellery Sonia Leather Watch Premium Crystals with 18K Real Gold Plated',\n",
              "       'Cartoon 50m Waterproof Digital LED Children Pikachu Mickey Doraemon Watch Girl Boy Sports Silicone Band',\n",
              "       'Sanda Bluetooth Call Smart Watch Music Player Waterproof Watch Exercise Heart Rate Fitness Music Men Watch Women Smart Watch Calories Blood Pressure',\n",
              "       'Bostanten Multi-function Digital Sports Men Watch Waterproof and Shock Resistant Jam Tangan Lelaki',\n",
              "       'SKMEI Fashion Couple Watch Women Original Casual Waterproof Quartz Watches Men Digital Watches Stainless Steel Wristwatch Jam Tangan Perempuan Lelaki',\n",
              "       'SANDA Waterproof Men Watch Stainless Steel Digital Swimming Watch for Men Watch',\n",
              "       'SKMEI Women Fashion Simple Quartz Watch Leather Ladies Waterproof Clock watches',\n",
              "       \"Bostanten Men's Ultra Thin Waterproof Quartz Leather Original  Watch For Men Jam Tangan Lelaki\",\n",
              "       \"100% Original Men's Watch and Sunglasses High-end Luxury Gift 2pcs/set with Gift Box Business Casual Holiday Gift Men's Gifts Hadiah Untuk Lelaki\",\n",
              "       \"Q&amp;Q Japan by Citizen Men's Resin Analogue Watch VS44\",\n",
              "       'Bostanten Dial Women Leather Quartz Watch - Classic Rainbow Jam Tangan Wanita [Free Box]',\n",
              "       'Q&amp;Q Japan by Citizen Unisex Resin Analogue Watch VP46 / V06A',\n",
              "       'SANDA Waterproof Men Watch Sports Luxury Quartz LED Multifunction Swimming Military Mens Watch 6008',\n",
              "       \"SKMEI Women's Waterproof Sport Alarm LED Digital Wristwatch Bracelet Sport Watch Couple\",\n",
              "       'OPK Square Watch Women Original Jam Tangan Perempuan Wanita Waterproof Stainless Steel Quartz Luminous Calendar Display Relo Fashion Ladies Watch For Women',\n",
              "       'Bostanten Ultra-Thin Wrist Women Watches Luxury Female Clock Fashion Montre Femme Ladies Quartz Watch Jam Tangan Wanita',\n",
              "       '100%original WISHDOIT Jam Tangan Lelaki Perempuan Wanita Couple watch set Men Business Casual Women Waterproof Stainless steel Quartz Ladies watches Luminous [Free Box+Leather strap]',\n",
              "       'Fossil Rhett Chronograph  Watch BQ1009',\n",
              "       '[SHOPEE EXCLUSIVE] Ice-Watch ICE Glam Pastel Medium - Pink Lady',\n",
              "       \"Bostanten Men'S Digital Sports Watch Multifunctional Waterproof Military Jam Tangan Lelaki\",\n",
              "       '【Official original】WISHDOIT jam tangan lelaki Multifunction waterproof watch analog watch Quartz watch Men watch Sports watch Stainless steel watch black watch luxury watch luminous watch casual watch authentic watches chronograph can swimming',\n",
              "       \"《Ready stock》LIGE Men's Waterproof Sport Quartz Stainless Steel Watch《jam tangan lelaki》\",\n",
              "       \"Sanda Women Watch Waterproof Luxury Fashion Multifunctional Luminous Chronograph Outdoor Women's Watch\",\n",
              "       'Q&amp;Q Japan by Citizen Floral Dial Ladies Resin Analogue Watch VS12',\n",
              "       'Q&amp;Q Japan by Citizen Unisex Resin Analogue Watch VS52',\n",
              "       \"SKMEI Ultra Light Stainless Steel Men's Watch Silicone Strap Boy Style Quartz Black Color Gold\",\n",
              "       'SANDA Sports Watch Men Watch Waterproof Army Green Analog Military Fashion LED Digital Multi-function Men Watch',\n",
              "       'NAVIFORCE Mens Sport Leather Waterproof Wrist Watch（with original box) Jam tangan',\n",
              "       \"WISHDOIT [100% Asal rasmi] Jam Tangan lelaki original Waterproof Men watch Stainless steel Quartz analog watch for Men's Business Sun Moon Star Multifunction Chronograph Calendar Luminous Fashion Wristwatch\",\n",
              "       'Bostanten Fashion Gift Bag',\n",
              "       'SKMEI Watch Box Small Light Weight Simple Package Packing Case',\n",
              "       \"Q&amp;Q Japan by Citizen Kids' Resin Analogue Watch VS59\",\n",
              "       'NAVIFORCE Dual Display Watch Men Army Military Sports Watches Man Leather Chronograph Montre Homme 2018',\n",
              "       'SUBMARINE Men Watch Fashion Sports Analog Waterproof Kids Watch I Jam Tangan Budak Lelaki Wanita TP-2145-M-PS',\n",
              "       \"SKMEI Men's Digital Waterproof LED Clocks Sports Watch (50M)\",\n",
              "       \"WISHDOIT [100% Asal rasmi] Jam Tangan lelaki original Waterproof Men watch Leather strap Quartz analog watch for Men's Sport Multifunction Chronograph Calendar Luminous Fashion Wristwatch\",\n",
              "       'Bostanten  Classic Rainbow Dial Women Leather Quartz Watch',\n",
              "       'NAVIFORCE Women Ladies Girl Fashion Casual Analog Quartz Watch',\n",
              "       'Q&amp;Q Japan by Citizen Unisex Resin Analogue Watch VR28',\n",
              "       'SANDA Waterproof Men Watch LED Running Sports Chronograph Stopwatch Fashion Men Watch',\n",
              "       'SKMEI Women Fashion Watches Quartz Waterproof Watch Stainless Steel Elegant Wristwatches Ladies',\n",
              "       \"SANDA Men's Watch Waterproof Chronograph Dual Display Multifunction Sports Fashion Men Watch\",\n",
              "       '[Clearance] SKMEI Women Classic Square Dial Quartz Wristwatches Fashion Casual Watch Leather Strap watches',\n",
              "       \"WISHDOIT [100% Asal rasmi] Jam Tangan lelaki original Waterproof Men watch Leather strap Quartz analog watch for Men's Business Sport Multifunction Chronograph Calendar Luminous Fashion Wristwatch\",\n",
              "       'B016 Stainless Steel Digital Watch Strap Band Time Function Luxury Style',\n",
              "       'SKMEI M4 Smart Bracelet Sport Fitness Tracker Pedometer Heart Rate Blood Pressure Bluetooth Smartband IOS Android',\n",
              "       'Rubber Strap Watch Digital Band Sports Multi color Touch Screen Soft Wristband',\n",
              "       \"【Produk Rasmi】WISHDOIT Women's temperament simple casual watch leather quartz watches Fashion elegant watch Waterproof swimming Luminous week calendar functions All-match girl student watch\",\n",
              "       \"CRRJU Fashion Men's Ultra-thin Waterproof Sports Quartz Watches g shock\",\n",
              "       'SKMEI Men Women Large Size Sport Watch Analog Digital Large Dial Alarm Watch Dual Display Waterproof Wristwatches Boys Girls',\n",
              "       \"SKMEI Men's Watches Steel Belt Dive Sports Quartz Watches Free Box\",\n",
              "       'WISHDOIT [100% Asal rasmi] Couple watch set Original Jam Tangan Pasangan Lelaki/Perempuan/Wanita Men Business Casual Women Waterproof Stainless steel Quartz Ladies watches Luminous [Free Box/Leather Strap]',\n",
              "       'Q&amp;Q Japan by Citizen Ladies Stainless Steel Mesh Analogue Watch QA21',\n",
              "       'SKMEI 1.54inch Smart Watch Bluetooth Call Touch Screen Music Control Sport Tracker Heart Rate Monitoring',\n",
              "       \"WISHDOIT [100% Asal rasmi] Jam Tangan lelaki original Waterproof Men watch Stainless steel Quartz analog watch for Men's Business Sport Multifunction Chronograph Calendar Luminous Fashion Wristwatch Black\",\n",
              "       'SKMEI Men Sports Shock Watch 3Time Chrono Alarm Date Week Display LED Light Digital Big Dial Military Men Sports Watches',\n",
              "       '《Ready stock》LIGE Jam Tangan Perempuan Lelaki Couple Watch Women Original Casual Waterproof Quartz Luminous Leather Watch Men Watches',\n",
              "       \"SKMEI Men's Sports Waterproof LED Light Display Digital Watch\",\n",
              "       \"CURREN  jam tangan lelaki Men's Military Sport Quartz Watch Men Fashion Business Waterproof Cheap Watch\",\n",
              "       \"【Official original】WISHDOIT jam tangan lelaki original jam Men's watch PU Leather strap jam tangan korean style jam tangan pria fashion pria jam tangan Sport watch Multifunction chronograph swimming waterproof watch Luminous Quartz men analogue watches\",\n",
              "       \"GCHOK New Men's Watch Outdoor Sport Waterproof Multi-Function Dual Display Luminous Watches\",\n",
              "       'Q&amp;Q Japan by Citizen Ladies Rubber Analogue Watch VS13 / V01A',\n",
              "       'Sanda  Sports Watch Women Waterproof Multifunctional Wristwatch Women',\n",
              "       'SKMEI Smart Watch Multifunctional Sports Bracelet Smart Wristband IP67 Fit Bit Smart Digital Wristwatches Fitness Heart Rate'],\n",
              "      dtype=object)"
            ]
          },
          "metadata": {},
          "execution_count": 5
        }
      ]
    },
    {
      "cell_type": "markdown",
      "metadata": {
        "id": "bgNI_XDXOOHJ"
      },
      "source": [
        "##**Step 3: Text / Data Cleaning**"
      ]
    },
    {
      "cell_type": "markdown",
      "metadata": {
        "id": "6M1F4TXr0aVx"
      },
      "source": [
        "###**Step 3.1: Convert all words to lowercase**"
      ]
    },
    {
      "cell_type": "code",
      "metadata": {
        "id": "IbFAewsd1EAJ"
      },
      "source": [
        "# change all words in the dataframe to lowercase\n",
        "# Reason: To ease the latter data cleaning process by avoiding situations such as 2 same words are identified as different\n",
        "#         words due to their difference in letter case \n",
        "watch_df = watch_df.applymap(lambda x: x.lower())"
      ],
      "execution_count": null,
      "outputs": []
    },
    {
      "cell_type": "code",
      "metadata": {
        "colab": {
          "base_uri": "https://localhost:8080/",
          "height": 423
        },
        "id": "yZnV5iA_0DWm",
        "outputId": "dd239722-a9b6-4851-9941-f2ebe2d4ff08"
      },
      "source": [
        "watch_df"
      ],
      "execution_count": null,
      "outputs": [
        {
          "output_type": "execute_result",
          "data": {
            "text/html": [
              "<div>\n",
              "<style scoped>\n",
              "    .dataframe tbody tr th:only-of-type {\n",
              "        vertical-align: middle;\n",
              "    }\n",
              "\n",
              "    .dataframe tbody tr th {\n",
              "        vertical-align: top;\n",
              "    }\n",
              "\n",
              "    .dataframe thead th {\n",
              "        text-align: right;\n",
              "    }\n",
              "</style>\n",
              "<table border=\"1\" class=\"dataframe\">\n",
              "  <thead>\n",
              "    <tr style=\"text-align: right;\">\n",
              "      <th></th>\n",
              "      <th>Watch_Style</th>\n",
              "      <th>Watch_Brand</th>\n",
              "      <th>Watch_Name</th>\n",
              "    </tr>\n",
              "  </thead>\n",
              "  <tbody>\n",
              "    <tr>\n",
              "      <th>0</th>\n",
              "      <td>business &amp;amp; casual</td>\n",
              "      <td>olevs.os</td>\n",
              "      <td>olevs jam tangan lelaki original watch men wat...</td>\n",
              "    </tr>\n",
              "    <tr>\n",
              "      <th>1</th>\n",
              "      <td>business &amp;amp; casual</td>\n",
              "      <td>naviforce.os</td>\n",
              "      <td>naviforce 2021 bussiness watch men sport quart...</td>\n",
              "    </tr>\n",
              "    <tr>\n",
              "      <th>2</th>\n",
              "      <td>business &amp;amp; casual</td>\n",
              "      <td>casio.os</td>\n",
              "      <td>casio general w-218h-3a black resin band men y...</td>\n",
              "    </tr>\n",
              "    <tr>\n",
              "      <th>3</th>\n",
              "      <td>business &amp;amp; casual</td>\n",
              "      <td>skmei.os</td>\n",
              "      <td>skmei new men's outdoor waterproof sports larg...</td>\n",
              "    </tr>\n",
              "    <tr>\n",
              "      <th>4</th>\n",
              "      <td>women's sports</td>\n",
              "      <td>skmei.os</td>\n",
              "      <td>kids cute  girl cat children's kids watch gel ...</td>\n",
              "    </tr>\n",
              "    <tr>\n",
              "      <th>...</th>\n",
              "      <td>...</td>\n",
              "      <td>...</td>\n",
              "      <td>...</td>\n",
              "    </tr>\n",
              "    <tr>\n",
              "      <th>168</th>\n",
              "      <td>business &amp;amp; casual</td>\n",
              "      <td>wsdwatch.os</td>\n",
              "      <td>【official original】wishdoit jam tangan lelaki ...</td>\n",
              "    </tr>\n",
              "    <tr>\n",
              "      <th>169</th>\n",
              "      <td>business &amp;amp; casual</td>\n",
              "      <td>adshops.os</td>\n",
              "      <td>gchok new men's watch outdoor sport waterproof...</td>\n",
              "    </tr>\n",
              "    <tr>\n",
              "      <th>170</th>\n",
              "      <td>women's casual</td>\n",
              "      <td>qqmalaysia.os</td>\n",
              "      <td>q&amp;amp;q japan by citizen ladies rubber analogu...</td>\n",
              "    </tr>\n",
              "    <tr>\n",
              "      <th>171</th>\n",
              "      <td>women's casual</td>\n",
              "      <td>sanda.os</td>\n",
              "      <td>sanda  sports watch women waterproof multifunc...</td>\n",
              "    </tr>\n",
              "    <tr>\n",
              "      <th>172</th>\n",
              "      <td>women's sports</td>\n",
              "      <td>skmei.os</td>\n",
              "      <td>skmei smart watch multifunctional sports brace...</td>\n",
              "    </tr>\n",
              "  </tbody>\n",
              "</table>\n",
              "<p>173 rows × 3 columns</p>\n",
              "</div>"
            ],
            "text/plain": [
              "               Watch_Style  ...                                         Watch_Name\n",
              "0    business &amp; casual  ...  olevs jam tangan lelaki original watch men wat...\n",
              "1    business &amp; casual  ...  naviforce 2021 bussiness watch men sport quart...\n",
              "2    business &amp; casual  ...  casio general w-218h-3a black resin band men y...\n",
              "3    business &amp; casual  ...  skmei new men's outdoor waterproof sports larg...\n",
              "4           women's sports  ...  kids cute  girl cat children's kids watch gel ...\n",
              "..                     ...  ...                                                ...\n",
              "168  business &amp; casual  ...  【official original】wishdoit jam tangan lelaki ...\n",
              "169  business &amp; casual  ...  gchok new men's watch outdoor sport waterproof...\n",
              "170         women's casual  ...  q&amp;q japan by citizen ladies rubber analogu...\n",
              "171         women's casual  ...  sanda  sports watch women waterproof multifunc...\n",
              "172         women's sports  ...  skmei smart watch multifunctional sports brace...\n",
              "\n",
              "[173 rows x 3 columns]"
            ]
          },
          "metadata": {},
          "execution_count": 7
        }
      ]
    },
    {
      "cell_type": "markdown",
      "metadata": {
        "id": "FljDZUyE0ly2"
      },
      "source": [
        "###**Step 3.2: Replace ampersand to the word 'and'**"
      ]
    },
    {
      "cell_type": "code",
      "metadata": {
        "id": "QW1CvIHEqyAs"
      },
      "source": [
        "# replace html ampersand(&amp) to the word 'and' that exists in the dataframe\n",
        "# Reason: To avoid different representation of word with the same meaning (&amp; is the same as the word 'and')\n",
        "watch_df = watch_df.applymap(lambda x: re.sub('&amp;', 'and', x))"
      ],
      "execution_count": null,
      "outputs": []
    },
    {
      "cell_type": "code",
      "metadata": {
        "colab": {
          "base_uri": "https://localhost:8080/",
          "height": 423
        },
        "id": "W6oUofWA2ajG",
        "outputId": "cb872bb5-ff0b-4579-af34-99192cb6e197"
      },
      "source": [
        "watch_df"
      ],
      "execution_count": null,
      "outputs": [
        {
          "output_type": "execute_result",
          "data": {
            "text/html": [
              "<div>\n",
              "<style scoped>\n",
              "    .dataframe tbody tr th:only-of-type {\n",
              "        vertical-align: middle;\n",
              "    }\n",
              "\n",
              "    .dataframe tbody tr th {\n",
              "        vertical-align: top;\n",
              "    }\n",
              "\n",
              "    .dataframe thead th {\n",
              "        text-align: right;\n",
              "    }\n",
              "</style>\n",
              "<table border=\"1\" class=\"dataframe\">\n",
              "  <thead>\n",
              "    <tr style=\"text-align: right;\">\n",
              "      <th></th>\n",
              "      <th>Watch_Style</th>\n",
              "      <th>Watch_Brand</th>\n",
              "      <th>Watch_Name</th>\n",
              "    </tr>\n",
              "  </thead>\n",
              "  <tbody>\n",
              "    <tr>\n",
              "      <th>0</th>\n",
              "      <td>business and casual</td>\n",
              "      <td>olevs.os</td>\n",
              "      <td>olevs jam tangan lelaki original watch men wat...</td>\n",
              "    </tr>\n",
              "    <tr>\n",
              "      <th>1</th>\n",
              "      <td>business and casual</td>\n",
              "      <td>naviforce.os</td>\n",
              "      <td>naviforce 2021 bussiness watch men sport quart...</td>\n",
              "    </tr>\n",
              "    <tr>\n",
              "      <th>2</th>\n",
              "      <td>business and casual</td>\n",
              "      <td>casio.os</td>\n",
              "      <td>casio general w-218h-3a black resin band men y...</td>\n",
              "    </tr>\n",
              "    <tr>\n",
              "      <th>3</th>\n",
              "      <td>business and casual</td>\n",
              "      <td>skmei.os</td>\n",
              "      <td>skmei new men's outdoor waterproof sports larg...</td>\n",
              "    </tr>\n",
              "    <tr>\n",
              "      <th>4</th>\n",
              "      <td>women's sports</td>\n",
              "      <td>skmei.os</td>\n",
              "      <td>kids cute  girl cat children's kids watch gel ...</td>\n",
              "    </tr>\n",
              "    <tr>\n",
              "      <th>...</th>\n",
              "      <td>...</td>\n",
              "      <td>...</td>\n",
              "      <td>...</td>\n",
              "    </tr>\n",
              "    <tr>\n",
              "      <th>168</th>\n",
              "      <td>business and casual</td>\n",
              "      <td>wsdwatch.os</td>\n",
              "      <td>【official original】wishdoit jam tangan lelaki ...</td>\n",
              "    </tr>\n",
              "    <tr>\n",
              "      <th>169</th>\n",
              "      <td>business and casual</td>\n",
              "      <td>adshops.os</td>\n",
              "      <td>gchok new men's watch outdoor sport waterproof...</td>\n",
              "    </tr>\n",
              "    <tr>\n",
              "      <th>170</th>\n",
              "      <td>women's casual</td>\n",
              "      <td>qqmalaysia.os</td>\n",
              "      <td>qandq japan by citizen ladies rubber analogue ...</td>\n",
              "    </tr>\n",
              "    <tr>\n",
              "      <th>171</th>\n",
              "      <td>women's casual</td>\n",
              "      <td>sanda.os</td>\n",
              "      <td>sanda  sports watch women waterproof multifunc...</td>\n",
              "    </tr>\n",
              "    <tr>\n",
              "      <th>172</th>\n",
              "      <td>women's sports</td>\n",
              "      <td>skmei.os</td>\n",
              "      <td>skmei smart watch multifunctional sports brace...</td>\n",
              "    </tr>\n",
              "  </tbody>\n",
              "</table>\n",
              "<p>173 rows × 3 columns</p>\n",
              "</div>"
            ],
            "text/plain": [
              "             Watch_Style  ...                                         Watch_Name\n",
              "0    business and casual  ...  olevs jam tangan lelaki original watch men wat...\n",
              "1    business and casual  ...  naviforce 2021 bussiness watch men sport quart...\n",
              "2    business and casual  ...  casio general w-218h-3a black resin band men y...\n",
              "3    business and casual  ...  skmei new men's outdoor waterproof sports larg...\n",
              "4         women's sports  ...  kids cute  girl cat children's kids watch gel ...\n",
              "..                   ...  ...                                                ...\n",
              "168  business and casual  ...  【official original】wishdoit jam tangan lelaki ...\n",
              "169  business and casual  ...  gchok new men's watch outdoor sport waterproof...\n",
              "170       women's casual  ...  qandq japan by citizen ladies rubber analogue ...\n",
              "171       women's casual  ...  sanda  sports watch women waterproof multifunc...\n",
              "172       women's sports  ...  skmei smart watch multifunctional sports brace...\n",
              "\n",
              "[173 rows x 3 columns]"
            ]
          },
          "metadata": {},
          "execution_count": 9
        }
      ]
    },
    {
      "cell_type": "markdown",
      "metadata": {
        "id": "ipaSlPrH1bN1"
      },
      "source": [
        "###**Step 3.3: Convert 'qandq' to 'qqmalaysia'**"
      ]
    },
    {
      "cell_type": "code",
      "metadata": {
        "id": "GBg00F362SRH"
      },
      "source": [
        "# replace 'qandq' that exists in the Watch_Name column of the dataframe to 'qqmalaysia'\n",
        "# Reason: To ease the latter cleaning process and avoid the brand name being eliminated from column Watch_Name\n",
        "watch_df = watch_df.applymap(lambda x: re.sub('qandq', 'qqmalaysia', x))"
      ],
      "execution_count": null,
      "outputs": []
    },
    {
      "cell_type": "code",
      "metadata": {
        "colab": {
          "base_uri": "https://localhost:8080/",
          "height": 423
        },
        "id": "T_H67Tz52niK",
        "outputId": "1e7c986c-44dc-4a3a-d617-d238780037ab"
      },
      "source": [
        "watch_df"
      ],
      "execution_count": null,
      "outputs": [
        {
          "output_type": "execute_result",
          "data": {
            "text/html": [
              "<div>\n",
              "<style scoped>\n",
              "    .dataframe tbody tr th:only-of-type {\n",
              "        vertical-align: middle;\n",
              "    }\n",
              "\n",
              "    .dataframe tbody tr th {\n",
              "        vertical-align: top;\n",
              "    }\n",
              "\n",
              "    .dataframe thead th {\n",
              "        text-align: right;\n",
              "    }\n",
              "</style>\n",
              "<table border=\"1\" class=\"dataframe\">\n",
              "  <thead>\n",
              "    <tr style=\"text-align: right;\">\n",
              "      <th></th>\n",
              "      <th>Watch_Style</th>\n",
              "      <th>Watch_Brand</th>\n",
              "      <th>Watch_Name</th>\n",
              "    </tr>\n",
              "  </thead>\n",
              "  <tbody>\n",
              "    <tr>\n",
              "      <th>0</th>\n",
              "      <td>business and casual</td>\n",
              "      <td>olevs.os</td>\n",
              "      <td>olevs jam tangan lelaki original watch men wat...</td>\n",
              "    </tr>\n",
              "    <tr>\n",
              "      <th>1</th>\n",
              "      <td>business and casual</td>\n",
              "      <td>naviforce.os</td>\n",
              "      <td>naviforce 2021 bussiness watch men sport quart...</td>\n",
              "    </tr>\n",
              "    <tr>\n",
              "      <th>2</th>\n",
              "      <td>business and casual</td>\n",
              "      <td>casio.os</td>\n",
              "      <td>casio general w-218h-3a black resin band men y...</td>\n",
              "    </tr>\n",
              "    <tr>\n",
              "      <th>3</th>\n",
              "      <td>business and casual</td>\n",
              "      <td>skmei.os</td>\n",
              "      <td>skmei new men's outdoor waterproof sports larg...</td>\n",
              "    </tr>\n",
              "    <tr>\n",
              "      <th>4</th>\n",
              "      <td>women's sports</td>\n",
              "      <td>skmei.os</td>\n",
              "      <td>kids cute  girl cat children's kids watch gel ...</td>\n",
              "    </tr>\n",
              "    <tr>\n",
              "      <th>...</th>\n",
              "      <td>...</td>\n",
              "      <td>...</td>\n",
              "      <td>...</td>\n",
              "    </tr>\n",
              "    <tr>\n",
              "      <th>168</th>\n",
              "      <td>business and casual</td>\n",
              "      <td>wsdwatch.os</td>\n",
              "      <td>【official original】wishdoit jam tangan lelaki ...</td>\n",
              "    </tr>\n",
              "    <tr>\n",
              "      <th>169</th>\n",
              "      <td>business and casual</td>\n",
              "      <td>adshops.os</td>\n",
              "      <td>gchok new men's watch outdoor sport waterproof...</td>\n",
              "    </tr>\n",
              "    <tr>\n",
              "      <th>170</th>\n",
              "      <td>women's casual</td>\n",
              "      <td>qqmalaysia.os</td>\n",
              "      <td>qqmalaysia japan by citizen ladies rubber anal...</td>\n",
              "    </tr>\n",
              "    <tr>\n",
              "      <th>171</th>\n",
              "      <td>women's casual</td>\n",
              "      <td>sanda.os</td>\n",
              "      <td>sanda  sports watch women waterproof multifunc...</td>\n",
              "    </tr>\n",
              "    <tr>\n",
              "      <th>172</th>\n",
              "      <td>women's sports</td>\n",
              "      <td>skmei.os</td>\n",
              "      <td>skmei smart watch multifunctional sports brace...</td>\n",
              "    </tr>\n",
              "  </tbody>\n",
              "</table>\n",
              "<p>173 rows × 3 columns</p>\n",
              "</div>"
            ],
            "text/plain": [
              "             Watch_Style  ...                                         Watch_Name\n",
              "0    business and casual  ...  olevs jam tangan lelaki original watch men wat...\n",
              "1    business and casual  ...  naviforce 2021 bussiness watch men sport quart...\n",
              "2    business and casual  ...  casio general w-218h-3a black resin band men y...\n",
              "3    business and casual  ...  skmei new men's outdoor waterproof sports larg...\n",
              "4         women's sports  ...  kids cute  girl cat children's kids watch gel ...\n",
              "..                   ...  ...                                                ...\n",
              "168  business and casual  ...  【official original】wishdoit jam tangan lelaki ...\n",
              "169  business and casual  ...  gchok new men's watch outdoor sport waterproof...\n",
              "170       women's casual  ...  qqmalaysia japan by citizen ladies rubber anal...\n",
              "171       women's casual  ...  sanda  sports watch women waterproof multifunc...\n",
              "172       women's sports  ...  skmei smart watch multifunctional sports brace...\n",
              "\n",
              "[173 rows x 3 columns]"
            ]
          },
          "metadata": {},
          "execution_count": 11
        }
      ]
    },
    {
      "cell_type": "markdown",
      "metadata": {
        "id": "UeQmtRl-mTTf"
      },
      "source": [
        "###**Step 3.4: Solve inconsistency in data**\n",
        "As visualized in Part 5 Step 2, there are several different representations of the same brand. For example, the brand Bostanten is entered as bostantenwatch.os, bostanten.os and bostanten_watchlocal.os. Besides, the brand wishdoitwatch.wh.os is actually the same as wsdwatch.os. Therefore, fuzzywuzzy is applied to overcome such inconsistencies present in data."
      ]
    },
    {
      "cell_type": "code",
      "metadata": {
        "colab": {
          "base_uri": "https://localhost:8080/"
        },
        "id": "ZSmpmcYQmTDy",
        "outputId": "8761b2c5-511d-4262-d901-4c7a81bac8db"
      },
      "source": [
        "matches = fuzzywuzzy.process.extract(\"bostantenwatch.os\", watch_df['Watch_Brand'].unique(), limit=10, scorer=fuzzywuzzy.fuzz.token_sort_ratio)\n",
        "print(matches)\n",
        "matches2 = fuzzywuzzy.process.extract(\"wishdoitwatch.wh.os\", watch_df['Watch_Brand'].unique(), limit=10, scorer=fuzzywuzzy.fuzz.token_sort_ratio)\n",
        "print(matches2)"
      ],
      "execution_count": null,
      "outputs": [
        {
          "output_type": "stream",
          "name": "stdout",
          "text": [
            "[('bostantenwatch.os', 100), ('bostanten_watchlocal.os', 85), ('bostanten.os', 83), ('catwatch.os', 64), ('icewatch.os', 64), ('ligewatch.os', 62), ('submarinewatch.os', 59), ('milliotandco.os', 50), ('wsdwatch.os', 50), ('wishdoitwatch.wh.os', 44)]\n",
            "[('wishdoitwatch.wh.os', 100), ('wsdwatch.os', 73), ('voarch.os', 50), ('submarinewatch.os', 50), ('sanda.os', 44), ('bostantenwatch.os', 44), ('catwatch.os', 40), ('icewatch.os', 40), ('ligewatch.os', 39), ('bostanten_watchlocal.os', 38)]\n"
          ]
        }
      ]
    },
    {
      "cell_type": "code",
      "metadata": {
        "id": "Jl_qlTU8nyk6"
      },
      "source": [
        "# A function defined to replace words that are similar to the desired string into the desired string\n",
        "def replace_matches_in_column(df, column, string_to_match, min_ratio = 90):\n",
        "    strings = df[column].unique()\n",
        "    # top 10 closest matches to input string\n",
        "    matches = fuzzywuzzy.process.extract(string_to_match, strings, limit=10, scorer=fuzzywuzzy.fuzz.token_sort_ratio)\n",
        "    # return matches with a ratio determined\n",
        "    close_matches = [matches[0] for matches in matches if matches[1] >= min_ratio]\n",
        "    # get the rows of all the close matches in our dataframe\n",
        "    rows_with_matches = df[column].isin(close_matches)\n",
        "    # replace all rows with close matches with the input matches \n",
        "    df.loc[rows_with_matches, column] = string_to_match\n",
        "    print(\"Done manipulation!\")"
      ],
      "execution_count": null,
      "outputs": []
    },
    {
      "cell_type": "code",
      "metadata": {
        "colab": {
          "base_uri": "https://localhost:8080/"
        },
        "id": "0Rg9mOR7qFab",
        "outputId": "47edbe4d-5f5a-42be-f6dd-bdfaa49e0e28"
      },
      "source": [
        "replace_matches_in_column(watch_df, column='Watch_Brand', string_to_match=\"bostantenwatch.os\", min_ratio=80)\n",
        "replace_matches_in_column(watch_df, column='Watch_Brand', string_to_match=\"wishdoitwatch.wh.os\", min_ratio=70)"
      ],
      "execution_count": null,
      "outputs": [
        {
          "output_type": "stream",
          "name": "stdout",
          "text": [
            "Done manipulation!\n",
            "Done manipulation!\n"
          ]
        }
      ]
    },
    {
      "cell_type": "code",
      "metadata": {
        "colab": {
          "base_uri": "https://localhost:8080/"
        },
        "id": "ew5NyugKoul9",
        "outputId": "2571e096-c005-45d8-8c15-c0886a20c381"
      },
      "source": [
        "# From the output, there are only a single representation for both brand Wishdoit and Bostanten, which are wishdoitwatch.wh.os and bostantenwatch.os respectively\n",
        "watch_df['Watch_Brand'].unique()"
      ],
      "execution_count": null,
      "outputs": [
        {
          "output_type": "execute_result",
          "data": {
            "text/plain": [
              "array(['olevs.os', 'naviforce.os', 'casio.os', 'skmei.os', 'carlorino.os',\n",
              "       'sanda.os', 'uniq_my', 'curren.os', 'bostantenwatch.os',\n",
              "       'wishdoitwatch.wh.os', 'qqmalaysia.os', 'julius.os',\n",
              "       'milliotandco.os', 'billion.os', 'danielwellington.os',\n",
              "       'catwatch.os', 'ligewatch.os', 'amazfit.os', 'herjewellery123',\n",
              "       'fossil.os', 'icewatch.os', 'voarch.os', 'submarinewatch.os',\n",
              "       'adshops.os'], dtype=object)"
            ]
          },
          "metadata": {},
          "execution_count": 15
        }
      ]
    },
    {
      "cell_type": "markdown",
      "metadata": {
        "id": "xRCKjHKr1ynK"
      },
      "source": [
        "###**Step 3.5: Remove delimiters and symbols**"
      ]
    },
    {
      "cell_type": "code",
      "metadata": {
        "id": "wQ_TQkJe1AmL"
      },
      "source": [
        "# remove apostrophe s that exists in the dataframe\n",
        "# Reason: Avoid possible redundancy (example: women's and women are semantically the same in this case study)\n",
        "#         Besides, symbols are not important for analysis.\n",
        "watch_df = watch_df.applymap(lambda x: re.sub(\"('s|【|】|（|《|》)\", ' ', x))"
      ],
      "execution_count": null,
      "outputs": []
    },
    {
      "cell_type": "code",
      "metadata": {
        "colab": {
          "base_uri": "https://localhost:8080/",
          "height": 423
        },
        "id": "r7yy9ekw1C2T",
        "outputId": "2bf082b7-e375-4595-b548-a1663f12f0c1"
      },
      "source": [
        "watch_df"
      ],
      "execution_count": null,
      "outputs": [
        {
          "output_type": "execute_result",
          "data": {
            "text/html": [
              "<div>\n",
              "<style scoped>\n",
              "    .dataframe tbody tr th:only-of-type {\n",
              "        vertical-align: middle;\n",
              "    }\n",
              "\n",
              "    .dataframe tbody tr th {\n",
              "        vertical-align: top;\n",
              "    }\n",
              "\n",
              "    .dataframe thead th {\n",
              "        text-align: right;\n",
              "    }\n",
              "</style>\n",
              "<table border=\"1\" class=\"dataframe\">\n",
              "  <thead>\n",
              "    <tr style=\"text-align: right;\">\n",
              "      <th></th>\n",
              "      <th>Watch_Style</th>\n",
              "      <th>Watch_Brand</th>\n",
              "      <th>Watch_Name</th>\n",
              "    </tr>\n",
              "  </thead>\n",
              "  <tbody>\n",
              "    <tr>\n",
              "      <th>0</th>\n",
              "      <td>business and casual</td>\n",
              "      <td>olevs.os</td>\n",
              "      <td>olevs jam tangan lelaki original watch men wat...</td>\n",
              "    </tr>\n",
              "    <tr>\n",
              "      <th>1</th>\n",
              "      <td>business and casual</td>\n",
              "      <td>naviforce.os</td>\n",
              "      <td>naviforce 2021 bussiness watch men sport quart...</td>\n",
              "    </tr>\n",
              "    <tr>\n",
              "      <th>2</th>\n",
              "      <td>business and casual</td>\n",
              "      <td>casio.os</td>\n",
              "      <td>casio general w-218h-3a black resin band men y...</td>\n",
              "    </tr>\n",
              "    <tr>\n",
              "      <th>3</th>\n",
              "      <td>business and casual</td>\n",
              "      <td>skmei.os</td>\n",
              "      <td>skmei new men  outdoor waterproof sports large...</td>\n",
              "    </tr>\n",
              "    <tr>\n",
              "      <th>4</th>\n",
              "      <td>women  sports</td>\n",
              "      <td>skmei.os</td>\n",
              "      <td>kids cute  girl cat children  kids watch gel d...</td>\n",
              "    </tr>\n",
              "    <tr>\n",
              "      <th>...</th>\n",
              "      <td>...</td>\n",
              "      <td>...</td>\n",
              "      <td>...</td>\n",
              "    </tr>\n",
              "    <tr>\n",
              "      <th>168</th>\n",
              "      <td>business and casual</td>\n",
              "      <td>wishdoitwatch.wh.os</td>\n",
              "      <td>official original wishdoit jam tangan lelaki ...</td>\n",
              "    </tr>\n",
              "    <tr>\n",
              "      <th>169</th>\n",
              "      <td>business and casual</td>\n",
              "      <td>adshops.os</td>\n",
              "      <td>gchok new men  watch outdoor sport waterproof ...</td>\n",
              "    </tr>\n",
              "    <tr>\n",
              "      <th>170</th>\n",
              "      <td>women  casual</td>\n",
              "      <td>qqmalaysia.os</td>\n",
              "      <td>qqmalaysia japan by citizen ladies rubber anal...</td>\n",
              "    </tr>\n",
              "    <tr>\n",
              "      <th>171</th>\n",
              "      <td>women  casual</td>\n",
              "      <td>sanda.os</td>\n",
              "      <td>sanda  sports watch women waterproof multifunc...</td>\n",
              "    </tr>\n",
              "    <tr>\n",
              "      <th>172</th>\n",
              "      <td>women  sports</td>\n",
              "      <td>skmei.os</td>\n",
              "      <td>skmei smart watch multifunctional sports brace...</td>\n",
              "    </tr>\n",
              "  </tbody>\n",
              "</table>\n",
              "<p>173 rows × 3 columns</p>\n",
              "</div>"
            ],
            "text/plain": [
              "             Watch_Style  ...                                         Watch_Name\n",
              "0    business and casual  ...  olevs jam tangan lelaki original watch men wat...\n",
              "1    business and casual  ...  naviforce 2021 bussiness watch men sport quart...\n",
              "2    business and casual  ...  casio general w-218h-3a black resin band men y...\n",
              "3    business and casual  ...  skmei new men  outdoor waterproof sports large...\n",
              "4          women  sports  ...  kids cute  girl cat children  kids watch gel d...\n",
              "..                   ...  ...                                                ...\n",
              "168  business and casual  ...   official original wishdoit jam tangan lelaki ...\n",
              "169  business and casual  ...  gchok new men  watch outdoor sport waterproof ...\n",
              "170        women  casual  ...  qqmalaysia japan by citizen ladies rubber anal...\n",
              "171        women  casual  ...  sanda  sports watch women waterproof multifunc...\n",
              "172        women  sports  ...  skmei smart watch multifunctional sports brace...\n",
              "\n",
              "[173 rows x 3 columns]"
            ]
          },
          "metadata": {},
          "execution_count": 17
        }
      ]
    },
    {
      "cell_type": "markdown",
      "metadata": {
        "id": "3PCZrNM927K9"
      },
      "source": [
        "###**Step 3.6: Remove/Replace Malay language words**\n",
        "Malay language words in Watch_Name are substituted with English words as the English words have clearly depict the semantic of the necessary information of the watch. Hence, the Malay language words in the watch name is unnecessary and is considered as redundant information which should be replaced with English words for the purpose of uniformity and clarity. This step is seperated into several small steps which will be discussed as follows."
      ]
    },
    {
      "cell_type": "markdown",
      "metadata": {
        "id": "xic4QJPs5hgE"
      },
      "source": [
        "####**Step 3.6.1: Remove punctuations**"
      ]
    },
    {
      "cell_type": "code",
      "metadata": {
        "id": "lj-ef34225_v"
      },
      "source": [
        "watch_df['Watch_Name'] = watch_df['Watch_Name'].map(lambda x: ''.join(character for character in x if character not in list(string.punctuation)))"
      ],
      "execution_count": null,
      "outputs": []
    },
    {
      "cell_type": "code",
      "metadata": {
        "colab": {
          "base_uri": "https://localhost:8080/",
          "height": 423
        },
        "id": "rVYT0QpfaDPV",
        "outputId": "74ef36e7-92c8-496b-bfc6-1d740cf860da"
      },
      "source": [
        "watch_df"
      ],
      "execution_count": null,
      "outputs": [
        {
          "output_type": "execute_result",
          "data": {
            "text/html": [
              "<div>\n",
              "<style scoped>\n",
              "    .dataframe tbody tr th:only-of-type {\n",
              "        vertical-align: middle;\n",
              "    }\n",
              "\n",
              "    .dataframe tbody tr th {\n",
              "        vertical-align: top;\n",
              "    }\n",
              "\n",
              "    .dataframe thead th {\n",
              "        text-align: right;\n",
              "    }\n",
              "</style>\n",
              "<table border=\"1\" class=\"dataframe\">\n",
              "  <thead>\n",
              "    <tr style=\"text-align: right;\">\n",
              "      <th></th>\n",
              "      <th>Watch_Style</th>\n",
              "      <th>Watch_Brand</th>\n",
              "      <th>Watch_Name</th>\n",
              "    </tr>\n",
              "  </thead>\n",
              "  <tbody>\n",
              "    <tr>\n",
              "      <th>0</th>\n",
              "      <td>business and casual</td>\n",
              "      <td>olevs.os</td>\n",
              "      <td>olevs jam tangan lelaki original watch men wat...</td>\n",
              "    </tr>\n",
              "    <tr>\n",
              "      <th>1</th>\n",
              "      <td>business and casual</td>\n",
              "      <td>naviforce.os</td>\n",
              "      <td>naviforce 2021 bussiness watch men sport quart...</td>\n",
              "    </tr>\n",
              "    <tr>\n",
              "      <th>2</th>\n",
              "      <td>business and casual</td>\n",
              "      <td>casio.os</td>\n",
              "      <td>casio general w218h3a black resin band men you...</td>\n",
              "    </tr>\n",
              "    <tr>\n",
              "      <th>3</th>\n",
              "      <td>business and casual</td>\n",
              "      <td>skmei.os</td>\n",
              "      <td>skmei new men  outdoor waterproof sports large...</td>\n",
              "    </tr>\n",
              "    <tr>\n",
              "      <th>4</th>\n",
              "      <td>women  sports</td>\n",
              "      <td>skmei.os</td>\n",
              "      <td>kids cute  girl cat children  kids watch gel d...</td>\n",
              "    </tr>\n",
              "    <tr>\n",
              "      <th>...</th>\n",
              "      <td>...</td>\n",
              "      <td>...</td>\n",
              "      <td>...</td>\n",
              "    </tr>\n",
              "    <tr>\n",
              "      <th>168</th>\n",
              "      <td>business and casual</td>\n",
              "      <td>wishdoitwatch.wh.os</td>\n",
              "      <td>official original wishdoit jam tangan lelaki ...</td>\n",
              "    </tr>\n",
              "    <tr>\n",
              "      <th>169</th>\n",
              "      <td>business and casual</td>\n",
              "      <td>adshops.os</td>\n",
              "      <td>gchok new men  watch outdoor sport waterproof ...</td>\n",
              "    </tr>\n",
              "    <tr>\n",
              "      <th>170</th>\n",
              "      <td>women  casual</td>\n",
              "      <td>qqmalaysia.os</td>\n",
              "      <td>qqmalaysia japan by citizen ladies rubber anal...</td>\n",
              "    </tr>\n",
              "    <tr>\n",
              "      <th>171</th>\n",
              "      <td>women  casual</td>\n",
              "      <td>sanda.os</td>\n",
              "      <td>sanda  sports watch women waterproof multifunc...</td>\n",
              "    </tr>\n",
              "    <tr>\n",
              "      <th>172</th>\n",
              "      <td>women  sports</td>\n",
              "      <td>skmei.os</td>\n",
              "      <td>skmei smart watch multifunctional sports brace...</td>\n",
              "    </tr>\n",
              "  </tbody>\n",
              "</table>\n",
              "<p>173 rows × 3 columns</p>\n",
              "</div>"
            ],
            "text/plain": [
              "             Watch_Style  ...                                         Watch_Name\n",
              "0    business and casual  ...  olevs jam tangan lelaki original watch men wat...\n",
              "1    business and casual  ...  naviforce 2021 bussiness watch men sport quart...\n",
              "2    business and casual  ...  casio general w218h3a black resin band men you...\n",
              "3    business and casual  ...  skmei new men  outdoor waterproof sports large...\n",
              "4          women  sports  ...  kids cute  girl cat children  kids watch gel d...\n",
              "..                   ...  ...                                                ...\n",
              "168  business and casual  ...   official original wishdoit jam tangan lelaki ...\n",
              "169  business and casual  ...  gchok new men  watch outdoor sport waterproof ...\n",
              "170        women  casual  ...  qqmalaysia japan by citizen ladies rubber anal...\n",
              "171        women  casual  ...  sanda  sports watch women waterproof multifunc...\n",
              "172        women  sports  ...  skmei smart watch multifunctional sports brace...\n",
              "\n",
              "[173 rows x 3 columns]"
            ]
          },
          "metadata": {},
          "execution_count": 19
        }
      ]
    },
    {
      "cell_type": "markdown",
      "metadata": {
        "id": "XF9vwqDg6D6H"
      },
      "source": [
        "####**Step 3.6.2: Remove extra spaces between words**"
      ]
    },
    {
      "cell_type": "code",
      "metadata": {
        "id": "fJyn73-a1I0Q"
      },
      "source": [
        "# Reason: To assist the smooth removal of certain words without worrying that extra spaces will incur a difference between the same word.\n",
        "# Example: 'jam tangan' and 'jam  tangan'\n",
        "watch_df['Watch_Name'] = watch_df['Watch_Name'].map(lambda x: ' '.join(x.split()))"
      ],
      "execution_count": null,
      "outputs": []
    },
    {
      "cell_type": "code",
      "metadata": {
        "colab": {
          "base_uri": "https://localhost:8080/",
          "height": 423
        },
        "id": "VBDCLgd41Ivi",
        "outputId": "bb17ede7-0c7f-48a0-bcba-18c6bc9a4fb9"
      },
      "source": [
        "watch_df"
      ],
      "execution_count": null,
      "outputs": [
        {
          "output_type": "execute_result",
          "data": {
            "text/html": [
              "<div>\n",
              "<style scoped>\n",
              "    .dataframe tbody tr th:only-of-type {\n",
              "        vertical-align: middle;\n",
              "    }\n",
              "\n",
              "    .dataframe tbody tr th {\n",
              "        vertical-align: top;\n",
              "    }\n",
              "\n",
              "    .dataframe thead th {\n",
              "        text-align: right;\n",
              "    }\n",
              "</style>\n",
              "<table border=\"1\" class=\"dataframe\">\n",
              "  <thead>\n",
              "    <tr style=\"text-align: right;\">\n",
              "      <th></th>\n",
              "      <th>Watch_Style</th>\n",
              "      <th>Watch_Brand</th>\n",
              "      <th>Watch_Name</th>\n",
              "    </tr>\n",
              "  </thead>\n",
              "  <tbody>\n",
              "    <tr>\n",
              "      <th>0</th>\n",
              "      <td>business and casual</td>\n",
              "      <td>olevs.os</td>\n",
              "      <td>olevs jam tangan lelaki original watch men wat...</td>\n",
              "    </tr>\n",
              "    <tr>\n",
              "      <th>1</th>\n",
              "      <td>business and casual</td>\n",
              "      <td>naviforce.os</td>\n",
              "      <td>naviforce 2021 bussiness watch men sport quart...</td>\n",
              "    </tr>\n",
              "    <tr>\n",
              "      <th>2</th>\n",
              "      <td>business and casual</td>\n",
              "      <td>casio.os</td>\n",
              "      <td>casio general w218h3a black resin band men you...</td>\n",
              "    </tr>\n",
              "    <tr>\n",
              "      <th>3</th>\n",
              "      <td>business and casual</td>\n",
              "      <td>skmei.os</td>\n",
              "      <td>skmei new men outdoor waterproof sports large ...</td>\n",
              "    </tr>\n",
              "    <tr>\n",
              "      <th>4</th>\n",
              "      <td>women  sports</td>\n",
              "      <td>skmei.os</td>\n",
              "      <td>kids cute girl cat children kids watch gel dig...</td>\n",
              "    </tr>\n",
              "    <tr>\n",
              "      <th>...</th>\n",
              "      <td>...</td>\n",
              "      <td>...</td>\n",
              "      <td>...</td>\n",
              "    </tr>\n",
              "    <tr>\n",
              "      <th>168</th>\n",
              "      <td>business and casual</td>\n",
              "      <td>wishdoitwatch.wh.os</td>\n",
              "      <td>official original wishdoit jam tangan lelaki o...</td>\n",
              "    </tr>\n",
              "    <tr>\n",
              "      <th>169</th>\n",
              "      <td>business and casual</td>\n",
              "      <td>adshops.os</td>\n",
              "      <td>gchok new men watch outdoor sport waterproof m...</td>\n",
              "    </tr>\n",
              "    <tr>\n",
              "      <th>170</th>\n",
              "      <td>women  casual</td>\n",
              "      <td>qqmalaysia.os</td>\n",
              "      <td>qqmalaysia japan by citizen ladies rubber anal...</td>\n",
              "    </tr>\n",
              "    <tr>\n",
              "      <th>171</th>\n",
              "      <td>women  casual</td>\n",
              "      <td>sanda.os</td>\n",
              "      <td>sanda sports watch women waterproof multifunct...</td>\n",
              "    </tr>\n",
              "    <tr>\n",
              "      <th>172</th>\n",
              "      <td>women  sports</td>\n",
              "      <td>skmei.os</td>\n",
              "      <td>skmei smart watch multifunctional sports brace...</td>\n",
              "    </tr>\n",
              "  </tbody>\n",
              "</table>\n",
              "<p>173 rows × 3 columns</p>\n",
              "</div>"
            ],
            "text/plain": [
              "             Watch_Style  ...                                         Watch_Name\n",
              "0    business and casual  ...  olevs jam tangan lelaki original watch men wat...\n",
              "1    business and casual  ...  naviforce 2021 bussiness watch men sport quart...\n",
              "2    business and casual  ...  casio general w218h3a black resin band men you...\n",
              "3    business and casual  ...  skmei new men outdoor waterproof sports large ...\n",
              "4          women  sports  ...  kids cute girl cat children kids watch gel dig...\n",
              "..                   ...  ...                                                ...\n",
              "168  business and casual  ...  official original wishdoit jam tangan lelaki o...\n",
              "169  business and casual  ...  gchok new men watch outdoor sport waterproof m...\n",
              "170        women  casual  ...  qqmalaysia japan by citizen ladies rubber anal...\n",
              "171        women  casual  ...  sanda sports watch women waterproof multifunct...\n",
              "172        women  sports  ...  skmei smart watch multifunctional sports brace...\n",
              "\n",
              "[173 rows x 3 columns]"
            ]
          },
          "metadata": {},
          "execution_count": 21
        }
      ]
    },
    {
      "cell_type": "code",
      "metadata": {
        "colab": {
          "base_uri": "https://localhost:8080/"
        },
        "id": "70uCsaw5DNrd",
        "outputId": "69b95dca-e8cb-415f-cffe-3a12b4c36833"
      },
      "source": [
        "watch_df['Watch_Name'].unique()"
      ],
      "execution_count": null,
      "outputs": [
        {
          "output_type": "execute_result",
          "data": {
            "text/plain": [
              "array(['olevs jam tangan lelaki original watch men waterproof stainless steel quartz luminous authentic dragon design gold watch for men',\n",
              "       'naviforce 2021 bussiness watch men sport quartz watches luxury brand leather waterproof led digital wristwatch',\n",
              "       'casio general w218h3a black resin band men youth watch',\n",
              "       'skmei new men outdoor waterproof sports large dial electronic watch multifunction dual display luminous electronic watch',\n",
              "       'kids cute girl cat children kids watch gel digital',\n",
              "       'carlo rino jade of the orient dark green',\n",
              "       'skmei smart watch fashion full touch screen mens sport fitness watches ip68 waterproof bluetooth luxury connection smartwatch',\n",
              "       'sanda military waterproof quartz led multifunction luxury fashion men watch',\n",
              "       'uniq aspen strap for apple watch grey blue green series 123456se7 384041424445mm',\n",
              "       'skmei fashion watch men waterproof sport quartz stainless steel steel watch wristwatches',\n",
              "       'curren men g shock chronograph waterproof watch fashion sports waterproof quartz jam tangan lelaki',\n",
              "       'naviforce mens watch top brand luxury fashion quartz men watches waterproof sports male military wrist watch',\n",
              "       'christmas gift jam tangan couple set top brand luxury men quartz watches women waterproof casual date couple clock male wrist watch',\n",
              "       'casio general aeq110bw9a black resin band men youth watch',\n",
              "       'sanda men watch sports waterproof watch led display multifunction men watch digital watch',\n",
              "       'bostanten men genuine leather ratchet belt with automatic sliding buckle',\n",
              "       'bostanten official 2052 ready stock new model multifunction digital waterproof men sports watch cod',\n",
              "       'curren elegant women watch classy quartz g shock waterproof jam tangan perempuan beautiful flower dial quartz wristwatches shopeemy',\n",
              "       'bostanten classic black minimalist leather men quartz watch watch1）',\n",
              "       'uniq case for apple watch torres black white blue series 123456se 40mm 44mm',\n",
              "       'skmei new solar power outdoor sports watches men shock digital watch',\n",
              "       'boy girl kids sports waterproof silicone band led digital wrist watch',\n",
              "       'skmei i2 sports smart watch ip67 waterproof with heart rate blood pressure oxygen monitoring smartband long standby sport smart watch android ios',\n",
              "       'skmei replace watchbands only band not watch',\n",
              "       'sanda smart watch ios and android bluetooth fitness watch with pedometer fashion watch',\n",
              "       'skmei men quartz watch casual ultra thin waterproof simple style business wristwatches',\n",
              "       'skmei men women smart watch sport clock fitness tracker heart rate monitor sleep monitor ip67 smartwatch for android ios',\n",
              "       'skmei couple watch unisex men women quartz casual stainless steel dress dinner analog goldandsilver',\n",
              "       'wishdoit 100 asal rasmi jam tangan lelaki original waterproof men watch stainless steel quartz analog watch for men business sport multifunction chronograph calendar luminous fashion wristwatch green',\n",
              "       'naviforce women watches top brand luxury stainless steel strap wristwatch for women clock stylish quartz ladies watch',\n",
              "       'olevs jam tangan perempuan wanita women watches original wrist watch women casual rose gold ultrathin quartz girl steel watch',\n",
              "       'casio general mq241b3 black resin band men youth watch',\n",
              "       'sanda men watch luxury waterproof quartz led with multifunction swimming watch 739',\n",
              "       'skmei 1454 top luxury men dual display led digital pu luxury strap date clock watch',\n",
              "       'bostanten men sports shock watch 3time chrono alarm date week display led light digital big dial military men sports watches jam tangan lelaki',\n",
              "       'naviforce men sport leather quartz led watch with original box jam tangan',\n",
              "       'qqmalaysia japan by citizen unisex resin analogue watch vs42',\n",
              "       'skmei logo original brand metal box gift box',\n",
              "       'sanda waterproof women watch sports watch multifunction outdoor women watch',\n",
              "       'qqmalaysia japan by citizen unisex resin analogue watch a212',\n",
              "       'casio general a168wa1w silver stainless steel band men watch',\n",
              "       'qqmalaysia japan by citizen ladieskids resin analogue watch vr19',\n",
              "       'skmei smartwatch waterproof bluetooth sport fitness tracker wristband for men women pedometer heart rate smart band bracelet',\n",
              "       'olevs watch men business new jam tangan lelaki original quartz watch steel strap gold waterproof calendar luminous blue black green men casual watch for men',\n",
              "       'sanda waterproof women watch fashion sports digital women watch',\n",
              "       'sanda official original luxury watch gift box',\n",
              "       'casio general ae1200whd1a silver stainless steel band men watch',\n",
              "       'box upgrade qqmalaysia box qc225 rm15 only please purchase with addon',\n",
              "       'qqmalaysia japan by citizen men resin analogue watch vs50',\n",
              "       'opk watches for women casual water resistant quartz luminous watch jam tangan wanita wristwatches',\n",
              "       'kids bracelet digital led sport watch',\n",
              "       'curren men luxury waterproof sports chronograph quartz military leather watch',\n",
              "       'skmei kiblat watch qibla direction time reminder nmane display worship pray compass religious monthday wristwatch for ramadan gift hijri calendar pilgrimage',\n",
              "       'skmei logo box06 watch box gift box package',\n",
              "       'skmei women luxury quartz watch fashion design water resistant mesh stainless steel strap rose gold',\n",
              "       'julius store women square watches ja496',\n",
              "       'naviforce 100 original men sport quartz stainless steel wrist watch silver watch with box',\n",
              "       'milliot and coalexis watch set',\n",
              "       'clearance sanda official waterproof new listing women watch sports watch original fashion luxury multifunctional digital chronograph luminous 24 hour women watch',\n",
              "       'qqmalaysia japan by citizen unisex rubber analogue watch vs12',\n",
              "       'wishdoit 100 asal rasmi jam tangan lelaki original waterproof men watch stainless steel strap quartz analog watch for men business sport multifunction chronograph calendar luminous fashion wristwatch jam hitam',\n",
              "       'sanda men watch waterproof fashion sports luxury multifunction analog men watch',\n",
              "       'skmei women quartz watch silicone waterproof sport wristwatch bracelet sport watch',\n",
              "       'skmei sports waterproof digital watches countdown alarm fashion wristwatch clock',\n",
              "       'bostanten leather strap quartz watch simple clasic original waterproof watches men jam tangan lelaki free box',\n",
              "       'opk jam tangan perempuan wanita murah girl ladies watch women waterproof leather strap genuine original quartz small dial luminous flowing rhinestone trend design',\n",
              "       'not for sale free gift kit kat watch',\n",
              "       'skmei simple design quartz small dial watch women student',\n",
              "       'sanda women watch waterproof luxury digital fashion multifunctional multifunction chronograph women watch',\n",
              "       'daniel wellington petite cornwall black watch 2832mm rose gold nato strap dw watch for women fashion watch dw official authentic jam tangan perempuan jam tangan lelaki jam tangan perempuan jam tangan wanita',\n",
              "       'qqmalaysia japan by citizen ladies leather analogue watch q979 qz87',\n",
              "       'naviforce men military dual display quartz led stainless steel waterproof watch silver',\n",
              "       'gwp catepillar limited edition sport towel not for sale',\n",
              "       'olevs jam tangan lelaki original waterproof watch men quartz analog genuine leather business sun moon star multifunctional calendar luminous fashion men watches',\n",
              "       'qqmalaysia japan by citizen ladies resin analogue watch vp34',\n",
              "       'cute candy color sports digital led men women kid student watch jam tangan lelaki wanita kanak',\n",
              "       '2021 cute candy color sports digital led men women kid student watch jam tangan lelaki wanita kanak',\n",
              "       'skmei sports watch shock led digital jam tangan outdoor multifunction data calendar running',\n",
              "       'wishdoit 100 asal rasmi jam tangan perempuan wanita original waterproof ladies watch leather strap quartz analog watch for women multifunction calendar luminous casual fashion wristwatch',\n",
              "       'skmei ready stock new model multifunction digital waterproof men sports watch',\n",
              "       'voarch smart watch men woman full smartwatch waterproof heart rate sleep monitor for ios android phone',\n",
              "       'julius quartz waterproof watch natural leather strap ja1112',\n",
              "       'wishdoit 100 asal rasmi jam tangan lelaki original waterproof men watch stainless steel quartz analog watch for men business sport multifunction chronograph calendar luminous fashion wristwatch',\n",
              "       'qqmalaysia japan by citizen kids resin analogue watch vr99',\n",
              "       'casio general ltp1302d7a2 stainless steel band women watch',\n",
              "       'official original wishdoit jam tangan lelaki multifunction waterproof watch led analogdigita watch quartz watch men watch sports watch golden black watch luxury watch luminous watch authentic watches chronograph can swimming',\n",
              "       'skmei kiblat men qibla direction time pilgrimage watch led light languege selection date alarm hijri calendar digital religious worship pray',\n",
              "       'qqmalaysia japan by citizen ladies leather analogue watch qc35',\n",
              "       'free watch box olevs luxury jam tangan perempuan lelaki couple watch women original casual waterproof quartz luminous leather watch men watches',\n",
              "       'jam tangan perempuan wanita murah original ladies watch women casual magnet waterproof for girl',\n",
              "       'qqmalaysia japan by citizen ladies resin analogue watch vq86',\n",
              "       'naviforce men analog digital leather sports military quartz watchwith original box g jam tangan shock',\n",
              "       'asal rasmi wishdoit jam tangan lelaki original multifunction waterproof watch analog watch quartz watch men watch sports watch stainless steel watch black watch luxury watch luminous watch casual watch authentic watches chronograph can swimming',\n",
              "       'ready stock 2021 new men watches lige top brand luxury waterproof quartz square watch for men date sport hollow clock male jam tangan lelaki',\n",
              "       'amazfit band 5 strap free gift',\n",
              "       'skmei women quartz pu strap waterproof sport wristwatches',\n",
              "       'skmei smart watch women blood pressure heart rate sports fitness watches ultra thin smartwatch diy watch faces for android ios',\n",
              "       'free watch box original steel watch women casual waterproof rose gold quartz watches jam tangan wanita perempuan murah',\n",
              "       'skmei prayer watch with azan time and qibla compass hijri calendar adhan alarmislamic muslim wristwatch',\n",
              "       'olevs jam tangan perempuan wanita original watch women waterproof rose gold lady girl watch set gift',\n",
              "       'official original wishdoit jam tangan lelaki men watch sport watch men analogue watch chronograph leather strap luminous quartz watches multifunction swimming watch really threeeye watch business casual couple watch',\n",
              "       'casio general f91w1s black resin band men youth watch',\n",
              "       'curren mens luxury casual quartz wristwatches with luminous hands sport chronograph clock stainless steel wrist watches for male',\n",
              "       'qqmalaysia japan by citizen ladies leather analogue watch qz51',\n",
              "       'skmei men sport led back el light display watch luxury digital wristwatches waterproof',\n",
              "       'skmei leather strap watch couple simple clasic original waterproof watches women men',\n",
              "       'wishdoit 100 asal rasmi jam tangan lelaki original waterproof men watch stainless steel strap quartz analog watch for men business sun moon star multifunction calendar luminous fashion wristwatch',\n",
              "       'jam tangan couple set bostanten luxury watches men women couple watches ladies original casual waterproof quartz watches men classic simple resistant leather watches',\n",
              "       'bostanten women leather watch creative unique style charm clock jam tangan wanita free box',\n",
              "       'her jewellery sonia leather watch premium crystals with 18k real gold plated',\n",
              "       'cartoon 50m waterproof digital led children pikachu mickey doraemon watch girl boy sports silicone band',\n",
              "       'sanda bluetooth call smart watch music player waterproof watch exercise heart rate fitness music men watch women smart watch calories blood pressure',\n",
              "       'bostanten multifunction digital sports men watch waterproof and shock resistant jam tangan lelaki',\n",
              "       'skmei fashion couple watch women original casual waterproof quartz watches men digital watches stainless steel wristwatch jam tangan perempuan lelaki',\n",
              "       'sanda waterproof men watch stainless steel digital swimming watch for men watch',\n",
              "       'skmei women fashion simple quartz watch leather ladies waterproof clock watches',\n",
              "       'bostanten men ultra thin waterproof quartz leather original watch for men jam tangan lelaki',\n",
              "       '100 original men watch and sunglasses highend luxury gift 2pcsset with gift box business casual holiday gift men gifts hadiah untuk lelaki',\n",
              "       'qqmalaysia japan by citizen men resin analogue watch vs44',\n",
              "       'bostanten dial women leather quartz watch classic rainbow jam tangan wanita free box',\n",
              "       'qqmalaysia japan by citizen unisex resin analogue watch vp46 v06a',\n",
              "       'sanda waterproof men watch sports luxury quartz led multifunction swimming military mens watch 6008',\n",
              "       'skmei women waterproof sport alarm led digital wristwatch bracelet sport watch couple',\n",
              "       'opk square watch women original jam tangan perempuan wanita waterproof stainless steel quartz luminous calendar display relo fashion ladies watch for women',\n",
              "       'bostanten ultrathin wrist women watches luxury female clock fashion montre femme ladies quartz watch jam tangan wanita',\n",
              "       '100original wishdoit jam tangan lelaki perempuan wanita couple watch set men business casual women waterproof stainless steel quartz ladies watches luminous free boxleather strap',\n",
              "       'fossil rhett chronograph watch bq1009',\n",
              "       'shopee exclusive icewatch ice glam pastel medium pink lady',\n",
              "       'bostanten men digital sports watch multifunctional waterproof military jam tangan lelaki',\n",
              "       'official original wishdoit jam tangan lelaki multifunction waterproof watch analog watch quartz watch men watch sports watch stainless steel watch black watch luxury watch luminous watch casual watch authentic watches chronograph can swimming',\n",
              "       'ready stock lige men waterproof sport quartz stainless steel watch jam tangan lelaki',\n",
              "       'sanda women watch waterproof luxury fashion multifunctional luminous chronograph outdoor women watch',\n",
              "       'qqmalaysia japan by citizen floral dial ladies resin analogue watch vs12',\n",
              "       'qqmalaysia japan by citizen unisex resin analogue watch vs52',\n",
              "       'skmei ultra light stainless steel men watch silicone strap boy style quartz black color gold',\n",
              "       'sanda sports watch men watch waterproof army green analog military fashion led digital multifunction men watch',\n",
              "       'naviforce mens sport leather waterproof wrist watch with original box jam tangan',\n",
              "       'wishdoit 100 asal rasmi jam tangan lelaki original waterproof men watch stainless steel quartz analog watch for men business sun moon star multifunction chronograph calendar luminous fashion wristwatch',\n",
              "       'bostanten fashion gift bag',\n",
              "       'skmei watch box small light weight simple package packing case',\n",
              "       'qqmalaysia japan by citizen kids resin analogue watch vs59',\n",
              "       'naviforce dual display watch men army military sports watches man leather chronograph montre homme 2018',\n",
              "       'submarine men watch fashion sports analog waterproof kids watch i jam tangan budak lelaki wanita tp2145mps',\n",
              "       'skmei men digital waterproof led clocks sports watch 50m',\n",
              "       'wishdoit 100 asal rasmi jam tangan lelaki original waterproof men watch leather strap quartz analog watch for men sport multifunction chronograph calendar luminous fashion wristwatch',\n",
              "       'bostanten classic rainbow dial women leather quartz watch',\n",
              "       'naviforce women ladies girl fashion casual analog quartz watch',\n",
              "       'qqmalaysia japan by citizen unisex resin analogue watch vr28',\n",
              "       'sanda waterproof men watch led running sports chronograph stopwatch fashion men watch',\n",
              "       'skmei women fashion watches quartz waterproof watch stainless steel elegant wristwatches ladies',\n",
              "       'sanda men watch waterproof chronograph dual display multifunction sports fashion men watch',\n",
              "       'clearance skmei women classic square dial quartz wristwatches fashion casual watch leather strap watches',\n",
              "       'wishdoit 100 asal rasmi jam tangan lelaki original waterproof men watch leather strap quartz analog watch for men business sport multifunction chronograph calendar luminous fashion wristwatch',\n",
              "       'b016 stainless steel digital watch strap band time function luxury style',\n",
              "       'skmei m4 smart bracelet sport fitness tracker pedometer heart rate blood pressure bluetooth smartband ios android',\n",
              "       'rubber strap watch digital band sports multi color touch screen soft wristband',\n",
              "       'produk rasmi wishdoit women temperament simple casual watch leather quartz watches fashion elegant watch waterproof swimming luminous week calendar functions allmatch girl student watch',\n",
              "       'crrju fashion men ultrathin waterproof sports quartz watches g shock',\n",
              "       'skmei men women large size sport watch analog digital large dial alarm watch dual display waterproof wristwatches boys girls',\n",
              "       'skmei men watches steel belt dive sports quartz watches free box',\n",
              "       'wishdoit 100 asal rasmi couple watch set original jam tangan pasangan lelakiperempuanwanita men business casual women waterproof stainless steel quartz ladies watches luminous free boxleather strap',\n",
              "       'qqmalaysia japan by citizen ladies stainless steel mesh analogue watch qa21',\n",
              "       'skmei 154inch smart watch bluetooth call touch screen music control sport tracker heart rate monitoring',\n",
              "       'wishdoit 100 asal rasmi jam tangan lelaki original waterproof men watch stainless steel quartz analog watch for men business sport multifunction chronograph calendar luminous fashion wristwatch black',\n",
              "       'skmei men sports shock watch 3time chrono alarm date week display led light digital big dial military men sports watches',\n",
              "       'ready stock lige jam tangan perempuan lelaki couple watch women original casual waterproof quartz luminous leather watch men watches',\n",
              "       'skmei men sports waterproof led light display digital watch',\n",
              "       'curren jam tangan lelaki men military sport quartz watch men fashion business waterproof cheap watch',\n",
              "       'official original wishdoit jam tangan lelaki original jam men watch pu leather strap jam tangan korean style jam tangan pria fashion pria jam tangan sport watch multifunction chronograph swimming waterproof watch luminous quartz men analogue watches',\n",
              "       'gchok new men watch outdoor sport waterproof multifunction dual display luminous watches',\n",
              "       'qqmalaysia japan by citizen ladies rubber analogue watch vs13 v01a',\n",
              "       'sanda sports watch women waterproof multifunctional wristwatch women',\n",
              "       'skmei smart watch multifunctional sports bracelet smart wristband ip67 fit bit smart digital wristwatches fitness heart rate'],\n",
              "      dtype=object)"
            ]
          },
          "metadata": {},
          "execution_count": 22
        }
      ]
    },
    {
      "cell_type": "markdown",
      "metadata": {
        "id": "CHfSpD6R7UsK"
      },
      "source": [
        "####**Step 3.6.3: Remove Malay language words with Malaya and Fasttext library**"
      ]
    },
    {
      "cell_type": "code",
      "metadata": {
        "id": "1M4HNa_Z3NPq",
        "colab": {
          "base_uri": "https://localhost:8080/"
        },
        "outputId": "30e1d011-9158-4700-9c9c-64bb15a99a46"
      },
      "source": [
        "# Remove words that are detected to belong to words of the Malay language.\n",
        "fast_text = malaya.language_detection.fasttext()\n",
        "watch_df['Watch_Name'] = watch_df['Watch_Name'].map(lambda x: ' '.join(word for word in x.split() if (fast_text.predict([word])[0] != 'malay' or (word.isalnum() and not word.isalpha() and not word.isdigit()) ) ))\n",
        "\n",
        "# An approach of removing malay language words through identifying if one word is an English word or otherwise was tested.\n",
        "# Such approach is not practiced as it tends to remove other valid English words, hence shorten the name of watches.\n",
        "# This is not ideal as the name of the watch provides useful information regarding the attributes of watch and helps to reflect the characteristics of watches fancied or otherwise by buyers.\n",
        "# Steps of the mentioned approach\n",
        "# brand_name_lst = list(watch_df['Watch_Brand'].unique())\n",
        "# brand_name_lst = [(lambda x: re.sub(\".os\", '', x))(x) for x in brand_name_lst]\n",
        "# watch_df['Watch_Name'] = watch_df['Watch_Name'].map(lambda x: \" \".join(w for w in nltk.wordpunct_tokenize(x) if w.lower() in words or not w.isalpha() or w in brand_name_lst))\n"
      ],
      "execution_count": null,
      "outputs": [
        {
          "output_type": "stream",
          "name": "stderr",
          "text": [
            " 88%|████████▊ | 26.0/29.6 [00:01<00:00, 29.6MB/s]/usr/local/lib/python3.7/dist-packages/tqdm/std.py:536: TqdmWarning: clamping frac to range [0, 1]\n",
            "  colour=colour)\n",
            "101%|██████████| 30.0/29.6 [00:01<00:00, 21.6MB/s]\n",
            "Warning : `load_model` does not return WordVectorModel or SupervisedModel any more, but a `FastText` object which is very similar.\n"
          ]
        }
      ]
    },
    {
      "cell_type": "code",
      "metadata": {
        "colab": {
          "base_uri": "https://localhost:8080/",
          "height": 423
        },
        "id": "frma1jds4HDp",
        "outputId": "b6f69e60-b744-4d8c-f2c5-3ab4ccd32f78"
      },
      "source": [
        "watch_df"
      ],
      "execution_count": null,
      "outputs": [
        {
          "output_type": "execute_result",
          "data": {
            "text/html": [
              "<div>\n",
              "<style scoped>\n",
              "    .dataframe tbody tr th:only-of-type {\n",
              "        vertical-align: middle;\n",
              "    }\n",
              "\n",
              "    .dataframe tbody tr th {\n",
              "        vertical-align: top;\n",
              "    }\n",
              "\n",
              "    .dataframe thead th {\n",
              "        text-align: right;\n",
              "    }\n",
              "</style>\n",
              "<table border=\"1\" class=\"dataframe\">\n",
              "  <thead>\n",
              "    <tr style=\"text-align: right;\">\n",
              "      <th></th>\n",
              "      <th>Watch_Style</th>\n",
              "      <th>Watch_Brand</th>\n",
              "      <th>Watch_Name</th>\n",
              "    </tr>\n",
              "  </thead>\n",
              "  <tbody>\n",
              "    <tr>\n",
              "      <th>0</th>\n",
              "      <td>business and casual</td>\n",
              "      <td>olevs.os</td>\n",
              "      <td>olevs jam tangan original watch men waterproof...</td>\n",
              "    </tr>\n",
              "    <tr>\n",
              "      <th>1</th>\n",
              "      <td>business and casual</td>\n",
              "      <td>naviforce.os</td>\n",
              "      <td>naviforce 2021 bussiness watch men sport quart...</td>\n",
              "    </tr>\n",
              "    <tr>\n",
              "      <th>2</th>\n",
              "      <td>business and casual</td>\n",
              "      <td>casio.os</td>\n",
              "      <td>casio general w218h3a black resin band men you...</td>\n",
              "    </tr>\n",
              "    <tr>\n",
              "      <th>3</th>\n",
              "      <td>business and casual</td>\n",
              "      <td>skmei.os</td>\n",
              "      <td>skmei new men outdoor waterproof sports large ...</td>\n",
              "    </tr>\n",
              "    <tr>\n",
              "      <th>4</th>\n",
              "      <td>women  sports</td>\n",
              "      <td>skmei.os</td>\n",
              "      <td>kids cute girl cat children kids watch gel</td>\n",
              "    </tr>\n",
              "    <tr>\n",
              "      <th>...</th>\n",
              "      <td>...</td>\n",
              "      <td>...</td>\n",
              "      <td>...</td>\n",
              "    </tr>\n",
              "    <tr>\n",
              "      <th>168</th>\n",
              "      <td>business and casual</td>\n",
              "      <td>wishdoitwatch.wh.os</td>\n",
              "      <td>official original wishdoit jam tangan original...</td>\n",
              "    </tr>\n",
              "    <tr>\n",
              "      <th>169</th>\n",
              "      <td>business and casual</td>\n",
              "      <td>adshops.os</td>\n",
              "      <td>gchok new men watch outdoor sport waterproof m...</td>\n",
              "    </tr>\n",
              "    <tr>\n",
              "      <th>170</th>\n",
              "      <td>women  casual</td>\n",
              "      <td>qqmalaysia.os</td>\n",
              "      <td>qqmalaysia japan by citizen ladies rubber anal...</td>\n",
              "    </tr>\n",
              "    <tr>\n",
              "      <th>171</th>\n",
              "      <td>women  casual</td>\n",
              "      <td>sanda.os</td>\n",
              "      <td>sanda sports watch women waterproof multifunct...</td>\n",
              "    </tr>\n",
              "    <tr>\n",
              "      <th>172</th>\n",
              "      <td>women  sports</td>\n",
              "      <td>skmei.os</td>\n",
              "      <td>skmei smart watch multifunctional sports brace...</td>\n",
              "    </tr>\n",
              "  </tbody>\n",
              "</table>\n",
              "<p>173 rows × 3 columns</p>\n",
              "</div>"
            ],
            "text/plain": [
              "             Watch_Style  ...                                         Watch_Name\n",
              "0    business and casual  ...  olevs jam tangan original watch men waterproof...\n",
              "1    business and casual  ...  naviforce 2021 bussiness watch men sport quart...\n",
              "2    business and casual  ...  casio general w218h3a black resin band men you...\n",
              "3    business and casual  ...  skmei new men outdoor waterproof sports large ...\n",
              "4          women  sports  ...         kids cute girl cat children kids watch gel\n",
              "..                   ...  ...                                                ...\n",
              "168  business and casual  ...  official original wishdoit jam tangan original...\n",
              "169  business and casual  ...  gchok new men watch outdoor sport waterproof m...\n",
              "170        women  casual  ...  qqmalaysia japan by citizen ladies rubber anal...\n",
              "171        women  casual  ...  sanda sports watch women waterproof multifunct...\n",
              "172        women  sports  ...  skmei smart watch multifunctional sports brace...\n",
              "\n",
              "[173 rows x 3 columns]"
            ]
          },
          "metadata": {},
          "execution_count": 24
        }
      ]
    },
    {
      "cell_type": "code",
      "metadata": {
        "colab": {
          "base_uri": "https://localhost:8080/"
        },
        "id": "IPDIa4QM9gvo",
        "outputId": "797221ac-1d03-402a-afdc-f1d461b5cfc2"
      },
      "source": [
        "watch_df['Watch_Name'].unique()"
      ],
      "execution_count": null,
      "outputs": [
        {
          "output_type": "execute_result",
          "data": {
            "text/plain": [
              "array(['olevs jam tangan original watch men waterproof stainless steel quartz authentic dragon design gold watch for men',\n",
              "       'naviforce 2021 bussiness watch men sport quartz watches luxury brand leather waterproof led wristwatch',\n",
              "       'casio general w218h3a black resin band men youth watch',\n",
              "       'skmei new men outdoor waterproof sports large dial electronic watch multifunction dual display electronic watch',\n",
              "       'kids cute girl cat children kids watch gel',\n",
              "       'carlo rino jade of the orient dark green',\n",
              "       'skmei smart watch fashion full touch screen mens sport fitness watches ip68 waterproof bluetooth luxury connection',\n",
              "       'sanda military waterproof quartz led multifunction luxury fashion men watch',\n",
              "       'uniq aspen strap for apple watch grey blue green series 123456se7 384041424445mm',\n",
              "       'skmei fashion watch men waterproof sport quartz stainless steel steel watch wristwatches',\n",
              "       'curren men g shock waterproof watch fashion sports waterproof quartz jam tangan',\n",
              "       'naviforce mens watch top brand luxury fashion quartz men watches waterproof sports male military wrist watch',\n",
              "       'christmas gift jam tangan couple set top brand luxury men quartz watches women waterproof casual date couple clock male wrist watch',\n",
              "       'casio general aeq110bw9a black resin band men youth watch',\n",
              "       'sanda men watch sports waterproof watch led display multifunction men watch watch',\n",
              "       'bostanten men genuine leather ratchet belt with automatic sliding buckle',\n",
              "       'bostanten official 2052 ready stock new model multifunction waterproof men sports watch cod',\n",
              "       'curren elegant women watch classy quartz g shock waterproof jam tangan beautiful flower dial quartz wristwatches shopeemy',\n",
              "       'bostanten classic black minimalist leather men quartz watch watch1）',\n",
              "       'uniq case for apple watch torres black white blue series 123456se 40mm 44mm',\n",
              "       'skmei new solar power outdoor sports watches men shock watch',\n",
              "       'boy girl kids sports waterproof silicone band led wrist watch',\n",
              "       'skmei i2 sports smart watch ip67 waterproof with heart rate blood pressure oxygen monitoring smartband long standby sport smart watch android ios',\n",
              "       'skmei replace watchbands only band not watch',\n",
              "       'sanda smart watch ios and android bluetooth fitness watch with pedometer fashion watch',\n",
              "       'skmei men quartz watch casual ultra thin waterproof simple style business wristwatches',\n",
              "       'skmei men women smart watch sport clock fitness heart rate monitor sleep monitor ip67 for android ios',\n",
              "       'skmei couple watch men women quartz casual stainless steel dress dinner analog goldandsilver',\n",
              "       'wishdoit 100 asal jam tangan original waterproof men watch stainless steel quartz analog watch for men business sport multifunction calendar fashion wristwatch green',\n",
              "       'naviforce women watches top brand luxury stainless steel strap wristwatch for women clock stylish quartz ladies watch',\n",
              "       'olevs jam tangan wanita women watches original wrist watch women casual rose gold ultrathin quartz girl steel watch',\n",
              "       'casio general mq241b3 black resin band men youth watch',\n",
              "       'sanda men watch luxury waterproof quartz led with multifunction swimming watch 739',\n",
              "       'skmei 1454 top luxury men dual display led pu luxury strap date clock watch',\n",
              "       'bostanten men sports shock watch 3time chrono alarm date week display led light big dial military men sports watches jam tangan',\n",
              "       'naviforce men sport leather quartz led watch with original box jam tangan',\n",
              "       'qqmalaysia japan by citizen resin analogue watch vs42',\n",
              "       'skmei logo original brand metal box gift box',\n",
              "       'sanda waterproof women watch sports watch multifunction outdoor women watch',\n",
              "       'qqmalaysia japan by citizen resin analogue watch a212',\n",
              "       'casio general a168wa1w silver stainless steel band men watch',\n",
              "       'qqmalaysia japan by citizen ladieskids resin analogue watch vr19',\n",
              "       'skmei waterproof bluetooth sport fitness wristband for men women pedometer heart rate smart band bracelet',\n",
              "       'olevs watch men business new jam tangan original quartz watch steel strap gold waterproof calendar blue black green men casual watch for men',\n",
              "       'sanda waterproof women watch fashion sports women watch',\n",
              "       'sanda official original luxury watch gift box',\n",
              "       'casio general ae1200whd1a silver stainless steel band men watch',\n",
              "       'box upgrade qqmalaysia box qc225 rm15 only please purchase with',\n",
              "       'qqmalaysia japan by citizen men resin analogue watch vs50',\n",
              "       'opk watches for women casual water resistant quartz watch jam tangan wanita wristwatches',\n",
              "       'kids bracelet led sport watch',\n",
              "       'curren men luxury waterproof sports quartz military leather watch',\n",
              "       'skmei kiblat watch direction time reminder nmane display worship pray compass religious monthday wristwatch for gift calendar pilgrimage',\n",
              "       'skmei logo box06 watch box gift box package',\n",
              "       'skmei women luxury quartz watch fashion design water resistant mesh stainless steel strap rose gold',\n",
              "       'julius store women square watches ja496',\n",
              "       'naviforce 100 original men sport quartz stainless steel wrist watch silver watch with box',\n",
              "       'milliot and coalexis watch set',\n",
              "       'clearance sanda official waterproof new listing women watch sports watch original fashion luxury multifunctional 24 hour women watch',\n",
              "       'qqmalaysia japan by citizen rubber analogue watch vs12',\n",
              "       'wishdoit 100 asal jam tangan original waterproof men watch stainless steel strap quartz analog watch for men business sport multifunction calendar fashion wristwatch jam hitam',\n",
              "       'sanda men watch waterproof fashion sports luxury multifunction analog men watch',\n",
              "       'skmei women quartz watch silicone waterproof sport wristwatch bracelet sport watch',\n",
              "       'skmei sports waterproof watches countdown alarm fashion wristwatch clock',\n",
              "       'bostanten leather strap quartz watch simple original waterproof watches men jam tangan free box',\n",
              "       'opk jam tangan wanita murah girl ladies watch women waterproof leather strap genuine original quartz small dial flowing rhinestone trend design',\n",
              "       'not for sale free gift kit kat watch',\n",
              "       'skmei simple design quartz small dial watch women student',\n",
              "       'sanda women watch waterproof luxury fashion multifunctional multifunction women watch',\n",
              "       'daniel wellington petite cornwall black watch 2832mm rose gold nato strap dw watch for women fashion watch dw official authentic jam tangan jam tangan jam tangan jam tangan wanita',\n",
              "       'qqmalaysia japan by citizen ladies leather analogue watch q979 qz87',\n",
              "       'naviforce men military dual display quartz led stainless steel waterproof watch silver',\n",
              "       'gwp catepillar limited edition sport towel not for sale',\n",
              "       'olevs jam tangan original waterproof watch men quartz analog genuine leather business sun moon star multifunctional calendar fashion men watches',\n",
              "       'qqmalaysia japan by citizen ladies resin analogue watch vp34',\n",
              "       'cute candy color sports led men women kid student watch jam tangan wanita kanak',\n",
              "       '2021 cute candy color sports led men women kid student watch jam tangan wanita kanak',\n",
              "       'skmei sports watch shock led jam tangan outdoor multifunction data calendar running',\n",
              "       'wishdoit 100 asal jam tangan wanita original waterproof ladies watch leather strap quartz analog watch for women multifunction calendar casual fashion wristwatch',\n",
              "       'skmei ready stock new model multifunction waterproof men sports watch',\n",
              "       'voarch smart watch men woman full waterproof heart rate sleep monitor for ios android phone',\n",
              "       'julius quartz waterproof watch natural leather strap ja1112',\n",
              "       'wishdoit 100 asal jam tangan original waterproof men watch stainless steel quartz analog watch for men business sport multifunction calendar fashion wristwatch',\n",
              "       'qqmalaysia japan by citizen kids resin analogue watch vr99',\n",
              "       'casio general ltp1302d7a2 stainless steel band women watch',\n",
              "       'official original wishdoit jam tangan multifunction waterproof watch led analogdigita watch quartz watch men watch sports watch golden black watch luxury watch watch authentic watches can swimming',\n",
              "       'skmei kiblat men direction time pilgrimage watch led light languege selection date alarm calendar religious worship pray',\n",
              "       'qqmalaysia japan by citizen ladies leather analogue watch qc35',\n",
              "       'free watch box olevs luxury jam tangan couple watch women original casual waterproof quartz leather watch men watches',\n",
              "       'jam tangan wanita murah original ladies watch women casual magnet waterproof for girl',\n",
              "       'qqmalaysia japan by citizen ladies resin analogue watch vq86',\n",
              "       'naviforce men analog leather sports military quartz watchwith original box g jam tangan shock',\n",
              "       'asal wishdoit jam tangan original multifunction waterproof watch analog watch quartz watch men watch sports watch stainless steel watch black watch luxury watch watch casual watch authentic watches can swimming',\n",
              "       'ready stock 2021 new men watches lige top brand luxury waterproof quartz square watch for men date sport hollow clock male jam tangan',\n",
              "       'band 5 strap free gift',\n",
              "       'skmei women quartz pu strap waterproof sport wristwatches',\n",
              "       'skmei smart watch women blood pressure heart rate sports fitness watches ultra thin diy watch faces for android ios',\n",
              "       'free watch box original steel watch women casual waterproof rose gold quartz watches jam tangan wanita murah',\n",
              "       'skmei prayer watch with azan time and compass calendar alarmislamic muslim wristwatch',\n",
              "       'olevs jam tangan wanita original watch women waterproof rose gold lady girl watch set gift',\n",
              "       'official original wishdoit jam tangan men watch sport watch men analogue watch leather strap quartz watches multifunction swimming watch really threeeye watch business casual couple watch',\n",
              "       'casio general f91w1s black resin band men youth watch',\n",
              "       'curren mens luxury casual quartz wristwatches with hands sport clock stainless steel wrist watches for male',\n",
              "       'qqmalaysia japan by citizen ladies leather analogue watch qz51',\n",
              "       'skmei men sport led back el light display watch luxury wristwatches waterproof',\n",
              "       'skmei leather strap watch couple simple original waterproof watches women men',\n",
              "       'wishdoit 100 asal jam tangan original waterproof men watch stainless steel strap quartz analog watch for men business sun moon star multifunction calendar fashion wristwatch',\n",
              "       'jam tangan couple set bostanten luxury watches men women couple watches ladies original casual waterproof quartz watches men classic simple resistant leather watches',\n",
              "       'bostanten women leather watch creative unique style charm clock jam tangan wanita free box',\n",
              "       'her jewellery sonia leather watch premium crystals with 18k real gold plated',\n",
              "       'cartoon 50m waterproof led children mickey doraemon watch girl boy sports silicone band',\n",
              "       'sanda bluetooth call smart watch music player waterproof watch exercise heart rate fitness music men watch women smart watch calories blood pressure',\n",
              "       'bostanten multifunction sports men watch waterproof and shock resistant jam tangan',\n",
              "       'skmei fashion couple watch women original casual waterproof quartz watches men watches stainless steel wristwatch jam tangan',\n",
              "       'sanda waterproof men watch stainless steel swimming watch for men watch',\n",
              "       'skmei women fashion simple quartz watch leather ladies waterproof clock watches',\n",
              "       'bostanten men ultra thin waterproof quartz leather original watch for men jam tangan',\n",
              "       '100 original men watch and sunglasses highend luxury gift 2pcsset with gift box business casual holiday gift men gifts hadiah untuk',\n",
              "       'qqmalaysia japan by citizen men resin analogue watch vs44',\n",
              "       'bostanten dial women leather quartz watch classic rainbow jam tangan wanita free box',\n",
              "       'qqmalaysia japan by citizen resin analogue watch vp46 v06a',\n",
              "       'sanda waterproof men watch sports luxury quartz led multifunction swimming military mens watch 6008',\n",
              "       'skmei women waterproof sport alarm led wristwatch bracelet sport watch couple',\n",
              "       'opk square watch women original jam tangan wanita waterproof stainless steel quartz calendar display relo fashion ladies watch for women',\n",
              "       'bostanten ultrathin wrist women watches luxury female clock fashion montre femme ladies quartz watch jam tangan wanita',\n",
              "       '100original wishdoit jam tangan wanita couple watch set men business casual women waterproof stainless steel quartz ladies watches free boxleather strap',\n",
              "       'fossil rhett watch bq1009',\n",
              "       'shopee exclusive ice glam pastel medium pink lady',\n",
              "       'bostanten men sports watch multifunctional waterproof military jam tangan',\n",
              "       'official original wishdoit jam tangan multifunction waterproof watch analog watch quartz watch men watch sports watch stainless steel watch black watch luxury watch watch casual watch authentic watches can swimming',\n",
              "       'ready stock lige men waterproof sport quartz stainless steel watch jam tangan',\n",
              "       'sanda women watch waterproof luxury fashion multifunctional outdoor women watch',\n",
              "       'qqmalaysia japan by citizen floral dial ladies resin analogue watch vs12',\n",
              "       'qqmalaysia japan by citizen resin analogue watch vs52',\n",
              "       'skmei ultra light stainless steel men watch silicone strap boy style quartz black color gold',\n",
              "       'sanda sports watch men watch waterproof army green analog military fashion led multifunction men watch',\n",
              "       'naviforce mens sport leather waterproof wrist watch with original box jam tangan',\n",
              "       'wishdoit 100 asal jam tangan original waterproof men watch stainless steel quartz analog watch for men business sun moon star multifunction calendar fashion wristwatch',\n",
              "       'bostanten fashion gift bag',\n",
              "       'skmei watch box small light weight simple package packing case',\n",
              "       'qqmalaysia japan by citizen kids resin analogue watch vs59',\n",
              "       'naviforce dual display watch men army military sports watches man leather montre homme 2018',\n",
              "       'submarine men watch fashion sports analog waterproof kids watch i jam tangan wanita tp2145mps',\n",
              "       'skmei men waterproof led clocks sports watch 50m',\n",
              "       'wishdoit 100 asal jam tangan original waterproof men watch leather strap quartz analog watch for men sport multifunction calendar fashion wristwatch',\n",
              "       'bostanten classic rainbow dial women leather quartz watch',\n",
              "       'naviforce women ladies girl fashion casual analog quartz watch',\n",
              "       'qqmalaysia japan by citizen resin analogue watch vr28',\n",
              "       'sanda waterproof men watch led running sports stopwatch fashion men watch',\n",
              "       'skmei women fashion watches quartz waterproof watch stainless steel elegant wristwatches ladies',\n",
              "       'sanda men watch waterproof dual display multifunction sports fashion men watch',\n",
              "       'clearance skmei women classic square dial quartz wristwatches fashion casual watch leather strap watches',\n",
              "       'wishdoit 100 asal jam tangan original waterproof men watch leather strap quartz analog watch for men business sport multifunction calendar fashion wristwatch',\n",
              "       'b016 stainless steel watch strap band time function luxury style',\n",
              "       'skmei m4 smart bracelet sport fitness pedometer heart rate blood pressure bluetooth smartband ios android',\n",
              "       'rubber strap watch band sports multi color touch screen soft wristband',\n",
              "       'produk wishdoit women temperament simple casual watch leather quartz watches fashion elegant watch waterproof swimming week calendar functions allmatch girl student watch',\n",
              "       'crrju fashion men ultrathin waterproof sports quartz watches g shock',\n",
              "       'skmei men women large size sport watch analog large dial alarm watch dual display waterproof wristwatches boys girls',\n",
              "       'skmei men watches steel belt dive sports quartz watches free box',\n",
              "       'wishdoit 100 asal couple watch set original jam tangan pasangan lelakiperempuanwanita men business casual women waterproof stainless steel quartz ladies watches free boxleather strap',\n",
              "       'qqmalaysia japan by citizen ladies stainless steel mesh analogue watch qa21',\n",
              "       'skmei 154inch smart watch bluetooth call touch screen music control sport heart rate monitoring',\n",
              "       'wishdoit 100 asal jam tangan original waterproof men watch stainless steel quartz analog watch for men business sport multifunction calendar fashion wristwatch black',\n",
              "       'skmei men sports shock watch 3time chrono alarm date week display led light big dial military men sports watches',\n",
              "       'ready stock lige jam tangan couple watch women original casual waterproof quartz leather watch men watches',\n",
              "       'skmei men sports waterproof led light display watch',\n",
              "       'curren jam tangan men military sport quartz watch men fashion business waterproof cheap watch',\n",
              "       'official original wishdoit jam tangan original jam men watch pu leather strap jam tangan korean style jam tangan pria fashion pria jam tangan sport watch multifunction swimming waterproof watch quartz men analogue watches',\n",
              "       'gchok new men watch outdoor sport waterproof multifunction dual display watches',\n",
              "       'qqmalaysia japan by citizen ladies rubber analogue watch vs13 v01a',\n",
              "       'sanda sports watch women waterproof multifunctional wristwatch women',\n",
              "       'skmei smart watch multifunctional sports bracelet smart wristband ip67 fit bit smart wristwatches fitness heart rate'],\n",
              "      dtype=object)"
            ]
          },
          "metadata": {},
          "execution_count": 25
        }
      ]
    },
    {
      "cell_type": "markdown",
      "metadata": {
        "id": "3xX1cwBM-hEG"
      },
      "source": [
        "####**Step 3.6.4: Refine the removal of Malay language words**\n",
        "Although the library may remove some words that are considered as words from the Malay language, but there are some commonly appeared Malay language words in the watch name that are not removed such as \"jam tangan\", \"wanita\", \"perempuan\" and more. An example is such as below:\n",
        "\n",
        "\n"
      ]
    },
    {
      "cell_type": "markdown",
      "metadata": {
        "id": "gIwEx8F5HCkP"
      },
      "source": [
        "#####**Example of Malay language words that are not removed**"
      ]
    },
    {
      "cell_type": "code",
      "metadata": {
        "colab": {
          "base_uri": "https://localhost:8080/",
          "height": 35
        },
        "id": "mlsp1Rq3Amvo",
        "outputId": "1a247d8d-5714-4481-e0a6-5774babf1e41"
      },
      "source": [
        "watch_df['Watch_Name'].iloc[0] # the word 'jam tangan' is not needed as the word 'watch' is present and they ('jam tangan' and 'watch') are semantically the same "
      ],
      "execution_count": null,
      "outputs": [
        {
          "output_type": "execute_result",
          "data": {
            "application/vnd.google.colaboratory.intrinsic+json": {
              "type": "string"
            },
            "text/plain": [
              "'olevs jam tangan original watch men waterproof stainless steel quartz authentic dragon design gold watch for men'"
            ]
          },
          "metadata": {},
          "execution_count": 26
        }
      ]
    },
    {
      "cell_type": "code",
      "metadata": {
        "colab": {
          "base_uri": "https://localhost:8080/",
          "height": 35
        },
        "id": "_nLRCZkKBvtD",
        "outputId": "751970f8-fadd-43e4-a40a-7e9b4e5b839a"
      },
      "source": [
        "watch_df['Watch_Name'].iloc[34] #additional example"
      ],
      "execution_count": null,
      "outputs": [
        {
          "output_type": "execute_result",
          "data": {
            "application/vnd.google.colaboratory.intrinsic+json": {
              "type": "string"
            },
            "text/plain": [
              "'bostanten men sports shock watch 3time chrono alarm date week display led light big dial military men sports watches jam tangan'"
            ]
          },
          "metadata": {},
          "execution_count": 27
        }
      ]
    },
    {
      "cell_type": "markdown",
      "metadata": {
        "id": "M-87ppaPHKRm"
      },
      "source": [
        "#####**Refinement process**"
      ]
    },
    {
      "cell_type": "code",
      "metadata": {
        "id": "M4P7oprCoOps"
      },
      "source": [
        "# Define function refine_and_remove_repeated_info to refine the process of removing malay language words\n",
        "def refine_and_remove_repeated_info(sentence):\n",
        "    sentence = re.sub('(jam tangan|jam)', '', sentence)\n",
        "    sentence = re.sub('(perempuan|wanita|female|ladies)', 'women', sentence)\n",
        "    sentence = re.sub('(lelaki|male)', 'men', sentence)\n",
        "    sentence = re.sub('(budak|kanak|children|kids)', 'kid', sentence)\n",
        "    sentence = re.sub('pasangan', 'couple', sentence)\n",
        "    sentence = re.sub('rasmi', 'official', sentence)\n",
        "    sentence = re.sub('asal', 'original', sentence)\n",
        "    sentence = re.sub('murah', 'cheap', sentence)\n",
        "\n",
        "    s = ''\n",
        "    final_lst = []\n",
        "    for w in sentence.split():\n",
        "        if w not in final_lst:\n",
        "            final_lst.append(w)\n",
        "            s += w +\" \"\n",
        "    return s.strip()"
      ],
      "execution_count": null,
      "outputs": []
    },
    {
      "cell_type": "code",
      "metadata": {
        "id": "uFutvbzEtEJI"
      },
      "source": [
        "watch_df['Watch_Name'] = watch_df['Watch_Name'].apply(refine_and_remove_repeated_info)"
      ],
      "execution_count": null,
      "outputs": []
    },
    {
      "cell_type": "code",
      "metadata": {
        "colab": {
          "base_uri": "https://localhost:8080/",
          "height": 423
        },
        "id": "JUptucyBtHvf",
        "outputId": "6b5f08ac-7d87-4e68-b7b9-9725223e4476"
      },
      "source": [
        "watch_df"
      ],
      "execution_count": null,
      "outputs": [
        {
          "output_type": "execute_result",
          "data": {
            "text/html": [
              "<div>\n",
              "<style scoped>\n",
              "    .dataframe tbody tr th:only-of-type {\n",
              "        vertical-align: middle;\n",
              "    }\n",
              "\n",
              "    .dataframe tbody tr th {\n",
              "        vertical-align: top;\n",
              "    }\n",
              "\n",
              "    .dataframe thead th {\n",
              "        text-align: right;\n",
              "    }\n",
              "</style>\n",
              "<table border=\"1\" class=\"dataframe\">\n",
              "  <thead>\n",
              "    <tr style=\"text-align: right;\">\n",
              "      <th></th>\n",
              "      <th>Watch_Style</th>\n",
              "      <th>Watch_Brand</th>\n",
              "      <th>Watch_Name</th>\n",
              "    </tr>\n",
              "  </thead>\n",
              "  <tbody>\n",
              "    <tr>\n",
              "      <th>0</th>\n",
              "      <td>business and casual</td>\n",
              "      <td>olevs.os</td>\n",
              "      <td>olevs original watch men waterproof stainless ...</td>\n",
              "    </tr>\n",
              "    <tr>\n",
              "      <th>1</th>\n",
              "      <td>business and casual</td>\n",
              "      <td>naviforce.os</td>\n",
              "      <td>naviforce 2021 bussiness watch men sport quart...</td>\n",
              "    </tr>\n",
              "    <tr>\n",
              "      <th>2</th>\n",
              "      <td>business and casual</td>\n",
              "      <td>casio.os</td>\n",
              "      <td>casio general w218h3a black resin band men you...</td>\n",
              "    </tr>\n",
              "    <tr>\n",
              "      <th>3</th>\n",
              "      <td>business and casual</td>\n",
              "      <td>skmei.os</td>\n",
              "      <td>skmei new men outdoor waterproof sports large ...</td>\n",
              "    </tr>\n",
              "    <tr>\n",
              "      <th>4</th>\n",
              "      <td>women  sports</td>\n",
              "      <td>skmei.os</td>\n",
              "      <td>kid cute girl cat watch gel</td>\n",
              "    </tr>\n",
              "    <tr>\n",
              "      <th>...</th>\n",
              "      <td>...</td>\n",
              "      <td>...</td>\n",
              "      <td>...</td>\n",
              "    </tr>\n",
              "    <tr>\n",
              "      <th>168</th>\n",
              "      <td>business and casual</td>\n",
              "      <td>wishdoitwatch.wh.os</td>\n",
              "      <td>official original wishdoit men watch pu leathe...</td>\n",
              "    </tr>\n",
              "    <tr>\n",
              "      <th>169</th>\n",
              "      <td>business and casual</td>\n",
              "      <td>adshops.os</td>\n",
              "      <td>gchok new men watch outdoor sport waterproof m...</td>\n",
              "    </tr>\n",
              "    <tr>\n",
              "      <th>170</th>\n",
              "      <td>women  casual</td>\n",
              "      <td>qqmalaysia.os</td>\n",
              "      <td>qqmalaysia japan by citizen women rubber analo...</td>\n",
              "    </tr>\n",
              "    <tr>\n",
              "      <th>171</th>\n",
              "      <td>women  casual</td>\n",
              "      <td>sanda.os</td>\n",
              "      <td>sanda sports watch women waterproof multifunct...</td>\n",
              "    </tr>\n",
              "    <tr>\n",
              "      <th>172</th>\n",
              "      <td>women  sports</td>\n",
              "      <td>skmei.os</td>\n",
              "      <td>skmei smart watch multifunctional sports brace...</td>\n",
              "    </tr>\n",
              "  </tbody>\n",
              "</table>\n",
              "<p>173 rows × 3 columns</p>\n",
              "</div>"
            ],
            "text/plain": [
              "             Watch_Style  ...                                         Watch_Name\n",
              "0    business and casual  ...  olevs original watch men waterproof stainless ...\n",
              "1    business and casual  ...  naviforce 2021 bussiness watch men sport quart...\n",
              "2    business and casual  ...  casio general w218h3a black resin band men you...\n",
              "3    business and casual  ...  skmei new men outdoor waterproof sports large ...\n",
              "4          women  sports  ...                        kid cute girl cat watch gel\n",
              "..                   ...  ...                                                ...\n",
              "168  business and casual  ...  official original wishdoit men watch pu leathe...\n",
              "169  business and casual  ...  gchok new men watch outdoor sport waterproof m...\n",
              "170        women  casual  ...  qqmalaysia japan by citizen women rubber analo...\n",
              "171        women  casual  ...  sanda sports watch women waterproof multifunct...\n",
              "172        women  sports  ...  skmei smart watch multifunctional sports brace...\n",
              "\n",
              "[173 rows x 3 columns]"
            ]
          },
          "metadata": {},
          "execution_count": 30
        }
      ]
    },
    {
      "cell_type": "markdown",
      "metadata": {
        "id": "w8XA94EfJeb6"
      },
      "source": [
        "####**Review: Final list of the unique values of each column that represents the watches attributes in the dataframe**"
      ]
    },
    {
      "cell_type": "code",
      "metadata": {
        "colab": {
          "base_uri": "https://localhost:8080/"
        },
        "id": "PHKeNye3-u05",
        "outputId": "41be6025-67d8-48f8-baf1-c83bd036f4e0"
      },
      "source": [
        "watch_df['Watch_Name'].unique()"
      ],
      "execution_count": null,
      "outputs": [
        {
          "output_type": "execute_result",
          "data": {
            "text/plain": [
              "array(['olevs original watch men waterproof stainless steel quartz authentic dragon design gold for',\n",
              "       'naviforce 2021 bussiness watch men sport quartz watches luxury brand leather waterproof led wristwatch',\n",
              "       'casio general w218h3a black resin band men youth watch',\n",
              "       'skmei new men outdoor waterproof sports large dial electronic watch multifunction dual display',\n",
              "       'kid cute girl cat watch gel',\n",
              "       'carlo rino jade of the orient dark green',\n",
              "       'skmei smart watch fashion full touch screen mens sport fitness watches ip68 waterproof bluetooth luxury connection',\n",
              "       'sanda military waterproof quartz led multifunction luxury fashion men watch',\n",
              "       'uniq aspen strap for apple watch grey blue green series 123456se7 384041424445mm',\n",
              "       'skmei fashion watch men waterproof sport quartz stainless steel wristwatches',\n",
              "       'curren men g shock waterproof watch fashion sports quartz',\n",
              "       'naviforce mens watch top brand luxury fashion quartz men watches waterproof sports military wrist',\n",
              "       'christmas gift couple set top brand luxury men quartz watches women waterproof casual date clock wrist watch',\n",
              "       'casio general aeq110bw9a black resin band men youth watch',\n",
              "       'sanda men watch sports waterproof led display multifunction',\n",
              "       'bostanten men genuine leather ratchet belt with automatic sliding buckle',\n",
              "       'bostanten official 2052 ready stock new model multifunction waterproof men sports watch cod',\n",
              "       'curren elegant women watch classy quartz g shock waterproof beautiful flower dial wristwatches shopeemy',\n",
              "       'bostanten classic black minimalist leather men quartz watch watch1）',\n",
              "       'uniq case for apple watch torres black white blue series 123456se 40mm 44mm',\n",
              "       'skmei new solar power outdoor sports watches men shock watch',\n",
              "       'boy girl kid sports waterproof silicone band led wrist watch',\n",
              "       'skmei i2 sports smart watch ip67 waterproof with heart rate blood pressure oxygen monitoring smartband long standby sport android ios',\n",
              "       'skmei replace watchbands only band not watch',\n",
              "       'sanda smart watch ios and android bluetooth fitness with pedometer fashion',\n",
              "       'skmei men quartz watch casual ultra thin waterproof simple style business wristwatches',\n",
              "       'skmei men women smart watch sport clock fitness heart rate monitor sleep ip67 for android ios',\n",
              "       'skmei couple watch men women quartz casual stainless steel dress dinner analog goldandsilver',\n",
              "       'wishdoit 100 original waterproof men watch stainless steel quartz analog for business sport multifunction calendar fashion wristwatch green',\n",
              "       'naviforce women watches top brand luxury stainless steel strap wristwatch for clock stylish quartz watch',\n",
              "       'olevs women watches original wrist watch casual rose gold ultrathin quartz girl steel',\n",
              "       'casio general mq241b3 black resin band men youth watch',\n",
              "       'sanda men watch luxury waterproof quartz led with multifunction swimming 739',\n",
              "       'skmei 1454 top luxury men dual display led pu strap date clock watch',\n",
              "       'bostanten men sports shock watch 3time chrono alarm date week display led light big dial military watches',\n",
              "       'naviforce men sport leather quartz led watch with original box',\n",
              "       'qqmalaysia japan by citizen resin analogue watch vs42',\n",
              "       'skmei logo original brand metal box gift',\n",
              "       'sanda waterproof women watch sports multifunction outdoor',\n",
              "       'qqmalaysia japan by citizen resin analogue watch a212',\n",
              "       'casio general a168wa1w silver stainless steel band men watch',\n",
              "       'qqmalaysia japan by citizen womenkid resin analogue watch vr19',\n",
              "       'skmei waterproof bluetooth sport fitness wristband for men women pedometer heart rate smart band bracelet',\n",
              "       'olevs watch men business new original quartz steel strap gold waterproof calendar blue black green casual for',\n",
              "       'sanda waterproof women watch fashion sports',\n",
              "       'sanda official original luxury watch gift box',\n",
              "       'casio general ae1200whd1a silver stainless steel band men watch',\n",
              "       'box upgrade qqmalaysia qc225 rm15 only please purchase with',\n",
              "       'qqmalaysia japan by citizen men resin analogue watch vs50',\n",
              "       'opk watches for women casual water resistant quartz watch wristwatches',\n",
              "       'kid bracelet led sport watch',\n",
              "       'curren men luxury waterproof sports quartz military leather watch',\n",
              "       'skmei kiblat watch direction time reminder nmane display worship pray compass religious monthday wristwatch for gift calendar pilgrimage',\n",
              "       'skmei logo box06 watch box gift package',\n",
              "       'skmei women luxury quartz watch fashion design water resistant mesh stainless steel strap rose gold',\n",
              "       'julius store women square watches ja496',\n",
              "       'naviforce 100 original men sport quartz stainless steel wrist watch silver with box',\n",
              "       'milliot and coalexis watch set',\n",
              "       'clearance sanda official waterproof new listing women watch sports original fashion luxury multifunctional 24 hour',\n",
              "       'qqmalaysia japan by citizen rubber analogue watch vs12',\n",
              "       'wishdoit 100 original waterproof men watch stainless steel strap quartz analog for business sport multifunction calendar fashion wristwatch hitam',\n",
              "       'sanda men watch waterproof fashion sports luxury multifunction analog',\n",
              "       'skmei women quartz watch silicone waterproof sport wristwatch bracelet',\n",
              "       'skmei sports waterproof watches countdown alarm fashion wristwatch clock',\n",
              "       'bostanten leather strap quartz watch simple original waterproof watches men free box',\n",
              "       'opk women cheap girl watch waterproof leather strap genuine original quartz small dial flowing rhinestone trend design',\n",
              "       'not for sale free gift kit kat watch',\n",
              "       'skmei simple design quartz small dial watch women student',\n",
              "       'sanda women watch waterproof luxury fashion multifunctional multifunction',\n",
              "       'daniel wellington petite cornwall black watch 2832mm rose gold nato strap dw for women fashion official authentic',\n",
              "       'qqmalaysia japan by citizen women leather analogue watch q979 qz87',\n",
              "       'naviforce men military dual display quartz led stainless steel waterproof watch silver',\n",
              "       'gwp catepillar limited edition sport towel not for sale',\n",
              "       'olevs original waterproof watch men quartz analog genuine leather business sun moon star multifunctional calendar fashion watches',\n",
              "       'qqmalaysia japan by citizen women resin analogue watch vp34',\n",
              "       'cute candy color sports led men women kid student watch',\n",
              "       '2021 cute candy color sports led men women kid student watch',\n",
              "       'skmei sports watch shock led outdoor multifunction data calendar running',\n",
              "       'wishdoit 100 original women waterproof watch leather strap quartz analog for multifunction calendar casual fashion wristwatch',\n",
              "       'skmei ready stock new model multifunction waterproof men sports watch',\n",
              "       'voarch smart watch men woman full waterproof heart rate sleep monitor for ios android phone',\n",
              "       'julius quartz waterproof watch natural leather strap ja1112',\n",
              "       'wishdoit 100 original waterproof men watch stainless steel quartz analog for business sport multifunction calendar fashion wristwatch',\n",
              "       'qqmalaysia japan by citizen kid resin analogue watch vr99',\n",
              "       'casio general ltp1302d7a2 stainless steel band women watch',\n",
              "       'official original wishdoit multifunction waterproof watch led analogdigita quartz men sports golden black luxury authentic watches can swimming',\n",
              "       'skmei kiblat men direction time pilgrimage watch led light languege selection date alarm calendar religious worship pray',\n",
              "       'qqmalaysia japan by citizen women leather analogue watch qc35',\n",
              "       'free watch box olevs luxury couple women original casual waterproof quartz leather men watches',\n",
              "       'women cheap original watch casual magnet waterproof for girl',\n",
              "       'qqmalaysia japan by citizen women resin analogue watch vq86',\n",
              "       'naviforce men analog leather sports military quartz watchwith original box g shock',\n",
              "       'original wishdoit multifunction waterproof watch analog quartz men sports stainless steel black luxury casual authentic watches can swimming',\n",
              "       'ready stock 2021 new men watches lige top brand luxury waterproof quartz square watch for date sport hollow clock',\n",
              "       'band 5 strap free gift',\n",
              "       'skmei women quartz pu strap waterproof sport wristwatches',\n",
              "       'skmei smart watch women blood pressure heart rate sports fitness watches ultra thin diy faces for android ios',\n",
              "       'free watch box original steel women casual waterproof rose gold quartz watches cheap',\n",
              "       'skmei prayer watch with azan time and compass calendar alarmislamic muslim wristwatch',\n",
              "       'olevs women original watch waterproof rose gold lady girl set gift',\n",
              "       'official original wishdoit men watch sport analogue leather strap quartz watches multifunction swimming really threeeye business casual couple',\n",
              "       'casio general f91w1s black resin band men youth watch',\n",
              "       'curren mens luxury casual quartz wristwatches with hands sport clock stainless steel wrist watches for men',\n",
              "       'qqmalaysia japan by citizen women leather analogue watch qz51',\n",
              "       'skmei men sport led back el light display watch luxury wristwatches waterproof',\n",
              "       'skmei leather strap watch couple simple original waterproof watches women men',\n",
              "       'wishdoit 100 original waterproof men watch stainless steel strap quartz analog for business sun moon star multifunction calendar fashion wristwatch',\n",
              "       'couple set bostanten luxury watches men women original casual waterproof quartz classic simple resistant leather',\n",
              "       'bostanten women leather watch creative unique style charm clock free box',\n",
              "       'her jewellery sonia leather watch premium crystals with 18k real gold plated',\n",
              "       'cartoon 50m waterproof led kid mickey doraemon watch girl boy sports silicone band',\n",
              "       'sanda bluetooth call smart watch music player waterproof exercise heart rate fitness men women calories blood pressure',\n",
              "       'bostanten multifunction sports men watch waterproof and shock resistant',\n",
              "       'skmei fashion couple watch women original casual waterproof quartz watches men stainless steel wristwatch',\n",
              "       'sanda waterproof men watch stainless steel swimming for',\n",
              "       'skmei women fashion simple quartz watch leather waterproof clock watches',\n",
              "       'bostanten men ultra thin waterproof quartz leather original watch for',\n",
              "       '100 original men watch and sunglasses highend luxury gift 2pcsset with box business casual holiday gifts hadiah untuk',\n",
              "       'qqmalaysia japan by citizen men resin analogue watch vs44',\n",
              "       'bostanten dial women leather quartz watch classic rainbow free box',\n",
              "       'qqmalaysia japan by citizen resin analogue watch vp46 v06a',\n",
              "       'sanda waterproof men watch sports luxury quartz led multifunction swimming military mens 6008',\n",
              "       'skmei women waterproof sport alarm led wristwatch bracelet watch couple',\n",
              "       'opk square watch women original waterproof stainless steel quartz calendar display relo fashion for',\n",
              "       'bostanten ultrathin wrist women watches luxury clock fashion montre femme quartz watch',\n",
              "       '100original wishdoit women couple watch set men business casual waterproof stainless steel quartz watches free boxleather strap',\n",
              "       'fossil rhett watch bq1009',\n",
              "       'shopee exclusive ice glam pastel medium pink lady',\n",
              "       'bostanten men sports watch multifunctional waterproof military',\n",
              "       'official original wishdoit multifunction waterproof watch analog quartz men sports stainless steel black luxury casual authentic watches can swimming',\n",
              "       'ready stock lige men waterproof sport quartz stainless steel watch',\n",
              "       'sanda women watch waterproof luxury fashion multifunctional outdoor',\n",
              "       'qqmalaysia japan by citizen floral dial women resin analogue watch vs12',\n",
              "       'qqmalaysia japan by citizen resin analogue watch vs52',\n",
              "       'skmei ultra light stainless steel men watch silicone strap boy style quartz black color gold',\n",
              "       'sanda sports watch men waterproof army green analog military fashion led multifunction',\n",
              "       'naviforce mens sport leather waterproof wrist watch with original box',\n",
              "       'wishdoit 100 original waterproof men watch stainless steel quartz analog for business sun moon star multifunction calendar fashion wristwatch',\n",
              "       'bostanten fashion gift bag',\n",
              "       'skmei watch box small light weight simple package packing case',\n",
              "       'qqmalaysia japan by citizen kid resin analogue watch vs59',\n",
              "       'naviforce dual display watch men army military sports watches man leather montre homme 2018',\n",
              "       'submarine men watch fashion sports analog waterproof kid i women tp2145mps',\n",
              "       'skmei men waterproof led clocks sports watch 50m',\n",
              "       'wishdoit 100 original waterproof men watch leather strap quartz analog for sport multifunction calendar fashion wristwatch',\n",
              "       'bostanten classic rainbow dial women leather quartz watch',\n",
              "       'naviforce women girl fashion casual analog quartz watch',\n",
              "       'qqmalaysia japan by citizen resin analogue watch vr28',\n",
              "       'sanda waterproof men watch led running sports stopwatch fashion',\n",
              "       'skmei women fashion watches quartz waterproof watch stainless steel elegant wristwatches',\n",
              "       'sanda men watch waterproof dual display multifunction sports fashion',\n",
              "       'clearance skmei women classic square dial quartz wristwatches fashion casual watch leather strap watches',\n",
              "       'wishdoit 100 original waterproof men watch leather strap quartz analog for business sport multifunction calendar fashion wristwatch',\n",
              "       'b016 stainless steel watch strap band time function luxury style',\n",
              "       'skmei m4 smart bracelet sport fitness pedometer heart rate blood pressure bluetooth smartband ios android',\n",
              "       'rubber strap watch band sports multi color touch screen soft wristband',\n",
              "       'produk wishdoit women temperament simple casual watch leather quartz watches fashion elegant waterproof swimming week calendar functions allmatch girl student',\n",
              "       'crrju fashion men ultrathin waterproof sports quartz watches g shock',\n",
              "       'skmei men women large size sport watch analog dial alarm dual display waterproof wristwatches boys girls',\n",
              "       'skmei men watches steel belt dive sports quartz free box',\n",
              "       'wishdoit 100 original couple watch set menwomenwomen men business casual women waterproof stainless steel quartz watches free boxleather strap',\n",
              "       'qqmalaysia japan by citizen women stainless steel mesh analogue watch qa21',\n",
              "       'skmei 154inch smart watch bluetooth call touch screen music control sport heart rate monitoring',\n",
              "       'wishdoit 100 original waterproof men watch stainless steel quartz analog for business sport multifunction calendar fashion wristwatch black',\n",
              "       'skmei men sports shock watch 3time chrono alarm date week display led light big dial military watches',\n",
              "       'ready stock lige couple watch women original casual waterproof quartz leather men watches',\n",
              "       'skmei men sports waterproof led light display watch',\n",
              "       'curren men military sport quartz watch fashion business waterproof cheap',\n",
              "       'official original wishdoit men watch pu leather strap korean style pria fashion sport multifunction swimming waterproof quartz analogue watches',\n",
              "       'gchok new men watch outdoor sport waterproof multifunction dual display watches',\n",
              "       'qqmalaysia japan by citizen women rubber analogue watch vs13 v01a',\n",
              "       'sanda sports watch women waterproof multifunctional wristwatch',\n",
              "       'skmei smart watch multifunctional sports bracelet wristband ip67 fit bit wristwatches fitness heart rate'],\n",
              "      dtype=object)"
            ]
          },
          "metadata": {},
          "execution_count": 31
        }
      ]
    },
    {
      "cell_type": "code",
      "metadata": {
        "colab": {
          "base_uri": "https://localhost:8080/"
        },
        "id": "rVE1wdzmJJG1",
        "outputId": "5cb1d240-b97e-475d-b472-b10f04f9a182"
      },
      "source": [
        "watch_df['Watch_Style'].unique()"
      ],
      "execution_count": null,
      "outputs": [
        {
          "output_type": "execute_result",
          "data": {
            "text/plain": [
              "array(['business and casual', 'women  sports', 'women  casual',\n",
              "       'straps and clasps', 'business set', 'women  business', 'others',\n",
              "       'display and storage', 'casual set',\n",
              "       '(gwp) catepillar limited edition sport towel (not for sale)'],\n",
              "      dtype=object)"
            ]
          },
          "metadata": {},
          "execution_count": 32
        }
      ]
    },
    {
      "cell_type": "code",
      "metadata": {
        "colab": {
          "base_uri": "https://localhost:8080/"
        },
        "id": "9cdpPD2VJVp7",
        "outputId": "ded939c2-a93c-418f-83b3-6e4b04b9514f"
      },
      "source": [
        "watch_df['Watch_Brand'].unique()"
      ],
      "execution_count": null,
      "outputs": [
        {
          "output_type": "execute_result",
          "data": {
            "text/plain": [
              "array(['olevs.os', 'naviforce.os', 'casio.os', 'skmei.os', 'carlorino.os',\n",
              "       'sanda.os', 'uniq_my', 'curren.os', 'bostantenwatch.os',\n",
              "       'wishdoitwatch.wh.os', 'qqmalaysia.os', 'julius.os',\n",
              "       'milliotandco.os', 'billion.os', 'danielwellington.os',\n",
              "       'catwatch.os', 'ligewatch.os', 'amazfit.os', 'herjewellery123',\n",
              "       'fossil.os', 'icewatch.os', 'voarch.os', 'submarinewatch.os',\n",
              "       'adshops.os'], dtype=object)"
            ]
          },
          "metadata": {},
          "execution_count": 33
        }
      ]
    },
    {
      "cell_type": "markdown",
      "metadata": {
        "id": "rPxzfWTLJzhV"
      },
      "source": [
        "###**Step 3.7: Remove irrelevant data**\n",
        "The subcategories of watches such as *straps and clasps*, *display and storage*, *others*, and *(gwp) catepillar limited edition sport towel (not for sale)* were extracted and they are irrelevant to the case study. Therefore, it will be removed from the dataframe"
      ]
    },
    {
      "cell_type": "code",
      "metadata": {
        "colab": {
          "base_uri": "https://localhost:8080/"
        },
        "id": "YdMw_7p-ydB1",
        "outputId": "496aac2d-c77d-4f12-8a2f-34062e3c9c0f"
      },
      "source": [
        "watch_df[watch_df.Watch_Style == \"straps and clasps\"].index.tolist()"
      ],
      "execution_count": null,
      "outputs": [
        {
          "output_type": "execute_result",
          "data": {
            "text/plain": [
              "[8, 15, 94, 153, 155]"
            ]
          },
          "metadata": {},
          "execution_count": 34
        }
      ]
    },
    {
      "cell_type": "code",
      "metadata": {
        "colab": {
          "base_uri": "https://localhost:8080/",
          "height": 206
        },
        "id": "upKOeaYZKohd",
        "outputId": "449474e2-851c-40c8-f64d-e3681dba18b8"
      },
      "source": [
        "watch_df.iloc[[8, 15, 94, 153, 155]]"
      ],
      "execution_count": null,
      "outputs": [
        {
          "output_type": "execute_result",
          "data": {
            "text/html": [
              "<div>\n",
              "<style scoped>\n",
              "    .dataframe tbody tr th:only-of-type {\n",
              "        vertical-align: middle;\n",
              "    }\n",
              "\n",
              "    .dataframe tbody tr th {\n",
              "        vertical-align: top;\n",
              "    }\n",
              "\n",
              "    .dataframe thead th {\n",
              "        text-align: right;\n",
              "    }\n",
              "</style>\n",
              "<table border=\"1\" class=\"dataframe\">\n",
              "  <thead>\n",
              "    <tr style=\"text-align: right;\">\n",
              "      <th></th>\n",
              "      <th>Watch_Style</th>\n",
              "      <th>Watch_Brand</th>\n",
              "      <th>Watch_Name</th>\n",
              "    </tr>\n",
              "  </thead>\n",
              "  <tbody>\n",
              "    <tr>\n",
              "      <th>8</th>\n",
              "      <td>straps and clasps</td>\n",
              "      <td>uniq_my</td>\n",
              "      <td>uniq aspen strap for apple watch grey blue gre...</td>\n",
              "    </tr>\n",
              "    <tr>\n",
              "      <th>15</th>\n",
              "      <td>straps and clasps</td>\n",
              "      <td>bostantenwatch.os</td>\n",
              "      <td>bostanten men genuine leather ratchet belt wit...</td>\n",
              "    </tr>\n",
              "    <tr>\n",
              "      <th>94</th>\n",
              "      <td>straps and clasps</td>\n",
              "      <td>amazfit.os</td>\n",
              "      <td>band 5 strap free gift</td>\n",
              "    </tr>\n",
              "    <tr>\n",
              "      <th>153</th>\n",
              "      <td>straps and clasps</td>\n",
              "      <td>skmei.os</td>\n",
              "      <td>b016 stainless steel watch strap band time fun...</td>\n",
              "    </tr>\n",
              "    <tr>\n",
              "      <th>155</th>\n",
              "      <td>straps and clasps</td>\n",
              "      <td>skmei.os</td>\n",
              "      <td>rubber strap watch band sports multi color tou...</td>\n",
              "    </tr>\n",
              "  </tbody>\n",
              "</table>\n",
              "</div>"
            ],
            "text/plain": [
              "           Watch_Style  ...                                         Watch_Name\n",
              "8    straps and clasps  ...  uniq aspen strap for apple watch grey blue gre...\n",
              "15   straps and clasps  ...  bostanten men genuine leather ratchet belt wit...\n",
              "94   straps and clasps  ...                             band 5 strap free gift\n",
              "153  straps and clasps  ...  b016 stainless steel watch strap band time fun...\n",
              "155  straps and clasps  ...  rubber strap watch band sports multi color tou...\n",
              "\n",
              "[5 rows x 3 columns]"
            ]
          },
          "metadata": {},
          "execution_count": 35
        }
      ]
    },
    {
      "cell_type": "code",
      "metadata": {
        "colab": {
          "base_uri": "https://localhost:8080/"
        },
        "id": "f5AyMLQkwIBY",
        "outputId": "486a7395-de2f-4913-c33c-8b6fbfd5254c"
      },
      "source": [
        "watch_df[watch_df.Watch_Style == \"display and storage\"].index.tolist()"
      ],
      "execution_count": null,
      "outputs": [
        {
          "output_type": "execute_result",
          "data": {
            "text/plain": [
              "[37, 45, 47, 53, 138, 139]"
            ]
          },
          "metadata": {},
          "execution_count": 36
        }
      ]
    },
    {
      "cell_type": "code",
      "metadata": {
        "colab": {
          "base_uri": "https://localhost:8080/",
          "height": 238
        },
        "id": "AqM1Eqg-LBgQ",
        "outputId": "ea13b319-5f8f-44a9-d610-6286b7f47451"
      },
      "source": [
        "watch_df.loc[[37, 45, 47, 53, 138, 139]]"
      ],
      "execution_count": null,
      "outputs": [
        {
          "output_type": "execute_result",
          "data": {
            "text/html": [
              "<div>\n",
              "<style scoped>\n",
              "    .dataframe tbody tr th:only-of-type {\n",
              "        vertical-align: middle;\n",
              "    }\n",
              "\n",
              "    .dataframe tbody tr th {\n",
              "        vertical-align: top;\n",
              "    }\n",
              "\n",
              "    .dataframe thead th {\n",
              "        text-align: right;\n",
              "    }\n",
              "</style>\n",
              "<table border=\"1\" class=\"dataframe\">\n",
              "  <thead>\n",
              "    <tr style=\"text-align: right;\">\n",
              "      <th></th>\n",
              "      <th>Watch_Style</th>\n",
              "      <th>Watch_Brand</th>\n",
              "      <th>Watch_Name</th>\n",
              "    </tr>\n",
              "  </thead>\n",
              "  <tbody>\n",
              "    <tr>\n",
              "      <th>37</th>\n",
              "      <td>display and storage</td>\n",
              "      <td>skmei.os</td>\n",
              "      <td>skmei logo original brand metal box gift</td>\n",
              "    </tr>\n",
              "    <tr>\n",
              "      <th>45</th>\n",
              "      <td>display and storage</td>\n",
              "      <td>sanda.os</td>\n",
              "      <td>sanda official original luxury watch gift box</td>\n",
              "    </tr>\n",
              "    <tr>\n",
              "      <th>47</th>\n",
              "      <td>display and storage</td>\n",
              "      <td>qqmalaysia.os</td>\n",
              "      <td>box upgrade qqmalaysia qc225 rm15 only please ...</td>\n",
              "    </tr>\n",
              "    <tr>\n",
              "      <th>53</th>\n",
              "      <td>display and storage</td>\n",
              "      <td>skmei.os</td>\n",
              "      <td>skmei logo box06 watch box gift package</td>\n",
              "    </tr>\n",
              "    <tr>\n",
              "      <th>138</th>\n",
              "      <td>display and storage</td>\n",
              "      <td>bostantenwatch.os</td>\n",
              "      <td>bostanten fashion gift bag</td>\n",
              "    </tr>\n",
              "    <tr>\n",
              "      <th>139</th>\n",
              "      <td>display and storage</td>\n",
              "      <td>skmei.os</td>\n",
              "      <td>skmei watch box small light weight simple pack...</td>\n",
              "    </tr>\n",
              "  </tbody>\n",
              "</table>\n",
              "</div>"
            ],
            "text/plain": [
              "             Watch_Style  ...                                         Watch_Name\n",
              "37   display and storage  ...           skmei logo original brand metal box gift\n",
              "45   display and storage  ...      sanda official original luxury watch gift box\n",
              "47   display and storage  ...  box upgrade qqmalaysia qc225 rm15 only please ...\n",
              "53   display and storage  ...            skmei logo box06 watch box gift package\n",
              "138  display and storage  ...                         bostanten fashion gift bag\n",
              "139  display and storage  ...  skmei watch box small light weight simple pack...\n",
              "\n",
              "[6 rows x 3 columns]"
            ]
          },
          "metadata": {},
          "execution_count": 37
        }
      ]
    },
    {
      "cell_type": "code",
      "metadata": {
        "colab": {
          "base_uri": "https://localhost:8080/"
        },
        "id": "JH49eW70wPIa",
        "outputId": "8f035aed-05ae-4d40-85fe-55e49756632b"
      },
      "source": [
        "\n",
        "watch_df[watch_df.Watch_Style == \"others\"].index.tolist()"
      ],
      "execution_count": null,
      "outputs": [
        {
          "output_type": "execute_result",
          "data": {
            "text/plain": [
              "[19, 23]"
            ]
          },
          "metadata": {},
          "execution_count": 38
        }
      ]
    },
    {
      "cell_type": "code",
      "metadata": {
        "colab": {
          "base_uri": "https://localhost:8080/",
          "height": 112
        },
        "id": "9-mPnrg5wT9C",
        "outputId": "3290b711-ac35-4664-ebd0-d022faad04c3"
      },
      "source": [
        "watch_df.loc[[19, 23]]"
      ],
      "execution_count": null,
      "outputs": [
        {
          "output_type": "execute_result",
          "data": {
            "text/html": [
              "<div>\n",
              "<style scoped>\n",
              "    .dataframe tbody tr th:only-of-type {\n",
              "        vertical-align: middle;\n",
              "    }\n",
              "\n",
              "    .dataframe tbody tr th {\n",
              "        vertical-align: top;\n",
              "    }\n",
              "\n",
              "    .dataframe thead th {\n",
              "        text-align: right;\n",
              "    }\n",
              "</style>\n",
              "<table border=\"1\" class=\"dataframe\">\n",
              "  <thead>\n",
              "    <tr style=\"text-align: right;\">\n",
              "      <th></th>\n",
              "      <th>Watch_Style</th>\n",
              "      <th>Watch_Brand</th>\n",
              "      <th>Watch_Name</th>\n",
              "    </tr>\n",
              "  </thead>\n",
              "  <tbody>\n",
              "    <tr>\n",
              "      <th>19</th>\n",
              "      <td>others</td>\n",
              "      <td>uniq_my</td>\n",
              "      <td>uniq case for apple watch torres black white b...</td>\n",
              "    </tr>\n",
              "    <tr>\n",
              "      <th>23</th>\n",
              "      <td>others</td>\n",
              "      <td>skmei.os</td>\n",
              "      <td>skmei replace watchbands only band not watch</td>\n",
              "    </tr>\n",
              "  </tbody>\n",
              "</table>\n",
              "</div>"
            ],
            "text/plain": [
              "   Watch_Style Watch_Brand                                         Watch_Name\n",
              "19      others     uniq_my  uniq case for apple watch torres black white b...\n",
              "23      others    skmei.os       skmei replace watchbands only band not watch"
            ]
          },
          "metadata": {},
          "execution_count": 39
        }
      ]
    },
    {
      "cell_type": "code",
      "metadata": {
        "colab": {
          "base_uri": "https://localhost:8080/"
        },
        "id": "w8ivZ-PzJDY7",
        "outputId": "acc5e24f-bd25-406d-f25b-96d3ee161684"
      },
      "source": [
        "watch_df[watch_df.Watch_Style == \"(gwp) catepillar limited edition sport towel (not for sale)\"].index.tolist()"
      ],
      "execution_count": null,
      "outputs": [
        {
          "output_type": "execute_result",
          "data": {
            "text/plain": [
              "[72]"
            ]
          },
          "metadata": {},
          "execution_count": 40
        }
      ]
    },
    {
      "cell_type": "code",
      "metadata": {
        "colab": {
          "base_uri": "https://localhost:8080/",
          "height": 81
        },
        "id": "PYINVMo_Kh_7",
        "outputId": "c02cb8e8-d8be-4876-d357-12560c344100"
      },
      "source": [
        "watch_df.iloc[[72]]"
      ],
      "execution_count": null,
      "outputs": [
        {
          "output_type": "execute_result",
          "data": {
            "text/html": [
              "<div>\n",
              "<style scoped>\n",
              "    .dataframe tbody tr th:only-of-type {\n",
              "        vertical-align: middle;\n",
              "    }\n",
              "\n",
              "    .dataframe tbody tr th {\n",
              "        vertical-align: top;\n",
              "    }\n",
              "\n",
              "    .dataframe thead th {\n",
              "        text-align: right;\n",
              "    }\n",
              "</style>\n",
              "<table border=\"1\" class=\"dataframe\">\n",
              "  <thead>\n",
              "    <tr style=\"text-align: right;\">\n",
              "      <th></th>\n",
              "      <th>Watch_Style</th>\n",
              "      <th>Watch_Brand</th>\n",
              "      <th>Watch_Name</th>\n",
              "    </tr>\n",
              "  </thead>\n",
              "  <tbody>\n",
              "    <tr>\n",
              "      <th>72</th>\n",
              "      <td>(gwp) catepillar limited edition sport towel (...</td>\n",
              "      <td>catwatch.os</td>\n",
              "      <td>gwp catepillar limited edition sport towel not...</td>\n",
              "    </tr>\n",
              "  </tbody>\n",
              "</table>\n",
              "</div>"
            ],
            "text/plain": [
              "                                          Watch_Style  ...                                         Watch_Name\n",
              "72  (gwp) catepillar limited edition sport towel (...  ...  gwp catepillar limited edition sport towel not...\n",
              "\n",
              "[1 rows x 3 columns]"
            ]
          },
          "metadata": {},
          "execution_count": 41
        }
      ]
    },
    {
      "cell_type": "code",
      "metadata": {
        "id": "zqoeKmF6xHgq"
      },
      "source": [
        "watch_df.drop(index=[8, 15, 94, 153, 155, 37, 45, 47, 53, 72, 138, 139, 19, 23], inplace=True) \n",
        "watch_df = watch_df.reset_index(drop=True)"
      ],
      "execution_count": null,
      "outputs": []
    },
    {
      "cell_type": "code",
      "metadata": {
        "colab": {
          "base_uri": "https://localhost:8080/",
          "height": 423
        },
        "id": "X_NPSfxF6AF4",
        "outputId": "a9f9563c-a7dc-4744-fa26-d1e33033bed0"
      },
      "source": [
        "watch_df"
      ],
      "execution_count": null,
      "outputs": [
        {
          "output_type": "execute_result",
          "data": {
            "text/html": [
              "<div>\n",
              "<style scoped>\n",
              "    .dataframe tbody tr th:only-of-type {\n",
              "        vertical-align: middle;\n",
              "    }\n",
              "\n",
              "    .dataframe tbody tr th {\n",
              "        vertical-align: top;\n",
              "    }\n",
              "\n",
              "    .dataframe thead th {\n",
              "        text-align: right;\n",
              "    }\n",
              "</style>\n",
              "<table border=\"1\" class=\"dataframe\">\n",
              "  <thead>\n",
              "    <tr style=\"text-align: right;\">\n",
              "      <th></th>\n",
              "      <th>Watch_Style</th>\n",
              "      <th>Watch_Brand</th>\n",
              "      <th>Watch_Name</th>\n",
              "    </tr>\n",
              "  </thead>\n",
              "  <tbody>\n",
              "    <tr>\n",
              "      <th>0</th>\n",
              "      <td>business and casual</td>\n",
              "      <td>olevs.os</td>\n",
              "      <td>olevs original watch men waterproof stainless ...</td>\n",
              "    </tr>\n",
              "    <tr>\n",
              "      <th>1</th>\n",
              "      <td>business and casual</td>\n",
              "      <td>naviforce.os</td>\n",
              "      <td>naviforce 2021 bussiness watch men sport quart...</td>\n",
              "    </tr>\n",
              "    <tr>\n",
              "      <th>2</th>\n",
              "      <td>business and casual</td>\n",
              "      <td>casio.os</td>\n",
              "      <td>casio general w218h3a black resin band men you...</td>\n",
              "    </tr>\n",
              "    <tr>\n",
              "      <th>3</th>\n",
              "      <td>business and casual</td>\n",
              "      <td>skmei.os</td>\n",
              "      <td>skmei new men outdoor waterproof sports large ...</td>\n",
              "    </tr>\n",
              "    <tr>\n",
              "      <th>4</th>\n",
              "      <td>women  sports</td>\n",
              "      <td>skmei.os</td>\n",
              "      <td>kid cute girl cat watch gel</td>\n",
              "    </tr>\n",
              "    <tr>\n",
              "      <th>...</th>\n",
              "      <td>...</td>\n",
              "      <td>...</td>\n",
              "      <td>...</td>\n",
              "    </tr>\n",
              "    <tr>\n",
              "      <th>154</th>\n",
              "      <td>business and casual</td>\n",
              "      <td>wishdoitwatch.wh.os</td>\n",
              "      <td>official original wishdoit men watch pu leathe...</td>\n",
              "    </tr>\n",
              "    <tr>\n",
              "      <th>155</th>\n",
              "      <td>business and casual</td>\n",
              "      <td>adshops.os</td>\n",
              "      <td>gchok new men watch outdoor sport waterproof m...</td>\n",
              "    </tr>\n",
              "    <tr>\n",
              "      <th>156</th>\n",
              "      <td>women  casual</td>\n",
              "      <td>qqmalaysia.os</td>\n",
              "      <td>qqmalaysia japan by citizen women rubber analo...</td>\n",
              "    </tr>\n",
              "    <tr>\n",
              "      <th>157</th>\n",
              "      <td>women  casual</td>\n",
              "      <td>sanda.os</td>\n",
              "      <td>sanda sports watch women waterproof multifunct...</td>\n",
              "    </tr>\n",
              "    <tr>\n",
              "      <th>158</th>\n",
              "      <td>women  sports</td>\n",
              "      <td>skmei.os</td>\n",
              "      <td>skmei smart watch multifunctional sports brace...</td>\n",
              "    </tr>\n",
              "  </tbody>\n",
              "</table>\n",
              "<p>159 rows × 3 columns</p>\n",
              "</div>"
            ],
            "text/plain": [
              "             Watch_Style  ...                                         Watch_Name\n",
              "0    business and casual  ...  olevs original watch men waterproof stainless ...\n",
              "1    business and casual  ...  naviforce 2021 bussiness watch men sport quart...\n",
              "2    business and casual  ...  casio general w218h3a black resin band men you...\n",
              "3    business and casual  ...  skmei new men outdoor waterproof sports large ...\n",
              "4          women  sports  ...                        kid cute girl cat watch gel\n",
              "..                   ...  ...                                                ...\n",
              "154  business and casual  ...  official original wishdoit men watch pu leathe...\n",
              "155  business and casual  ...  gchok new men watch outdoor sport waterproof m...\n",
              "156        women  casual  ...  qqmalaysia japan by citizen women rubber analo...\n",
              "157        women  casual  ...  sanda sports watch women waterproof multifunct...\n",
              "158        women  sports  ...  skmei smart watch multifunctional sports brace...\n",
              "\n",
              "[159 rows x 3 columns]"
            ]
          },
          "metadata": {},
          "execution_count": 43
        }
      ]
    },
    {
      "cell_type": "markdown",
      "metadata": {
        "id": "aCo1fBgz3sKk"
      },
      "source": [
        "###**Step 3.8: Convert categorical variables into quantitative variables**\n",
        "As statistical models can't take in categorical data as objects or strings, therefore it is mandatory to convert them to quantitative data. In this project, the pandas *get_dummies* method is used to fulfill the mentioned conversion on the dataframe's Watch_Style and Watch_Brand column.\n",
        "**Note: Watch Name will not be converted to quantitative variables as it is unneccessary and it will not be used by statistical model to perform any analysis. However, it is one of the crucial requirement to fulfill the objective of this project, which is to identify the best selling watch in Shopee.** "
      ]
    },
    {
      "cell_type": "code",
      "metadata": {
        "colab": {
          "base_uri": "https://localhost:8080/",
          "height": 1000
        },
        "id": "hPrMutIg5Fc7",
        "outputId": "17834841-ea31-4349-afa9-1261b115083e"
      },
      "source": [
        "df_style_dummy = pd.get_dummies(watch_df['Watch_Style'])\n",
        "df_brand_dummy = pd.get_dummies(watch_df['Watch_Brand'])\n",
        "cleaned_df = pd.concat([df_style_dummy, df_brand_dummy, watch_df['Watch_Name']], axis=1)\n",
        "cleaned_df"
      ],
      "execution_count": null,
      "outputs": [
        {
          "output_type": "execute_result",
          "data": {
            "text/html": [
              "<div>\n",
              "<style scoped>\n",
              "    .dataframe tbody tr th:only-of-type {\n",
              "        vertical-align: middle;\n",
              "    }\n",
              "\n",
              "    .dataframe tbody tr th {\n",
              "        vertical-align: top;\n",
              "    }\n",
              "\n",
              "    .dataframe thead th {\n",
              "        text-align: right;\n",
              "    }\n",
              "</style>\n",
              "<table border=\"1\" class=\"dataframe\">\n",
              "  <thead>\n",
              "    <tr style=\"text-align: right;\">\n",
              "      <th></th>\n",
              "      <th>business and casual</th>\n",
              "      <th>business set</th>\n",
              "      <th>casual set</th>\n",
              "      <th>women  business</th>\n",
              "      <th>women  casual</th>\n",
              "      <th>women  sports</th>\n",
              "      <th>adshops.os</th>\n",
              "      <th>billion.os</th>\n",
              "      <th>bostantenwatch.os</th>\n",
              "      <th>carlorino.os</th>\n",
              "      <th>casio.os</th>\n",
              "      <th>curren.os</th>\n",
              "      <th>danielwellington.os</th>\n",
              "      <th>fossil.os</th>\n",
              "      <th>herjewellery123</th>\n",
              "      <th>icewatch.os</th>\n",
              "      <th>julius.os</th>\n",
              "      <th>ligewatch.os</th>\n",
              "      <th>milliotandco.os</th>\n",
              "      <th>naviforce.os</th>\n",
              "      <th>olevs.os</th>\n",
              "      <th>qqmalaysia.os</th>\n",
              "      <th>sanda.os</th>\n",
              "      <th>skmei.os</th>\n",
              "      <th>submarinewatch.os</th>\n",
              "      <th>voarch.os</th>\n",
              "      <th>wishdoitwatch.wh.os</th>\n",
              "      <th>Watch_Name</th>\n",
              "    </tr>\n",
              "  </thead>\n",
              "  <tbody>\n",
              "    <tr>\n",
              "      <th>0</th>\n",
              "      <td>1</td>\n",
              "      <td>0</td>\n",
              "      <td>0</td>\n",
              "      <td>0</td>\n",
              "      <td>0</td>\n",
              "      <td>0</td>\n",
              "      <td>0</td>\n",
              "      <td>0</td>\n",
              "      <td>0</td>\n",
              "      <td>0</td>\n",
              "      <td>0</td>\n",
              "      <td>0</td>\n",
              "      <td>0</td>\n",
              "      <td>0</td>\n",
              "      <td>0</td>\n",
              "      <td>0</td>\n",
              "      <td>0</td>\n",
              "      <td>0</td>\n",
              "      <td>0</td>\n",
              "      <td>0</td>\n",
              "      <td>1</td>\n",
              "      <td>0</td>\n",
              "      <td>0</td>\n",
              "      <td>0</td>\n",
              "      <td>0</td>\n",
              "      <td>0</td>\n",
              "      <td>0</td>\n",
              "      <td>olevs original watch men waterproof stainless ...</td>\n",
              "    </tr>\n",
              "    <tr>\n",
              "      <th>1</th>\n",
              "      <td>1</td>\n",
              "      <td>0</td>\n",
              "      <td>0</td>\n",
              "      <td>0</td>\n",
              "      <td>0</td>\n",
              "      <td>0</td>\n",
              "      <td>0</td>\n",
              "      <td>0</td>\n",
              "      <td>0</td>\n",
              "      <td>0</td>\n",
              "      <td>0</td>\n",
              "      <td>0</td>\n",
              "      <td>0</td>\n",
              "      <td>0</td>\n",
              "      <td>0</td>\n",
              "      <td>0</td>\n",
              "      <td>0</td>\n",
              "      <td>0</td>\n",
              "      <td>0</td>\n",
              "      <td>1</td>\n",
              "      <td>0</td>\n",
              "      <td>0</td>\n",
              "      <td>0</td>\n",
              "      <td>0</td>\n",
              "      <td>0</td>\n",
              "      <td>0</td>\n",
              "      <td>0</td>\n",
              "      <td>naviforce 2021 bussiness watch men sport quart...</td>\n",
              "    </tr>\n",
              "    <tr>\n",
              "      <th>2</th>\n",
              "      <td>1</td>\n",
              "      <td>0</td>\n",
              "      <td>0</td>\n",
              "      <td>0</td>\n",
              "      <td>0</td>\n",
              "      <td>0</td>\n",
              "      <td>0</td>\n",
              "      <td>0</td>\n",
              "      <td>0</td>\n",
              "      <td>0</td>\n",
              "      <td>1</td>\n",
              "      <td>0</td>\n",
              "      <td>0</td>\n",
              "      <td>0</td>\n",
              "      <td>0</td>\n",
              "      <td>0</td>\n",
              "      <td>0</td>\n",
              "      <td>0</td>\n",
              "      <td>0</td>\n",
              "      <td>0</td>\n",
              "      <td>0</td>\n",
              "      <td>0</td>\n",
              "      <td>0</td>\n",
              "      <td>0</td>\n",
              "      <td>0</td>\n",
              "      <td>0</td>\n",
              "      <td>0</td>\n",
              "      <td>casio general w218h3a black resin band men you...</td>\n",
              "    </tr>\n",
              "    <tr>\n",
              "      <th>3</th>\n",
              "      <td>1</td>\n",
              "      <td>0</td>\n",
              "      <td>0</td>\n",
              "      <td>0</td>\n",
              "      <td>0</td>\n",
              "      <td>0</td>\n",
              "      <td>0</td>\n",
              "      <td>0</td>\n",
              "      <td>0</td>\n",
              "      <td>0</td>\n",
              "      <td>0</td>\n",
              "      <td>0</td>\n",
              "      <td>0</td>\n",
              "      <td>0</td>\n",
              "      <td>0</td>\n",
              "      <td>0</td>\n",
              "      <td>0</td>\n",
              "      <td>0</td>\n",
              "      <td>0</td>\n",
              "      <td>0</td>\n",
              "      <td>0</td>\n",
              "      <td>0</td>\n",
              "      <td>0</td>\n",
              "      <td>1</td>\n",
              "      <td>0</td>\n",
              "      <td>0</td>\n",
              "      <td>0</td>\n",
              "      <td>skmei new men outdoor waterproof sports large ...</td>\n",
              "    </tr>\n",
              "    <tr>\n",
              "      <th>4</th>\n",
              "      <td>0</td>\n",
              "      <td>0</td>\n",
              "      <td>0</td>\n",
              "      <td>0</td>\n",
              "      <td>0</td>\n",
              "      <td>1</td>\n",
              "      <td>0</td>\n",
              "      <td>0</td>\n",
              "      <td>0</td>\n",
              "      <td>0</td>\n",
              "      <td>0</td>\n",
              "      <td>0</td>\n",
              "      <td>0</td>\n",
              "      <td>0</td>\n",
              "      <td>0</td>\n",
              "      <td>0</td>\n",
              "      <td>0</td>\n",
              "      <td>0</td>\n",
              "      <td>0</td>\n",
              "      <td>0</td>\n",
              "      <td>0</td>\n",
              "      <td>0</td>\n",
              "      <td>0</td>\n",
              "      <td>1</td>\n",
              "      <td>0</td>\n",
              "      <td>0</td>\n",
              "      <td>0</td>\n",
              "      <td>kid cute girl cat watch gel</td>\n",
              "    </tr>\n",
              "    <tr>\n",
              "      <th>...</th>\n",
              "      <td>...</td>\n",
              "      <td>...</td>\n",
              "      <td>...</td>\n",
              "      <td>...</td>\n",
              "      <td>...</td>\n",
              "      <td>...</td>\n",
              "      <td>...</td>\n",
              "      <td>...</td>\n",
              "      <td>...</td>\n",
              "      <td>...</td>\n",
              "      <td>...</td>\n",
              "      <td>...</td>\n",
              "      <td>...</td>\n",
              "      <td>...</td>\n",
              "      <td>...</td>\n",
              "      <td>...</td>\n",
              "      <td>...</td>\n",
              "      <td>...</td>\n",
              "      <td>...</td>\n",
              "      <td>...</td>\n",
              "      <td>...</td>\n",
              "      <td>...</td>\n",
              "      <td>...</td>\n",
              "      <td>...</td>\n",
              "      <td>...</td>\n",
              "      <td>...</td>\n",
              "      <td>...</td>\n",
              "      <td>...</td>\n",
              "    </tr>\n",
              "    <tr>\n",
              "      <th>154</th>\n",
              "      <td>1</td>\n",
              "      <td>0</td>\n",
              "      <td>0</td>\n",
              "      <td>0</td>\n",
              "      <td>0</td>\n",
              "      <td>0</td>\n",
              "      <td>0</td>\n",
              "      <td>0</td>\n",
              "      <td>0</td>\n",
              "      <td>0</td>\n",
              "      <td>0</td>\n",
              "      <td>0</td>\n",
              "      <td>0</td>\n",
              "      <td>0</td>\n",
              "      <td>0</td>\n",
              "      <td>0</td>\n",
              "      <td>0</td>\n",
              "      <td>0</td>\n",
              "      <td>0</td>\n",
              "      <td>0</td>\n",
              "      <td>0</td>\n",
              "      <td>0</td>\n",
              "      <td>0</td>\n",
              "      <td>0</td>\n",
              "      <td>0</td>\n",
              "      <td>0</td>\n",
              "      <td>1</td>\n",
              "      <td>official original wishdoit men watch pu leathe...</td>\n",
              "    </tr>\n",
              "    <tr>\n",
              "      <th>155</th>\n",
              "      <td>1</td>\n",
              "      <td>0</td>\n",
              "      <td>0</td>\n",
              "      <td>0</td>\n",
              "      <td>0</td>\n",
              "      <td>0</td>\n",
              "      <td>1</td>\n",
              "      <td>0</td>\n",
              "      <td>0</td>\n",
              "      <td>0</td>\n",
              "      <td>0</td>\n",
              "      <td>0</td>\n",
              "      <td>0</td>\n",
              "      <td>0</td>\n",
              "      <td>0</td>\n",
              "      <td>0</td>\n",
              "      <td>0</td>\n",
              "      <td>0</td>\n",
              "      <td>0</td>\n",
              "      <td>0</td>\n",
              "      <td>0</td>\n",
              "      <td>0</td>\n",
              "      <td>0</td>\n",
              "      <td>0</td>\n",
              "      <td>0</td>\n",
              "      <td>0</td>\n",
              "      <td>0</td>\n",
              "      <td>gchok new men watch outdoor sport waterproof m...</td>\n",
              "    </tr>\n",
              "    <tr>\n",
              "      <th>156</th>\n",
              "      <td>0</td>\n",
              "      <td>0</td>\n",
              "      <td>0</td>\n",
              "      <td>0</td>\n",
              "      <td>1</td>\n",
              "      <td>0</td>\n",
              "      <td>0</td>\n",
              "      <td>0</td>\n",
              "      <td>0</td>\n",
              "      <td>0</td>\n",
              "      <td>0</td>\n",
              "      <td>0</td>\n",
              "      <td>0</td>\n",
              "      <td>0</td>\n",
              "      <td>0</td>\n",
              "      <td>0</td>\n",
              "      <td>0</td>\n",
              "      <td>0</td>\n",
              "      <td>0</td>\n",
              "      <td>0</td>\n",
              "      <td>0</td>\n",
              "      <td>1</td>\n",
              "      <td>0</td>\n",
              "      <td>0</td>\n",
              "      <td>0</td>\n",
              "      <td>0</td>\n",
              "      <td>0</td>\n",
              "      <td>qqmalaysia japan by citizen women rubber analo...</td>\n",
              "    </tr>\n",
              "    <tr>\n",
              "      <th>157</th>\n",
              "      <td>0</td>\n",
              "      <td>0</td>\n",
              "      <td>0</td>\n",
              "      <td>0</td>\n",
              "      <td>1</td>\n",
              "      <td>0</td>\n",
              "      <td>0</td>\n",
              "      <td>0</td>\n",
              "      <td>0</td>\n",
              "      <td>0</td>\n",
              "      <td>0</td>\n",
              "      <td>0</td>\n",
              "      <td>0</td>\n",
              "      <td>0</td>\n",
              "      <td>0</td>\n",
              "      <td>0</td>\n",
              "      <td>0</td>\n",
              "      <td>0</td>\n",
              "      <td>0</td>\n",
              "      <td>0</td>\n",
              "      <td>0</td>\n",
              "      <td>0</td>\n",
              "      <td>1</td>\n",
              "      <td>0</td>\n",
              "      <td>0</td>\n",
              "      <td>0</td>\n",
              "      <td>0</td>\n",
              "      <td>sanda sports watch women waterproof multifunct...</td>\n",
              "    </tr>\n",
              "    <tr>\n",
              "      <th>158</th>\n",
              "      <td>0</td>\n",
              "      <td>0</td>\n",
              "      <td>0</td>\n",
              "      <td>0</td>\n",
              "      <td>0</td>\n",
              "      <td>1</td>\n",
              "      <td>0</td>\n",
              "      <td>0</td>\n",
              "      <td>0</td>\n",
              "      <td>0</td>\n",
              "      <td>0</td>\n",
              "      <td>0</td>\n",
              "      <td>0</td>\n",
              "      <td>0</td>\n",
              "      <td>0</td>\n",
              "      <td>0</td>\n",
              "      <td>0</td>\n",
              "      <td>0</td>\n",
              "      <td>0</td>\n",
              "      <td>0</td>\n",
              "      <td>0</td>\n",
              "      <td>0</td>\n",
              "      <td>0</td>\n",
              "      <td>1</td>\n",
              "      <td>0</td>\n",
              "      <td>0</td>\n",
              "      <td>0</td>\n",
              "      <td>skmei smart watch multifunctional sports brace...</td>\n",
              "    </tr>\n",
              "  </tbody>\n",
              "</table>\n",
              "<p>159 rows × 28 columns</p>\n",
              "</div>"
            ],
            "text/plain": [
              "     business and casual  ...                                         Watch_Name\n",
              "0                      1  ...  olevs original watch men waterproof stainless ...\n",
              "1                      1  ...  naviforce 2021 bussiness watch men sport quart...\n",
              "2                      1  ...  casio general w218h3a black resin band men you...\n",
              "3                      1  ...  skmei new men outdoor waterproof sports large ...\n",
              "4                      0  ...                        kid cute girl cat watch gel\n",
              "..                   ...  ...                                                ...\n",
              "154                    1  ...  official original wishdoit men watch pu leathe...\n",
              "155                    1  ...  gchok new men watch outdoor sport waterproof m...\n",
              "156                    0  ...  qqmalaysia japan by citizen women rubber analo...\n",
              "157                    0  ...  sanda sports watch women waterproof multifunct...\n",
              "158                    0  ...  skmei smart watch multifunctional sports brace...\n",
              "\n",
              "[159 rows x 28 columns]"
            ]
          },
          "metadata": {},
          "execution_count": 44
        }
      ]
    },
    {
      "cell_type": "markdown",
      "metadata": {
        "id": "czeH6vjrMAd_"
      },
      "source": [
        "#**Part 6: EXPORT CLEANED DATA AS A CSV FILE**\n",
        "As the extracted data regarding watches are cleaned, the data is exported to a csv file, named as 'a176297_watch_style_brand_name_2021.csv'. <br> **Note:** As a backup, a csv file named as 'a176297_watch_style_brand_name.csv' is used to save the data that are not changed to quantitative data.\n"
      ]
    },
    {
      "cell_type": "code",
      "metadata": {
        "colab": {
          "base_uri": "https://localhost:8080/"
        },
        "id": "oUa_FnUt0i4n",
        "outputId": "87f909b1-e3e6-4503-cb5d-4a61e0a69673"
      },
      "source": [
        "watch_df.to_csv('a176297_watch_style_brand_name.csv')\n",
        "print('Done exporting dataframe as csv file!')"
      ],
      "execution_count": null,
      "outputs": [
        {
          "output_type": "stream",
          "name": "stdout",
          "text": [
            "Done exporting dataframe as csv file!\n"
          ]
        }
      ]
    },
    {
      "cell_type": "code",
      "metadata": {
        "colab": {
          "base_uri": "https://localhost:8080/"
        },
        "id": "gZ6jR7vLMK_v",
        "outputId": "5031cd4b-a79b-4954-9c11-d8adff7aa9f4"
      },
      "source": [
        "cleaned_df.to_csv('a176297_watch_style_brand_name_2021.csv')\n",
        "print('Done exporting dataframe as csv file!')"
      ],
      "execution_count": null,
      "outputs": [
        {
          "output_type": "stream",
          "name": "stdout",
          "text": [
            "Done exporting dataframe as csv file!\n"
          ]
        }
      ]
    },
    {
      "cell_type": "markdown",
      "metadata": {
        "id": "0arKerNHMehN"
      },
      "source": [
        "**END OF PROJECT**"
      ]
    }
  ]
}