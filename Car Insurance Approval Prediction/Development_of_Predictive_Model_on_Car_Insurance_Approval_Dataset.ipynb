{
  "nbformat": 4,
  "nbformat_minor": 0,
  "metadata": {
    "colab": {
      "provenance": [],
      "authorship_tag": "ABX9TyMUqI3pxR6beOvnwGd+Y+M6",
      "include_colab_link": true
    },
    "kernelspec": {
      "name": "python3",
      "display_name": "Python 3"
    },
    "language_info": {
      "name": "python"
    }
  },
  "cells": [
    {
      "cell_type": "markdown",
      "metadata": {
        "id": "view-in-github",
        "colab_type": "text"
      },
      "source": [
        "<a href=\"https://colab.research.google.com/github/jiahui989/Projects/blob/main/Car%20Insurance%20Approval%20Prediction/Development_of_Predictive_Model_on_Car_Insurance_Approval_Dataset.ipynb\" target=\"_parent\"><img src=\"https://colab.research.google.com/assets/colab-badge.svg\" alt=\"Open In Colab\"/></a>"
      ]
    },
    {
      "cell_type": "code",
      "source": [
        "!pip install tensorflow-model-analysis\n",
        "!pip install tensorflow-addons"
      ],
      "metadata": {
        "id": "h68ryb2uKnnY"
      },
      "execution_count": null,
      "outputs": []
    },
    {
      "cell_type": "code",
      "source": [
        "import pandas as pd\n",
        "df = pd.read_csv('/content/cleaned_car_insurance_dataset.csv', index_col='Unnamed: 0')\n",
        "df.head()"
      ],
      "metadata": {
        "colab": {
          "base_uri": "https://localhost:8080/",
          "height": 270
        },
        "id": "GWe-EtTF9nGv",
        "outputId": "7cc70bc6-250c-49a7-df7c-006142a5d819"
      },
      "execution_count": null,
      "outputs": [
        {
          "output_type": "execute_result",
          "data": {
            "text/plain": [
              "        AGE    GENDER      RACE  DRIVING_EXPERIENCE    INCOME  VEHICLE_YEAR  \\\n",
              "0  0.953343 -0.622033 -0.354414           -0.898978 -0.384870      1.594129   \n",
              "1 -2.537095 -0.802031  0.146777           -0.147050  0.303880     -0.340219   \n",
              "2 -1.385940 -0.290501 -1.482303           -1.232866 -0.422788     -0.479020   \n",
              "3 -2.382989  1.825815 -1.578011            0.208343  0.042549     -0.239941   \n",
              "4 -0.886031  1.549266 -1.416426            0.222215  0.687438     -0.327309   \n",
              "\n",
              "   POSTAL_CODE  VEHICLE_OWNERSHIP   MARRIED  CHILDREN  CREDIT_SCORE  \\\n",
              "0     0.184547           0.223370  0.500337 -0.701112      0.532798   \n",
              "1     0.361956          -0.381019  0.240873  0.248644      0.022340   \n",
              "2    -0.578699           0.117883 -0.391011 -0.245258      0.527691   \n",
              "3     0.408163           0.232866 -0.369905 -0.603366     -0.337437   \n",
              "4     0.337817           0.076373 -0.445377 -0.195532      0.264539   \n",
              "\n",
              "   ANNUAL_MILEAGE  PAST_ACCIDENTS  OUTCOME  \n",
              "0        0.078642       -0.136456      0.0  \n",
              "1       -0.273917       -0.108320      1.0  \n",
              "2       -0.291033       -0.089770      0.0  \n",
              "3        0.258680       -0.116753      0.0  \n",
              "4       -0.558849       -0.091635      1.0  "
            ],
            "text/html": [
              "\n",
              "  <div id=\"df-60d54ee7-6be1-4593-8f0c-f1856716487d\">\n",
              "    <div class=\"colab-df-container\">\n",
              "      <div>\n",
              "<style scoped>\n",
              "    .dataframe tbody tr th:only-of-type {\n",
              "        vertical-align: middle;\n",
              "    }\n",
              "\n",
              "    .dataframe tbody tr th {\n",
              "        vertical-align: top;\n",
              "    }\n",
              "\n",
              "    .dataframe thead th {\n",
              "        text-align: right;\n",
              "    }\n",
              "</style>\n",
              "<table border=\"1\" class=\"dataframe\">\n",
              "  <thead>\n",
              "    <tr style=\"text-align: right;\">\n",
              "      <th></th>\n",
              "      <th>AGE</th>\n",
              "      <th>GENDER</th>\n",
              "      <th>RACE</th>\n",
              "      <th>DRIVING_EXPERIENCE</th>\n",
              "      <th>INCOME</th>\n",
              "      <th>VEHICLE_YEAR</th>\n",
              "      <th>POSTAL_CODE</th>\n",
              "      <th>VEHICLE_OWNERSHIP</th>\n",
              "      <th>MARRIED</th>\n",
              "      <th>CHILDREN</th>\n",
              "      <th>CREDIT_SCORE</th>\n",
              "      <th>ANNUAL_MILEAGE</th>\n",
              "      <th>PAST_ACCIDENTS</th>\n",
              "      <th>OUTCOME</th>\n",
              "    </tr>\n",
              "  </thead>\n",
              "  <tbody>\n",
              "    <tr>\n",
              "      <th>0</th>\n",
              "      <td>0.953343</td>\n",
              "      <td>-0.622033</td>\n",
              "      <td>-0.354414</td>\n",
              "      <td>-0.898978</td>\n",
              "      <td>-0.384870</td>\n",
              "      <td>1.594129</td>\n",
              "      <td>0.184547</td>\n",
              "      <td>0.223370</td>\n",
              "      <td>0.500337</td>\n",
              "      <td>-0.701112</td>\n",
              "      <td>0.532798</td>\n",
              "      <td>0.078642</td>\n",
              "      <td>-0.136456</td>\n",
              "      <td>0.0</td>\n",
              "    </tr>\n",
              "    <tr>\n",
              "      <th>1</th>\n",
              "      <td>-2.537095</td>\n",
              "      <td>-0.802031</td>\n",
              "      <td>0.146777</td>\n",
              "      <td>-0.147050</td>\n",
              "      <td>0.303880</td>\n",
              "      <td>-0.340219</td>\n",
              "      <td>0.361956</td>\n",
              "      <td>-0.381019</td>\n",
              "      <td>0.240873</td>\n",
              "      <td>0.248644</td>\n",
              "      <td>0.022340</td>\n",
              "      <td>-0.273917</td>\n",
              "      <td>-0.108320</td>\n",
              "      <td>1.0</td>\n",
              "    </tr>\n",
              "    <tr>\n",
              "      <th>2</th>\n",
              "      <td>-1.385940</td>\n",
              "      <td>-0.290501</td>\n",
              "      <td>-1.482303</td>\n",
              "      <td>-1.232866</td>\n",
              "      <td>-0.422788</td>\n",
              "      <td>-0.479020</td>\n",
              "      <td>-0.578699</td>\n",
              "      <td>0.117883</td>\n",
              "      <td>-0.391011</td>\n",
              "      <td>-0.245258</td>\n",
              "      <td>0.527691</td>\n",
              "      <td>-0.291033</td>\n",
              "      <td>-0.089770</td>\n",
              "      <td>0.0</td>\n",
              "    </tr>\n",
              "    <tr>\n",
              "      <th>3</th>\n",
              "      <td>-2.382989</td>\n",
              "      <td>1.825815</td>\n",
              "      <td>-1.578011</td>\n",
              "      <td>0.208343</td>\n",
              "      <td>0.042549</td>\n",
              "      <td>-0.239941</td>\n",
              "      <td>0.408163</td>\n",
              "      <td>0.232866</td>\n",
              "      <td>-0.369905</td>\n",
              "      <td>-0.603366</td>\n",
              "      <td>-0.337437</td>\n",
              "      <td>0.258680</td>\n",
              "      <td>-0.116753</td>\n",
              "      <td>0.0</td>\n",
              "    </tr>\n",
              "    <tr>\n",
              "      <th>4</th>\n",
              "      <td>-0.886031</td>\n",
              "      <td>1.549266</td>\n",
              "      <td>-1.416426</td>\n",
              "      <td>0.222215</td>\n",
              "      <td>0.687438</td>\n",
              "      <td>-0.327309</td>\n",
              "      <td>0.337817</td>\n",
              "      <td>0.076373</td>\n",
              "      <td>-0.445377</td>\n",
              "      <td>-0.195532</td>\n",
              "      <td>0.264539</td>\n",
              "      <td>-0.558849</td>\n",
              "      <td>-0.091635</td>\n",
              "      <td>1.0</td>\n",
              "    </tr>\n",
              "  </tbody>\n",
              "</table>\n",
              "</div>\n",
              "      <button class=\"colab-df-convert\" onclick=\"convertToInteractive('df-60d54ee7-6be1-4593-8f0c-f1856716487d')\"\n",
              "              title=\"Convert this dataframe to an interactive table.\"\n",
              "              style=\"display:none;\">\n",
              "        \n",
              "  <svg xmlns=\"http://www.w3.org/2000/svg\" height=\"24px\"viewBox=\"0 0 24 24\"\n",
              "       width=\"24px\">\n",
              "    <path d=\"M0 0h24v24H0V0z\" fill=\"none\"/>\n",
              "    <path d=\"M18.56 5.44l.94 2.06.94-2.06 2.06-.94-2.06-.94-.94-2.06-.94 2.06-2.06.94zm-11 1L8.5 8.5l.94-2.06 2.06-.94-2.06-.94L8.5 2.5l-.94 2.06-2.06.94zm10 10l.94 2.06.94-2.06 2.06-.94-2.06-.94-.94-2.06-.94 2.06-2.06.94z\"/><path d=\"M17.41 7.96l-1.37-1.37c-.4-.4-.92-.59-1.43-.59-.52 0-1.04.2-1.43.59L10.3 9.45l-7.72 7.72c-.78.78-.78 2.05 0 2.83L4 21.41c.39.39.9.59 1.41.59.51 0 1.02-.2 1.41-.59l7.78-7.78 2.81-2.81c.8-.78.8-2.07 0-2.86zM5.41 20L4 18.59l7.72-7.72 1.47 1.35L5.41 20z\"/>\n",
              "  </svg>\n",
              "      </button>\n",
              "      \n",
              "  <style>\n",
              "    .colab-df-container {\n",
              "      display:flex;\n",
              "      flex-wrap:wrap;\n",
              "      gap: 12px;\n",
              "    }\n",
              "\n",
              "    .colab-df-convert {\n",
              "      background-color: #E8F0FE;\n",
              "      border: none;\n",
              "      border-radius: 50%;\n",
              "      cursor: pointer;\n",
              "      display: none;\n",
              "      fill: #1967D2;\n",
              "      height: 32px;\n",
              "      padding: 0 0 0 0;\n",
              "      width: 32px;\n",
              "    }\n",
              "\n",
              "    .colab-df-convert:hover {\n",
              "      background-color: #E2EBFA;\n",
              "      box-shadow: 0px 1px 2px rgba(60, 64, 67, 0.3), 0px 1px 3px 1px rgba(60, 64, 67, 0.15);\n",
              "      fill: #174EA6;\n",
              "    }\n",
              "\n",
              "    [theme=dark] .colab-df-convert {\n",
              "      background-color: #3B4455;\n",
              "      fill: #D2E3FC;\n",
              "    }\n",
              "\n",
              "    [theme=dark] .colab-df-convert:hover {\n",
              "      background-color: #434B5C;\n",
              "      box-shadow: 0px 1px 3px 1px rgba(0, 0, 0, 0.15);\n",
              "      filter: drop-shadow(0px 1px 2px rgba(0, 0, 0, 0.3));\n",
              "      fill: #FFFFFF;\n",
              "    }\n",
              "  </style>\n",
              "\n",
              "      <script>\n",
              "        const buttonEl =\n",
              "          document.querySelector('#df-60d54ee7-6be1-4593-8f0c-f1856716487d button.colab-df-convert');\n",
              "        buttonEl.style.display =\n",
              "          google.colab.kernel.accessAllowed ? 'block' : 'none';\n",
              "\n",
              "        async function convertToInteractive(key) {\n",
              "          const element = document.querySelector('#df-60d54ee7-6be1-4593-8f0c-f1856716487d');\n",
              "          const dataTable =\n",
              "            await google.colab.kernel.invokeFunction('convertToInteractive',\n",
              "                                                     [key], {});\n",
              "          if (!dataTable) return;\n",
              "\n",
              "          const docLinkHtml = 'Like what you see? Visit the ' +\n",
              "            '<a target=\"_blank\" href=https://colab.research.google.com/notebooks/data_table.ipynb>data table notebook</a>'\n",
              "            + ' to learn more about interactive tables.';\n",
              "          element.innerHTML = '';\n",
              "          dataTable['output_type'] = 'display_data';\n",
              "          await google.colab.output.renderOutput(dataTable, element);\n",
              "          const docLink = document.createElement('div');\n",
              "          docLink.innerHTML = docLinkHtml;\n",
              "          element.appendChild(docLink);\n",
              "        }\n",
              "      </script>\n",
              "    </div>\n",
              "  </div>\n",
              "  "
            ]
          },
          "metadata": {},
          "execution_count": 1
        }
      ]
    },
    {
      "cell_type": "code",
      "source": [
        "df.shape"
      ],
      "metadata": {
        "colab": {
          "base_uri": "https://localhost:8080/"
        },
        "id": "OdzS5FLcAA6u",
        "outputId": "c4ac911f-ca73-455e-c7c2-87bed60c9e63"
      },
      "execution_count": null,
      "outputs": [
        {
          "output_type": "execute_result",
          "data": {
            "text/plain": [
              "(10000, 14)"
            ]
          },
          "metadata": {},
          "execution_count": 2
        }
      ]
    },
    {
      "cell_type": "code",
      "source": [
        "import tensorflow as tf\n",
        "import tensorflow_model_analysis as tfma\n",
        "import tensorflow_addons as tfa\n",
        "from tensorflow.keras import layers\n",
        "from sklearn.metrics import classification_report"
      ],
      "metadata": {
        "id": "5qmelaQG-URV"
      },
      "execution_count": null,
      "outputs": []
    },
    {
      "cell_type": "code",
      "source": [
        "X = df.iloc[:,:13]\n",
        "Y = df.iloc[:,-1]\n",
        "\n",
        "from sklearn.model_selection import StratifiedShuffleSplit\n",
        "sss = StratifiedShuffleSplit(n_splits=30, test_size=0.2, random_state=42)\n",
        "sss.get_n_splits(X, Y)\n",
        "\n",
        "for train_index, test_index in sss.split(X, Y):\n",
        "  X_train, X_test = X.iloc[train_index], X.iloc[test_index]\n",
        "  Y_train, Y_test = Y.iloc[train_index], Y.iloc[test_index]\n",
        "\n",
        "print(X_train.shape, Y_train.shape)\n",
        "print(X_test.shape, Y_test.shape)"
      ],
      "metadata": {
        "colab": {
          "base_uri": "https://localhost:8080/"
        },
        "id": "Gt-6D8IXK97m",
        "outputId": "376cd8ac-7fb0-4ef3-c129-9ca880a92766"
      },
      "execution_count": null,
      "outputs": [
        {
          "output_type": "stream",
          "name": "stdout",
          "text": [
            "(8000, 13) (8000,)\n",
            "(2000, 13) (2000,)\n"
          ]
        }
      ]
    },
    {
      "cell_type": "code",
      "source": [
        "predictive_model = tf.keras.Sequential(layers=[\n",
        "                                               layers.Dense(13, input_shape=(13,), activation='relu'),\n",
        "                                               layers.Dense(8),\n",
        "                                               layers.Dense(4),\n",
        "                                               layers.Dense(1, name='classifier', activation='sigmoid', bias_initializer=None),\n",
        "], name='CarInsurancePredictiveModel'\n",
        ")\n",
        "METRICS = [tf.keras.metrics.BinaryAccuracy(name='acc'),\n",
        "           tf.keras.metrics.TruePositives(name='tp'),\n",
        "           tf.keras.metrics.FalsePositives(name='fp'),\n",
        "           tf.keras.metrics.TrueNegatives(name='tn'),\n",
        "           tf.keras.metrics.FalseNegatives(name='fn'),\n",
        "           tf.keras.metrics.Precision(name='precision'),\n",
        "           tf.keras.metrics.Recall(name='recall'),\n",
        "           tf.keras.metrics.AUC(name='auc'),\n",
        "           tf.keras.metrics.AUC(name='prc', curve='PR')]\n",
        "\n",
        "predictive_model.compile(optimizer=tfa.optimizers.AdamW(learning_rate=1e-3, weight_decay=1e-4),\n",
        "                         loss=tf.keras.losses.BinaryCrossentropy(),\n",
        "                         metrics=METRICS)\n",
        "\n",
        "reducelr = tf.keras.callbacks.ReduceLROnPlateau(monitor='val_loss', factor=0.5, patience=5, verbose=0, mode='min')\n",
        "earlystop = tf.keras.callbacks.EarlyStopping(monitor='val_loss', patience=15, mode='min', restore_best_weights=True)\n",
        "history = predictive_model.fit(X_train, Y_train, validation_split=0.20, shuffle=True, epochs=200, batch_size=64, callbacks=[reducelr, earlystop])"
      ],
      "metadata": {
        "id": "dH75Hl4h_1Rp",
        "colab": {
          "base_uri": "https://localhost:8080/"
        },
        "outputId": "7d20097f-21b7-4e68-ca04-5ae21cb4f551"
      },
      "execution_count": null,
      "outputs": [
        {
          "output_type": "stream",
          "name": "stdout",
          "text": [
            "Epoch 1/200\n",
            "100/100 [==============================] - 9s 34ms/step - loss: 0.4674 - acc: 0.7700 - tp: 974.0000 - fp: 458.0000 - tn: 3954.0000 - fn: 1014.0000 - precision: 0.6802 - recall: 0.4899 - auc: 0.8360 - prc: 0.6636 - val_loss: 0.4358 - val_acc: 0.7962 - val_tp: 312.0000 - val_fp: 120.0000 - val_tn: 962.0000 - val_fn: 206.0000 - val_precision: 0.7222 - val_recall: 0.6023 - val_auc: 0.8591 - val_prc: 0.7264 - lr: 0.0010\n",
            "Epoch 2/200\n",
            "100/100 [==============================] - 1s 7ms/step - loss: 0.4010 - acc: 0.8136 - tp: 1274.0000 - fp: 479.0000 - tn: 3933.0000 - fn: 714.0000 - precision: 0.7268 - recall: 0.6408 - auc: 0.8802 - prc: 0.7426 - val_loss: 0.4103 - val_acc: 0.8188 - val_tp: 341.0000 - val_fp: 113.0000 - val_tn: 969.0000 - val_fn: 177.0000 - val_precision: 0.7511 - val_recall: 0.6583 - val_auc: 0.8771 - val_prc: 0.7633 - lr: 0.0010\n",
            "Epoch 3/200\n",
            "100/100 [==============================] - 1s 7ms/step - loss: 0.3781 - acc: 0.8281 - tp: 1364.0000 - fp: 476.0000 - tn: 3936.0000 - fn: 624.0000 - precision: 0.7413 - recall: 0.6861 - auc: 0.8945 - prc: 0.7730 - val_loss: 0.3984 - val_acc: 0.8288 - val_tp: 346.0000 - val_fp: 102.0000 - val_tn: 980.0000 - val_fn: 172.0000 - val_precision: 0.7723 - val_recall: 0.6680 - val_auc: 0.8857 - val_prc: 0.7805 - lr: 0.0010\n",
            "Epoch 4/200\n",
            "100/100 [==============================] - 1s 8ms/step - loss: 0.3654 - acc: 0.8361 - tp: 1383.0000 - fp: 444.0000 - tn: 3968.0000 - fn: 605.0000 - precision: 0.7570 - recall: 0.6957 - auc: 0.9018 - prc: 0.7896 - val_loss: 0.3902 - val_acc: 0.8394 - val_tp: 372.0000 - val_fp: 111.0000 - val_tn: 971.0000 - val_fn: 146.0000 - val_precision: 0.7702 - val_recall: 0.7181 - val_auc: 0.8895 - val_prc: 0.7895 - lr: 0.0010\n",
            "Epoch 5/200\n",
            "100/100 [==============================] - 1s 7ms/step - loss: 0.3583 - acc: 0.8347 - tp: 1397.0000 - fp: 467.0000 - tn: 3945.0000 - fn: 591.0000 - precision: 0.7495 - recall: 0.7027 - auc: 0.9054 - prc: 0.8010 - val_loss: 0.3875 - val_acc: 0.8406 - val_tp: 378.0000 - val_fp: 115.0000 - val_tn: 967.0000 - val_fn: 140.0000 - val_precision: 0.7667 - val_recall: 0.7297 - val_auc: 0.8917 - val_prc: 0.7947 - lr: 0.0010\n",
            "Epoch 6/200\n",
            "100/100 [==============================] - 1s 7ms/step - loss: 0.3544 - acc: 0.8364 - tp: 1403.0000 - fp: 462.0000 - tn: 3950.0000 - fn: 585.0000 - precision: 0.7523 - recall: 0.7057 - auc: 0.9071 - prc: 0.8068 - val_loss: 0.3846 - val_acc: 0.8388 - val_tp: 372.0000 - val_fp: 112.0000 - val_tn: 970.0000 - val_fn: 146.0000 - val_precision: 0.7686 - val_recall: 0.7181 - val_auc: 0.8928 - val_prc: 0.7962 - lr: 0.0010\n",
            "Epoch 7/200\n",
            "100/100 [==============================] - 1s 5ms/step - loss: 0.3513 - acc: 0.8380 - tp: 1415.0000 - fp: 464.0000 - tn: 3948.0000 - fn: 573.0000 - precision: 0.7531 - recall: 0.7118 - auc: 0.9089 - prc: 0.8093 - val_loss: 0.3846 - val_acc: 0.8363 - val_tp: 359.0000 - val_fp: 103.0000 - val_tn: 979.0000 - val_fn: 159.0000 - val_precision: 0.7771 - val_recall: 0.6931 - val_auc: 0.8933 - val_prc: 0.7987 - lr: 0.0010\n",
            "Epoch 8/200\n",
            "100/100 [==============================] - 0s 3ms/step - loss: 0.3493 - acc: 0.8383 - tp: 1408.0000 - fp: 455.0000 - tn: 3957.0000 - fn: 580.0000 - precision: 0.7558 - recall: 0.7082 - auc: 0.9097 - prc: 0.8121 - val_loss: 0.3827 - val_acc: 0.8381 - val_tp: 359.0000 - val_fp: 100.0000 - val_tn: 982.0000 - val_fn: 159.0000 - val_precision: 0.7821 - val_recall: 0.6931 - val_auc: 0.8943 - val_prc: 0.7986 - lr: 0.0010\n",
            "Epoch 9/200\n",
            "100/100 [==============================] - 0s 3ms/step - loss: 0.3484 - acc: 0.8397 - tp: 1422.0000 - fp: 460.0000 - tn: 3952.0000 - fn: 566.0000 - precision: 0.7556 - recall: 0.7153 - auc: 0.9103 - prc: 0.8120 - val_loss: 0.3822 - val_acc: 0.8388 - val_tp: 364.0000 - val_fp: 104.0000 - val_tn: 978.0000 - val_fn: 154.0000 - val_precision: 0.7778 - val_recall: 0.7027 - val_auc: 0.8944 - val_prc: 0.8004 - lr: 0.0010\n",
            "Epoch 10/200\n",
            "100/100 [==============================] - 0s 3ms/step - loss: 0.3471 - acc: 0.8419 - tp: 1422.0000 - fp: 446.0000 - tn: 3966.0000 - fn: 566.0000 - precision: 0.7612 - recall: 0.7153 - auc: 0.9109 - prc: 0.8130 - val_loss: 0.3810 - val_acc: 0.8431 - val_tp: 380.0000 - val_fp: 113.0000 - val_tn: 969.0000 - val_fn: 138.0000 - val_precision: 0.7708 - val_recall: 0.7336 - val_auc: 0.8949 - val_prc: 0.8001 - lr: 0.0010\n",
            "Epoch 11/200\n",
            "100/100 [==============================] - 0s 4ms/step - loss: 0.3458 - acc: 0.8430 - tp: 1425.0000 - fp: 442.0000 - tn: 3970.0000 - fn: 563.0000 - precision: 0.7633 - recall: 0.7168 - auc: 0.9115 - prc: 0.8149 - val_loss: 0.3811 - val_acc: 0.8419 - val_tp: 386.0000 - val_fp: 121.0000 - val_tn: 961.0000 - val_fn: 132.0000 - val_precision: 0.7613 - val_recall: 0.7452 - val_auc: 0.8953 - val_prc: 0.7996 - lr: 0.0010\n",
            "Epoch 12/200\n",
            "100/100 [==============================] - 0s 3ms/step - loss: 0.3458 - acc: 0.8419 - tp: 1424.0000 - fp: 448.0000 - tn: 3964.0000 - fn: 564.0000 - precision: 0.7607 - recall: 0.7163 - auc: 0.9114 - prc: 0.8158 - val_loss: 0.3804 - val_acc: 0.8356 - val_tp: 359.0000 - val_fp: 104.0000 - val_tn: 978.0000 - val_fn: 159.0000 - val_precision: 0.7754 - val_recall: 0.6931 - val_auc: 0.8954 - val_prc: 0.8003 - lr: 0.0010\n",
            "Epoch 13/200\n",
            "100/100 [==============================] - 0s 3ms/step - loss: 0.3438 - acc: 0.8428 - tp: 1409.0000 - fp: 427.0000 - tn: 3985.0000 - fn: 579.0000 - precision: 0.7674 - recall: 0.7088 - auc: 0.9125 - prc: 0.8185 - val_loss: 0.3822 - val_acc: 0.8425 - val_tp: 390.0000 - val_fp: 124.0000 - val_tn: 958.0000 - val_fn: 128.0000 - val_precision: 0.7588 - val_recall: 0.7529 - val_auc: 0.8951 - val_prc: 0.7996 - lr: 0.0010\n",
            "Epoch 14/200\n",
            "100/100 [==============================] - 0s 4ms/step - loss: 0.3444 - acc: 0.8425 - tp: 1440.0000 - fp: 460.0000 - tn: 3952.0000 - fn: 548.0000 - precision: 0.7579 - recall: 0.7243 - auc: 0.9123 - prc: 0.8162 - val_loss: 0.3785 - val_acc: 0.8413 - val_tp: 376.0000 - val_fp: 112.0000 - val_tn: 970.0000 - val_fn: 142.0000 - val_precision: 0.7705 - val_recall: 0.7259 - val_auc: 0.8958 - val_prc: 0.8008 - lr: 0.0010\n",
            "Epoch 15/200\n",
            "100/100 [==============================] - 0s 3ms/step - loss: 0.3433 - acc: 0.8442 - tp: 1412.0000 - fp: 421.0000 - tn: 3991.0000 - fn: 576.0000 - precision: 0.7703 - recall: 0.7103 - auc: 0.9128 - prc: 0.8182 - val_loss: 0.3787 - val_acc: 0.8431 - val_tp: 381.0000 - val_fp: 114.0000 - val_tn: 968.0000 - val_fn: 137.0000 - val_precision: 0.7697 - val_recall: 0.7355 - val_auc: 0.8957 - val_prc: 0.7998 - lr: 0.0010\n",
            "Epoch 16/200\n",
            "100/100 [==============================] - 0s 3ms/step - loss: 0.3430 - acc: 0.8431 - tp: 1426.0000 - fp: 442.0000 - tn: 3970.0000 - fn: 562.0000 - precision: 0.7634 - recall: 0.7173 - auc: 0.9130 - prc: 0.8187 - val_loss: 0.3794 - val_acc: 0.8413 - val_tp: 372.0000 - val_fp: 108.0000 - val_tn: 974.0000 - val_fn: 146.0000 - val_precision: 0.7750 - val_recall: 0.7181 - val_auc: 0.8956 - val_prc: 0.8023 - lr: 0.0010\n",
            "Epoch 17/200\n",
            "100/100 [==============================] - 0s 3ms/step - loss: 0.3431 - acc: 0.8452 - tp: 1429.0000 - fp: 432.0000 - tn: 3980.0000 - fn: 559.0000 - precision: 0.7679 - recall: 0.7188 - auc: 0.9129 - prc: 0.8174 - val_loss: 0.3787 - val_acc: 0.8419 - val_tp: 379.0000 - val_fp: 114.0000 - val_tn: 968.0000 - val_fn: 139.0000 - val_precision: 0.7688 - val_recall: 0.7317 - val_auc: 0.8957 - val_prc: 0.8008 - lr: 0.0010\n",
            "Epoch 18/200\n",
            "100/100 [==============================] - 0s 3ms/step - loss: 0.3423 - acc: 0.8445 - tp: 1428.0000 - fp: 435.0000 - tn: 3977.0000 - fn: 560.0000 - precision: 0.7665 - recall: 0.7183 - auc: 0.9133 - prc: 0.8189 - val_loss: 0.3780 - val_acc: 0.8406 - val_tp: 371.0000 - val_fp: 108.0000 - val_tn: 974.0000 - val_fn: 147.0000 - val_precision: 0.7745 - val_recall: 0.7162 - val_auc: 0.8958 - val_prc: 0.8026 - lr: 0.0010\n",
            "Epoch 19/200\n",
            "100/100 [==============================] - 0s 3ms/step - loss: 0.3424 - acc: 0.8448 - tp: 1413.0000 - fp: 418.0000 - tn: 3994.0000 - fn: 575.0000 - precision: 0.7717 - recall: 0.7108 - auc: 0.9134 - prc: 0.8175 - val_loss: 0.3782 - val_acc: 0.8394 - val_tp: 372.0000 - val_fp: 111.0000 - val_tn: 971.0000 - val_fn: 146.0000 - val_precision: 0.7702 - val_recall: 0.7181 - val_auc: 0.8958 - val_prc: 0.8010 - lr: 0.0010\n",
            "Epoch 20/200\n",
            "100/100 [==============================] - 0s 3ms/step - loss: 0.3420 - acc: 0.8452 - tp: 1426.0000 - fp: 429.0000 - tn: 3983.0000 - fn: 562.0000 - precision: 0.7687 - recall: 0.7173 - auc: 0.9135 - prc: 0.8186 - val_loss: 0.3780 - val_acc: 0.8394 - val_tp: 374.0000 - val_fp: 113.0000 - val_tn: 969.0000 - val_fn: 144.0000 - val_precision: 0.7680 - val_recall: 0.7220 - val_auc: 0.8960 - val_prc: 0.8019 - lr: 0.0010\n",
            "Epoch 21/200\n",
            "100/100 [==============================] - 0s 3ms/step - loss: 0.3420 - acc: 0.8459 - tp: 1442.0000 - fp: 440.0000 - tn: 3972.0000 - fn: 546.0000 - precision: 0.7662 - recall: 0.7254 - auc: 0.9135 - prc: 0.8185 - val_loss: 0.3778 - val_acc: 0.8388 - val_tp: 371.0000 - val_fp: 111.0000 - val_tn: 971.0000 - val_fn: 147.0000 - val_precision: 0.7697 - val_recall: 0.7162 - val_auc: 0.8961 - val_prc: 0.8023 - lr: 0.0010\n",
            "Epoch 22/200\n",
            "100/100 [==============================] - 0s 3ms/step - loss: 0.3410 - acc: 0.8442 - tp: 1417.0000 - fp: 426.0000 - tn: 3986.0000 - fn: 571.0000 - precision: 0.7689 - recall: 0.7128 - auc: 0.9140 - prc: 0.8204 - val_loss: 0.3807 - val_acc: 0.8438 - val_tp: 391.0000 - val_fp: 123.0000 - val_tn: 959.0000 - val_fn: 127.0000 - val_precision: 0.7607 - val_recall: 0.7548 - val_auc: 0.8959 - val_prc: 0.8025 - lr: 0.0010\n",
            "Epoch 23/200\n",
            "100/100 [==============================] - 0s 3ms/step - loss: 0.3414 - acc: 0.8447 - tp: 1430.0000 - fp: 436.0000 - tn: 3976.0000 - fn: 558.0000 - precision: 0.7663 - recall: 0.7193 - auc: 0.9138 - prc: 0.8211 - val_loss: 0.3776 - val_acc: 0.8406 - val_tp: 376.0000 - val_fp: 113.0000 - val_tn: 969.0000 - val_fn: 142.0000 - val_precision: 0.7689 - val_recall: 0.7259 - val_auc: 0.8960 - val_prc: 0.8012 - lr: 0.0010\n",
            "Epoch 24/200\n",
            "100/100 [==============================] - 0s 3ms/step - loss: 0.3407 - acc: 0.8438 - tp: 1419.0000 - fp: 431.0000 - tn: 3981.0000 - fn: 569.0000 - precision: 0.7670 - recall: 0.7138 - auc: 0.9141 - prc: 0.8206 - val_loss: 0.3782 - val_acc: 0.8406 - val_tp: 382.0000 - val_fp: 119.0000 - val_tn: 963.0000 - val_fn: 136.0000 - val_precision: 0.7625 - val_recall: 0.7375 - val_auc: 0.8960 - val_prc: 0.7992 - lr: 0.0010\n",
            "Epoch 25/200\n",
            "100/100 [==============================] - 0s 3ms/step - loss: 0.3409 - acc: 0.8431 - tp: 1430.0000 - fp: 446.0000 - tn: 3966.0000 - fn: 558.0000 - precision: 0.7623 - recall: 0.7193 - auc: 0.9141 - prc: 0.8207 - val_loss: 0.3780 - val_acc: 0.8406 - val_tp: 371.0000 - val_fp: 108.0000 - val_tn: 974.0000 - val_fn: 147.0000 - val_precision: 0.7745 - val_recall: 0.7162 - val_auc: 0.8962 - val_prc: 0.8026 - lr: 0.0010\n",
            "Epoch 26/200\n",
            "100/100 [==============================] - 0s 3ms/step - loss: 0.3406 - acc: 0.8445 - tp: 1419.0000 - fp: 426.0000 - tn: 3986.0000 - fn: 569.0000 - precision: 0.7691 - recall: 0.7138 - auc: 0.9142 - prc: 0.8217 - val_loss: 0.3775 - val_acc: 0.8406 - val_tp: 380.0000 - val_fp: 117.0000 - val_tn: 965.0000 - val_fn: 138.0000 - val_precision: 0.7646 - val_recall: 0.7336 - val_auc: 0.8962 - val_prc: 0.8023 - lr: 0.0010\n",
            "Epoch 27/200\n",
            "100/100 [==============================] - 0s 3ms/step - loss: 0.3401 - acc: 0.8441 - tp: 1434.0000 - fp: 444.0000 - tn: 3968.0000 - fn: 554.0000 - precision: 0.7636 - recall: 0.7213 - auc: 0.9145 - prc: 0.8208 - val_loss: 0.3789 - val_acc: 0.8419 - val_tp: 382.0000 - val_fp: 117.0000 - val_tn: 965.0000 - val_fn: 136.0000 - val_precision: 0.7655 - val_recall: 0.7375 - val_auc: 0.8957 - val_prc: 0.8032 - lr: 0.0010\n",
            "Epoch 28/200\n",
            "100/100 [==============================] - 0s 3ms/step - loss: 0.3402 - acc: 0.8452 - tp: 1427.0000 - fp: 430.0000 - tn: 3982.0000 - fn: 561.0000 - precision: 0.7684 - recall: 0.7178 - auc: 0.9144 - prc: 0.8221 - val_loss: 0.3783 - val_acc: 0.8388 - val_tp: 381.0000 - val_fp: 121.0000 - val_tn: 961.0000 - val_fn: 137.0000 - val_precision: 0.7590 - val_recall: 0.7355 - val_auc: 0.8960 - val_prc: 0.8012 - lr: 0.0010\n",
            "Epoch 29/200\n",
            "100/100 [==============================] - 0s 3ms/step - loss: 0.3397 - acc: 0.8453 - tp: 1432.0000 - fp: 434.0000 - tn: 3978.0000 - fn: 556.0000 - precision: 0.7674 - recall: 0.7203 - auc: 0.9146 - prc: 0.8219 - val_loss: 0.3772 - val_acc: 0.8381 - val_tp: 367.0000 - val_fp: 108.0000 - val_tn: 974.0000 - val_fn: 151.0000 - val_precision: 0.7726 - val_recall: 0.7085 - val_auc: 0.8966 - val_prc: 0.8022 - lr: 0.0010\n",
            "Epoch 30/200\n",
            "100/100 [==============================] - 0s 3ms/step - loss: 0.3395 - acc: 0.8450 - tp: 1434.0000 - fp: 438.0000 - tn: 3974.0000 - fn: 554.0000 - precision: 0.7660 - recall: 0.7213 - auc: 0.9147 - prc: 0.8225 - val_loss: 0.3780 - val_acc: 0.8394 - val_tp: 371.0000 - val_fp: 110.0000 - val_tn: 972.0000 - val_fn: 147.0000 - val_precision: 0.7713 - val_recall: 0.7162 - val_auc: 0.8964 - val_prc: 0.8030 - lr: 0.0010\n",
            "Epoch 31/200\n",
            "100/100 [==============================] - 0s 3ms/step - loss: 0.3396 - acc: 0.8448 - tp: 1416.0000 - fp: 421.0000 - tn: 3991.0000 - fn: 572.0000 - precision: 0.7708 - recall: 0.7123 - auc: 0.9147 - prc: 0.8227 - val_loss: 0.3782 - val_acc: 0.8419 - val_tp: 387.0000 - val_fp: 122.0000 - val_tn: 960.0000 - val_fn: 131.0000 - val_precision: 0.7603 - val_recall: 0.7471 - val_auc: 0.8964 - val_prc: 0.8015 - lr: 0.0010\n",
            "Epoch 32/200\n",
            "100/100 [==============================] - 0s 3ms/step - loss: 0.3396 - acc: 0.8434 - tp: 1436.0000 - fp: 450.0000 - tn: 3962.0000 - fn: 552.0000 - precision: 0.7614 - recall: 0.7223 - auc: 0.9148 - prc: 0.8226 - val_loss: 0.3773 - val_acc: 0.8406 - val_tp: 367.0000 - val_fp: 104.0000 - val_tn: 978.0000 - val_fn: 151.0000 - val_precision: 0.7792 - val_recall: 0.7085 - val_auc: 0.8965 - val_prc: 0.8033 - lr: 0.0010\n",
            "Epoch 33/200\n",
            "100/100 [==============================] - 0s 4ms/step - loss: 0.3390 - acc: 0.8444 - tp: 1418.0000 - fp: 426.0000 - tn: 3986.0000 - fn: 570.0000 - precision: 0.7690 - recall: 0.7133 - auc: 0.9150 - prc: 0.8238 - val_loss: 0.3767 - val_acc: 0.8394 - val_tp: 373.0000 - val_fp: 112.0000 - val_tn: 970.0000 - val_fn: 145.0000 - val_precision: 0.7691 - val_recall: 0.7201 - val_auc: 0.8966 - val_prc: 0.8038 - lr: 0.0010\n",
            "Epoch 34/200\n",
            "100/100 [==============================] - 0s 3ms/step - loss: 0.3389 - acc: 0.8450 - tp: 1432.0000 - fp: 436.0000 - tn: 3976.0000 - fn: 556.0000 - precision: 0.7666 - recall: 0.7203 - auc: 0.9150 - prc: 0.8222 - val_loss: 0.3769 - val_acc: 0.8406 - val_tp: 374.0000 - val_fp: 111.0000 - val_tn: 971.0000 - val_fn: 144.0000 - val_precision: 0.7711 - val_recall: 0.7220 - val_auc: 0.8968 - val_prc: 0.8030 - lr: 0.0010\n",
            "Epoch 35/200\n",
            "100/100 [==============================] - 0s 3ms/step - loss: 0.3391 - acc: 0.8442 - tp: 1429.0000 - fp: 438.0000 - tn: 3974.0000 - fn: 559.0000 - precision: 0.7654 - recall: 0.7188 - auc: 0.9149 - prc: 0.8227 - val_loss: 0.3767 - val_acc: 0.8388 - val_tp: 367.0000 - val_fp: 107.0000 - val_tn: 975.0000 - val_fn: 151.0000 - val_precision: 0.7743 - val_recall: 0.7085 - val_auc: 0.8969 - val_prc: 0.8026 - lr: 0.0010\n",
            "Epoch 36/200\n",
            "100/100 [==============================] - 0s 3ms/step - loss: 0.3388 - acc: 0.8466 - tp: 1435.0000 - fp: 429.0000 - tn: 3983.0000 - fn: 553.0000 - precision: 0.7698 - recall: 0.7218 - auc: 0.9151 - prc: 0.8258 - val_loss: 0.3765 - val_acc: 0.8369 - val_tp: 367.0000 - val_fp: 110.0000 - val_tn: 972.0000 - val_fn: 151.0000 - val_precision: 0.7694 - val_recall: 0.7085 - val_auc: 0.8967 - val_prc: 0.8021 - lr: 0.0010\n",
            "Epoch 37/200\n",
            "100/100 [==============================] - 0s 3ms/step - loss: 0.3386 - acc: 0.8461 - tp: 1428.0000 - fp: 425.0000 - tn: 3987.0000 - fn: 560.0000 - precision: 0.7706 - recall: 0.7183 - auc: 0.9152 - prc: 0.8243 - val_loss: 0.3775 - val_acc: 0.8400 - val_tp: 385.0000 - val_fp: 123.0000 - val_tn: 959.0000 - val_fn: 133.0000 - val_precision: 0.7579 - val_recall: 0.7432 - val_auc: 0.8970 - val_prc: 0.8028 - lr: 0.0010\n",
            "Epoch 38/200\n",
            "100/100 [==============================] - 0s 3ms/step - loss: 0.3382 - acc: 0.8461 - tp: 1438.0000 - fp: 435.0000 - tn: 3977.0000 - fn: 550.0000 - precision: 0.7678 - recall: 0.7233 - auc: 0.9154 - prc: 0.8254 - val_loss: 0.3769 - val_acc: 0.8400 - val_tp: 377.0000 - val_fp: 115.0000 - val_tn: 967.0000 - val_fn: 141.0000 - val_precision: 0.7663 - val_recall: 0.7278 - val_auc: 0.8967 - val_prc: 0.8033 - lr: 0.0010\n",
            "Epoch 39/200\n",
            "100/100 [==============================] - 0s 3ms/step - loss: 0.3382 - acc: 0.8453 - tp: 1438.0000 - fp: 440.0000 - tn: 3972.0000 - fn: 550.0000 - precision: 0.7657 - recall: 0.7233 - auc: 0.9154 - prc: 0.8239 - val_loss: 0.3774 - val_acc: 0.8400 - val_tp: 375.0000 - val_fp: 113.0000 - val_tn: 969.0000 - val_fn: 143.0000 - val_precision: 0.7684 - val_recall: 0.7239 - val_auc: 0.8966 - val_prc: 0.8026 - lr: 0.0010\n",
            "Epoch 40/200\n",
            "100/100 [==============================] - 0s 3ms/step - loss: 0.3386 - acc: 0.8453 - tp: 1426.0000 - fp: 428.0000 - tn: 3984.0000 - fn: 562.0000 - precision: 0.7691 - recall: 0.7173 - auc: 0.9153 - prc: 0.8243 - val_loss: 0.3765 - val_acc: 0.8375 - val_tp: 378.0000 - val_fp: 120.0000 - val_tn: 962.0000 - val_fn: 140.0000 - val_precision: 0.7590 - val_recall: 0.7297 - val_auc: 0.8969 - val_prc: 0.8013 - lr: 0.0010\n",
            "Epoch 41/200\n",
            "100/100 [==============================] - 0s 3ms/step - loss: 0.3378 - acc: 0.8456 - tp: 1436.0000 - fp: 436.0000 - tn: 3976.0000 - fn: 552.0000 - precision: 0.7671 - recall: 0.7223 - auc: 0.9156 - prc: 0.8251 - val_loss: 0.3776 - val_acc: 0.8400 - val_tp: 379.0000 - val_fp: 117.0000 - val_tn: 965.0000 - val_fn: 139.0000 - val_precision: 0.7641 - val_recall: 0.7317 - val_auc: 0.8966 - val_prc: 0.8047 - lr: 0.0010\n",
            "Epoch 42/200\n",
            "100/100 [==============================] - 0s 3ms/step - loss: 0.3372 - acc: 0.8478 - tp: 1441.0000 - fp: 427.0000 - tn: 3985.0000 - fn: 547.0000 - precision: 0.7714 - recall: 0.7248 - auc: 0.9160 - prc: 0.8251 - val_loss: 0.3763 - val_acc: 0.8369 - val_tp: 369.0000 - val_fp: 112.0000 - val_tn: 970.0000 - val_fn: 149.0000 - val_precision: 0.7672 - val_recall: 0.7124 - val_auc: 0.8969 - val_prc: 0.8032 - lr: 5.0000e-04\n",
            "Epoch 43/200\n",
            "100/100 [==============================] - 0s 3ms/step - loss: 0.3370 - acc: 0.8462 - tp: 1433.0000 - fp: 429.0000 - tn: 3983.0000 - fn: 555.0000 - precision: 0.7696 - recall: 0.7208 - auc: 0.9161 - prc: 0.8260 - val_loss: 0.3761 - val_acc: 0.8400 - val_tp: 369.0000 - val_fp: 107.0000 - val_tn: 975.0000 - val_fn: 149.0000 - val_precision: 0.7752 - val_recall: 0.7124 - val_auc: 0.8970 - val_prc: 0.8044 - lr: 5.0000e-04\n",
            "Epoch 44/200\n",
            "100/100 [==============================] - 0s 3ms/step - loss: 0.3372 - acc: 0.8478 - tp: 1432.0000 - fp: 418.0000 - tn: 3994.0000 - fn: 556.0000 - precision: 0.7741 - recall: 0.7203 - auc: 0.9160 - prc: 0.8252 - val_loss: 0.3762 - val_acc: 0.8388 - val_tp: 377.0000 - val_fp: 117.0000 - val_tn: 965.0000 - val_fn: 141.0000 - val_precision: 0.7632 - val_recall: 0.7278 - val_auc: 0.8970 - val_prc: 0.8035 - lr: 5.0000e-04\n",
            "Epoch 45/200\n",
            "100/100 [==============================] - 0s 3ms/step - loss: 0.3370 - acc: 0.8462 - tp: 1445.0000 - fp: 441.0000 - tn: 3971.0000 - fn: 543.0000 - precision: 0.7662 - recall: 0.7269 - auc: 0.9160 - prc: 0.8259 - val_loss: 0.3759 - val_acc: 0.8369 - val_tp: 372.0000 - val_fp: 115.0000 - val_tn: 967.0000 - val_fn: 146.0000 - val_precision: 0.7639 - val_recall: 0.7181 - val_auc: 0.8971 - val_prc: 0.8032 - lr: 5.0000e-04\n",
            "Epoch 46/200\n",
            "100/100 [==============================] - 0s 3ms/step - loss: 0.3374 - acc: 0.8459 - tp: 1429.0000 - fp: 427.0000 - tn: 3985.0000 - fn: 559.0000 - precision: 0.7699 - recall: 0.7188 - auc: 0.9161 - prc: 0.8261 - val_loss: 0.3757 - val_acc: 0.8369 - val_tp: 371.0000 - val_fp: 114.0000 - val_tn: 968.0000 - val_fn: 147.0000 - val_precision: 0.7649 - val_recall: 0.7162 - val_auc: 0.8972 - val_prc: 0.8032 - lr: 5.0000e-04\n",
            "Epoch 47/200\n",
            "100/100 [==============================] - 0s 3ms/step - loss: 0.3371 - acc: 0.8466 - tp: 1433.0000 - fp: 427.0000 - tn: 3985.0000 - fn: 555.0000 - precision: 0.7704 - recall: 0.7208 - auc: 0.9160 - prc: 0.8258 - val_loss: 0.3762 - val_acc: 0.8388 - val_tp: 380.0000 - val_fp: 120.0000 - val_tn: 962.0000 - val_fn: 138.0000 - val_precision: 0.7600 - val_recall: 0.7336 - val_auc: 0.8971 - val_prc: 0.8015 - lr: 5.0000e-04\n",
            "Epoch 48/200\n",
            "100/100 [==============================] - 0s 3ms/step - loss: 0.3370 - acc: 0.8469 - tp: 1442.0000 - fp: 434.0000 - tn: 3978.0000 - fn: 546.0000 - precision: 0.7687 - recall: 0.7254 - auc: 0.9161 - prc: 0.8261 - val_loss: 0.3761 - val_acc: 0.8381 - val_tp: 369.0000 - val_fp: 110.0000 - val_tn: 972.0000 - val_fn: 149.0000 - val_precision: 0.7704 - val_recall: 0.7124 - val_auc: 0.8973 - val_prc: 0.8041 - lr: 5.0000e-04\n",
            "Epoch 49/200\n",
            "100/100 [==============================] - 0s 3ms/step - loss: 0.3366 - acc: 0.8492 - tp: 1459.0000 - fp: 436.0000 - tn: 3976.0000 - fn: 529.0000 - precision: 0.7699 - recall: 0.7339 - auc: 0.9163 - prc: 0.8268 - val_loss: 0.3762 - val_acc: 0.8381 - val_tp: 363.0000 - val_fp: 104.0000 - val_tn: 978.0000 - val_fn: 155.0000 - val_precision: 0.7773 - val_recall: 0.7008 - val_auc: 0.8973 - val_prc: 0.8024 - lr: 5.0000e-04\n",
            "Epoch 50/200\n",
            "100/100 [==============================] - 0s 3ms/step - loss: 0.3369 - acc: 0.8467 - tp: 1422.0000 - fp: 415.0000 - tn: 3997.0000 - fn: 566.0000 - precision: 0.7741 - recall: 0.7153 - auc: 0.9161 - prc: 0.8270 - val_loss: 0.3758 - val_acc: 0.8363 - val_tp: 374.0000 - val_fp: 118.0000 - val_tn: 964.0000 - val_fn: 144.0000 - val_precision: 0.7602 - val_recall: 0.7220 - val_auc: 0.8972 - val_prc: 0.8038 - lr: 5.0000e-04\n",
            "Epoch 51/200\n",
            "100/100 [==============================] - 0s 3ms/step - loss: 0.3367 - acc: 0.8467 - tp: 1452.0000 - fp: 445.0000 - tn: 3967.0000 - fn: 536.0000 - precision: 0.7654 - recall: 0.7304 - auc: 0.9162 - prc: 0.8273 - val_loss: 0.3759 - val_acc: 0.8381 - val_tp: 365.0000 - val_fp: 106.0000 - val_tn: 976.0000 - val_fn: 153.0000 - val_precision: 0.7749 - val_recall: 0.7046 - val_auc: 0.8973 - val_prc: 0.8030 - lr: 5.0000e-04\n",
            "Epoch 52/200\n",
            "100/100 [==============================] - 0s 3ms/step - loss: 0.3364 - acc: 0.8475 - tp: 1422.0000 - fp: 410.0000 - tn: 4002.0000 - fn: 566.0000 - precision: 0.7762 - recall: 0.7153 - auc: 0.9166 - prc: 0.8272 - val_loss: 0.3755 - val_acc: 0.8375 - val_tp: 375.0000 - val_fp: 117.0000 - val_tn: 965.0000 - val_fn: 143.0000 - val_precision: 0.7622 - val_recall: 0.7239 - val_auc: 0.8972 - val_prc: 0.8038 - lr: 2.5000e-04\n",
            "Epoch 53/200\n",
            "100/100 [==============================] - 0s 3ms/step - loss: 0.3365 - acc: 0.8481 - tp: 1451.0000 - fp: 435.0000 - tn: 3977.0000 - fn: 537.0000 - precision: 0.7694 - recall: 0.7299 - auc: 0.9166 - prc: 0.8269 - val_loss: 0.3756 - val_acc: 0.8388 - val_tp: 372.0000 - val_fp: 112.0000 - val_tn: 970.0000 - val_fn: 146.0000 - val_precision: 0.7686 - val_recall: 0.7181 - val_auc: 0.8970 - val_prc: 0.8023 - lr: 2.5000e-04\n",
            "Epoch 54/200\n",
            "100/100 [==============================] - 0s 3ms/step - loss: 0.3365 - acc: 0.8472 - tp: 1427.0000 - fp: 417.0000 - tn: 3995.0000 - fn: 561.0000 - precision: 0.7739 - recall: 0.7178 - auc: 0.9166 - prc: 0.8277 - val_loss: 0.3754 - val_acc: 0.8375 - val_tp: 373.0000 - val_fp: 115.0000 - val_tn: 967.0000 - val_fn: 145.0000 - val_precision: 0.7643 - val_recall: 0.7201 - val_auc: 0.8971 - val_prc: 0.8026 - lr: 2.5000e-04\n",
            "Epoch 55/200\n",
            "100/100 [==============================] - 0s 3ms/step - loss: 0.3366 - acc: 0.8477 - tp: 1449.0000 - fp: 436.0000 - tn: 3976.0000 - fn: 539.0000 - precision: 0.7687 - recall: 0.7289 - auc: 0.9166 - prc: 0.8278 - val_loss: 0.3754 - val_acc: 0.8369 - val_tp: 376.0000 - val_fp: 119.0000 - val_tn: 963.0000 - val_fn: 142.0000 - val_precision: 0.7596 - val_recall: 0.7259 - val_auc: 0.8972 - val_prc: 0.8032 - lr: 2.5000e-04\n",
            "Epoch 56/200\n",
            "100/100 [==============================] - 0s 3ms/step - loss: 0.3365 - acc: 0.8470 - tp: 1448.0000 - fp: 439.0000 - tn: 3973.0000 - fn: 540.0000 - precision: 0.7674 - recall: 0.7284 - auc: 0.9166 - prc: 0.8276 - val_loss: 0.3752 - val_acc: 0.8356 - val_tp: 372.0000 - val_fp: 117.0000 - val_tn: 965.0000 - val_fn: 146.0000 - val_precision: 0.7607 - val_recall: 0.7181 - val_auc: 0.8972 - val_prc: 0.8025 - lr: 2.5000e-04\n",
            "Epoch 57/200\n",
            "100/100 [==============================] - 0s 3ms/step - loss: 0.3365 - acc: 0.8461 - tp: 1441.0000 - fp: 438.0000 - tn: 3974.0000 - fn: 547.0000 - precision: 0.7669 - recall: 0.7248 - auc: 0.9165 - prc: 0.8270 - val_loss: 0.3753 - val_acc: 0.8363 - val_tp: 373.0000 - val_fp: 117.0000 - val_tn: 965.0000 - val_fn: 145.0000 - val_precision: 0.7612 - val_recall: 0.7201 - val_auc: 0.8971 - val_prc: 0.8025 - lr: 2.5000e-04\n",
            "Epoch 58/200\n",
            "100/100 [==============================] - 0s 3ms/step - loss: 0.3365 - acc: 0.8467 - tp: 1449.0000 - fp: 442.0000 - tn: 3970.0000 - fn: 539.0000 - precision: 0.7663 - recall: 0.7289 - auc: 0.9166 - prc: 0.8274 - val_loss: 0.3752 - val_acc: 0.8363 - val_tp: 373.0000 - val_fp: 117.0000 - val_tn: 965.0000 - val_fn: 145.0000 - val_precision: 0.7612 - val_recall: 0.7201 - val_auc: 0.8970 - val_prc: 0.8024 - lr: 2.5000e-04\n",
            "Epoch 59/200\n",
            "100/100 [==============================] - 0s 3ms/step - loss: 0.3367 - acc: 0.8480 - tp: 1443.0000 - fp: 428.0000 - tn: 3984.0000 - fn: 545.0000 - precision: 0.7712 - recall: 0.7259 - auc: 0.9166 - prc: 0.8268 - val_loss: 0.3752 - val_acc: 0.8375 - val_tp: 371.0000 - val_fp: 113.0000 - val_tn: 969.0000 - val_fn: 147.0000 - val_precision: 0.7665 - val_recall: 0.7162 - val_auc: 0.8972 - val_prc: 0.8024 - lr: 2.5000e-04\n",
            "Epoch 60/200\n",
            "100/100 [==============================] - 0s 3ms/step - loss: 0.3366 - acc: 0.8469 - tp: 1440.0000 - fp: 432.0000 - tn: 3980.0000 - fn: 548.0000 - precision: 0.7692 - recall: 0.7243 - auc: 0.9166 - prc: 0.8275 - val_loss: 0.3754 - val_acc: 0.8375 - val_tp: 375.0000 - val_fp: 117.0000 - val_tn: 965.0000 - val_fn: 143.0000 - val_precision: 0.7622 - val_recall: 0.7239 - val_auc: 0.8970 - val_prc: 0.8021 - lr: 2.5000e-04\n",
            "Epoch 61/200\n",
            "100/100 [==============================] - 0s 3ms/step - loss: 0.3367 - acc: 0.8459 - tp: 1443.0000 - fp: 441.0000 - tn: 3971.0000 - fn: 545.0000 - precision: 0.7659 - recall: 0.7259 - auc: 0.9165 - prc: 0.8271 - val_loss: 0.3752 - val_acc: 0.8363 - val_tp: 373.0000 - val_fp: 117.0000 - val_tn: 965.0000 - val_fn: 145.0000 - val_precision: 0.7612 - val_recall: 0.7201 - val_auc: 0.8972 - val_prc: 0.8024 - lr: 2.5000e-04\n",
            "Epoch 62/200\n",
            "100/100 [==============================] - 0s 3ms/step - loss: 0.3366 - acc: 0.8458 - tp: 1434.0000 - fp: 433.0000 - tn: 3979.0000 - fn: 554.0000 - precision: 0.7681 - recall: 0.7213 - auc: 0.9166 - prc: 0.8268 - val_loss: 0.3751 - val_acc: 0.8363 - val_tp: 371.0000 - val_fp: 115.0000 - val_tn: 967.0000 - val_fn: 147.0000 - val_precision: 0.7634 - val_recall: 0.7162 - val_auc: 0.8974 - val_prc: 0.8035 - lr: 1.2500e-04\n",
            "Epoch 63/200\n",
            "100/100 [==============================] - 0s 3ms/step - loss: 0.3369 - acc: 0.8472 - tp: 1438.0000 - fp: 428.0000 - tn: 3984.0000 - fn: 550.0000 - precision: 0.7706 - recall: 0.7233 - auc: 0.9167 - prc: 0.8276 - val_loss: 0.3750 - val_acc: 0.8363 - val_tp: 372.0000 - val_fp: 116.0000 - val_tn: 966.0000 - val_fn: 146.0000 - val_precision: 0.7623 - val_recall: 0.7181 - val_auc: 0.8972 - val_prc: 0.8040 - lr: 1.2500e-04\n",
            "Epoch 64/200\n",
            "100/100 [==============================] - 0s 4ms/step - loss: 0.3370 - acc: 0.8464 - tp: 1441.0000 - fp: 436.0000 - tn: 3976.0000 - fn: 547.0000 - precision: 0.7677 - recall: 0.7248 - auc: 0.9167 - prc: 0.8276 - val_loss: 0.3750 - val_acc: 0.8369 - val_tp: 374.0000 - val_fp: 117.0000 - val_tn: 965.0000 - val_fn: 144.0000 - val_precision: 0.7617 - val_recall: 0.7220 - val_auc: 0.8971 - val_prc: 0.8039 - lr: 1.2500e-04\n",
            "Epoch 65/200\n",
            "100/100 [==============================] - 0s 3ms/step - loss: 0.3371 - acc: 0.8464 - tp: 1436.0000 - fp: 431.0000 - tn: 3981.0000 - fn: 552.0000 - precision: 0.7691 - recall: 0.7223 - auc: 0.9167 - prc: 0.8273 - val_loss: 0.3750 - val_acc: 0.8356 - val_tp: 369.0000 - val_fp: 114.0000 - val_tn: 968.0000 - val_fn: 149.0000 - val_precision: 0.7640 - val_recall: 0.7124 - val_auc: 0.8971 - val_prc: 0.8029 - lr: 1.2500e-04\n",
            "Epoch 66/200\n",
            "100/100 [==============================] - 0s 3ms/step - loss: 0.3374 - acc: 0.8462 - tp: 1433.0000 - fp: 429.0000 - tn: 3983.0000 - fn: 555.0000 - precision: 0.7696 - recall: 0.7208 - auc: 0.9168 - prc: 0.8274 - val_loss: 0.3750 - val_acc: 0.8363 - val_tp: 370.0000 - val_fp: 114.0000 - val_tn: 968.0000 - val_fn: 148.0000 - val_precision: 0.7645 - val_recall: 0.7143 - val_auc: 0.8971 - val_prc: 0.8027 - lr: 1.2500e-04\n",
            "Epoch 67/200\n",
            "100/100 [==============================] - 0s 4ms/step - loss: 0.3376 - acc: 0.8459 - tp: 1431.0000 - fp: 429.0000 - tn: 3983.0000 - fn: 557.0000 - precision: 0.7694 - recall: 0.7198 - auc: 0.9167 - prc: 0.8271 - val_loss: 0.3750 - val_acc: 0.8350 - val_tp: 367.0000 - val_fp: 113.0000 - val_tn: 969.0000 - val_fn: 151.0000 - val_precision: 0.7646 - val_recall: 0.7085 - val_auc: 0.8970 - val_prc: 0.8028 - lr: 1.2500e-04\n",
            "Epoch 68/200\n",
            "100/100 [==============================] - 0s 3ms/step - loss: 0.3377 - acc: 0.8469 - tp: 1428.0000 - fp: 420.0000 - tn: 3992.0000 - fn: 560.0000 - precision: 0.7727 - recall: 0.7183 - auc: 0.9167 - prc: 0.8276 - val_loss: 0.3750 - val_acc: 0.8356 - val_tp: 369.0000 - val_fp: 114.0000 - val_tn: 968.0000 - val_fn: 149.0000 - val_precision: 0.7640 - val_recall: 0.7124 - val_auc: 0.8971 - val_prc: 0.8020 - lr: 1.2500e-04\n",
            "Epoch 69/200\n",
            "100/100 [==============================] - 0s 4ms/step - loss: 0.3379 - acc: 0.8459 - tp: 1429.0000 - fp: 427.0000 - tn: 3985.0000 - fn: 559.0000 - precision: 0.7699 - recall: 0.7188 - auc: 0.9167 - prc: 0.8272 - val_loss: 0.3751 - val_acc: 0.8363 - val_tp: 369.0000 - val_fp: 113.0000 - val_tn: 969.0000 - val_fn: 149.0000 - val_precision: 0.7656 - val_recall: 0.7124 - val_auc: 0.8971 - val_prc: 0.8037 - lr: 6.2500e-05\n",
            "Epoch 70/200\n",
            "100/100 [==============================] - 0s 4ms/step - loss: 0.3385 - acc: 0.8462 - tp: 1424.0000 - fp: 420.0000 - tn: 3992.0000 - fn: 564.0000 - precision: 0.7722 - recall: 0.7163 - auc: 0.9167 - prc: 0.8274 - val_loss: 0.3752 - val_acc: 0.8356 - val_tp: 368.0000 - val_fp: 113.0000 - val_tn: 969.0000 - val_fn: 150.0000 - val_precision: 0.7651 - val_recall: 0.7104 - val_auc: 0.8971 - val_prc: 0.8031 - lr: 6.2500e-05\n",
            "Epoch 71/200\n",
            "100/100 [==============================] - 0s 5ms/step - loss: 0.3388 - acc: 0.8456 - tp: 1428.0000 - fp: 428.0000 - tn: 3984.0000 - fn: 560.0000 - precision: 0.7694 - recall: 0.7183 - auc: 0.9166 - prc: 0.8272 - val_loss: 0.3753 - val_acc: 0.8363 - val_tp: 368.0000 - val_fp: 112.0000 - val_tn: 970.0000 - val_fn: 150.0000 - val_precision: 0.7667 - val_recall: 0.7104 - val_auc: 0.8972 - val_prc: 0.8026 - lr: 6.2500e-05\n",
            "Epoch 72/200\n",
            "100/100 [==============================] - 0s 5ms/step - loss: 0.3394 - acc: 0.8461 - tp: 1422.0000 - fp: 419.0000 - tn: 3993.0000 - fn: 566.0000 - precision: 0.7724 - recall: 0.7153 - auc: 0.9166 - prc: 0.8269 - val_loss: 0.3755 - val_acc: 0.8363 - val_tp: 368.0000 - val_fp: 112.0000 - val_tn: 970.0000 - val_fn: 150.0000 - val_precision: 0.7667 - val_recall: 0.7104 - val_auc: 0.8971 - val_prc: 0.8032 - lr: 6.2500e-05\n",
            "Epoch 73/200\n",
            "100/100 [==============================] - 0s 5ms/step - loss: 0.3397 - acc: 0.8458 - tp: 1425.0000 - fp: 424.0000 - tn: 3988.0000 - fn: 563.0000 - precision: 0.7707 - recall: 0.7168 - auc: 0.9166 - prc: 0.8274 - val_loss: 0.3756 - val_acc: 0.8363 - val_tp: 368.0000 - val_fp: 112.0000 - val_tn: 970.0000 - val_fn: 150.0000 - val_precision: 0.7667 - val_recall: 0.7104 - val_auc: 0.8970 - val_prc: 0.8040 - lr: 6.2500e-05\n",
            "Epoch 74/200\n",
            "100/100 [==============================] - 0s 5ms/step - loss: 0.3404 - acc: 0.8469 - tp: 1423.0000 - fp: 415.0000 - tn: 3997.0000 - fn: 565.0000 - precision: 0.7742 - recall: 0.7158 - auc: 0.9166 - prc: 0.8271 - val_loss: 0.3760 - val_acc: 0.8350 - val_tp: 366.0000 - val_fp: 112.0000 - val_tn: 970.0000 - val_fn: 152.0000 - val_precision: 0.7657 - val_recall: 0.7066 - val_auc: 0.8971 - val_prc: 0.8021 - lr: 3.1250e-05\n",
            "Epoch 75/200\n",
            "100/100 [==============================] - 0s 5ms/step - loss: 0.3415 - acc: 0.8472 - tp: 1416.0000 - fp: 406.0000 - tn: 4006.0000 - fn: 572.0000 - precision: 0.7772 - recall: 0.7123 - auc: 0.9167 - prc: 0.8275 - val_loss: 0.3765 - val_acc: 0.8375 - val_tp: 366.0000 - val_fp: 108.0000 - val_tn: 974.0000 - val_fn: 152.0000 - val_precision: 0.7722 - val_recall: 0.7066 - val_auc: 0.8970 - val_prc: 0.8039 - lr: 3.1250e-05\n",
            "Epoch 76/200\n",
            "100/100 [==============================] - 0s 5ms/step - loss: 0.3426 - acc: 0.8472 - tp: 1407.0000 - fp: 397.0000 - tn: 4015.0000 - fn: 581.0000 - precision: 0.7799 - recall: 0.7077 - auc: 0.9166 - prc: 0.8266 - val_loss: 0.3771 - val_acc: 0.8381 - val_tp: 366.0000 - val_fp: 107.0000 - val_tn: 975.0000 - val_fn: 152.0000 - val_precision: 0.7738 - val_recall: 0.7066 - val_auc: 0.8971 - val_prc: 0.8024 - lr: 3.1250e-05\n",
            "Epoch 77/200\n",
            "100/100 [==============================] - 0s 3ms/step - loss: 0.3435 - acc: 0.8472 - tp: 1411.0000 - fp: 401.0000 - tn: 4011.0000 - fn: 577.0000 - precision: 0.7787 - recall: 0.7098 - auc: 0.9165 - prc: 0.8270 - val_loss: 0.3776 - val_acc: 0.8381 - val_tp: 366.0000 - val_fp: 107.0000 - val_tn: 975.0000 - val_fn: 152.0000 - val_precision: 0.7738 - val_recall: 0.7066 - val_auc: 0.8970 - val_prc: 0.8032 - lr: 3.1250e-05\n",
            "Epoch 78/200\n",
            "100/100 [==============================] - 0s 3ms/step - loss: 0.3445 - acc: 0.8470 - tp: 1403.0000 - fp: 394.0000 - tn: 4018.0000 - fn: 585.0000 - precision: 0.7807 - recall: 0.7057 - auc: 0.9165 - prc: 0.8272 - val_loss: 0.3782 - val_acc: 0.8375 - val_tp: 364.0000 - val_fp: 106.0000 - val_tn: 976.0000 - val_fn: 154.0000 - val_precision: 0.7745 - val_recall: 0.7027 - val_auc: 0.8969 - val_prc: 0.8030 - lr: 3.1250e-05\n"
          ]
        }
      ]
    },
    {
      "cell_type": "code",
      "source": [
        "for index, val in enumerate(predictive_model.evaluate(X_test, Y_test)):\n",
        "  if index==0:\n",
        "    print(\"loss :\"+str(val))\n",
        "  else:\n",
        "    print(METRICS[index-1].name +\":\"+str(val))"
      ],
      "metadata": {
        "id": "UHAhR1AVOdRc",
        "colab": {
          "base_uri": "https://localhost:8080/"
        },
        "outputId": "8ca80a1f-4ae0-4615-8eb6-49bea17f877b"
      },
      "execution_count": null,
      "outputs": [
        {
          "output_type": "stream",
          "name": "stdout",
          "text": [
            "63/63 [==============================] - 1s 3ms/step - loss: 0.3320 - acc: 0.8560 - tp: 471.0000 - fp: 132.0000 - tn: 1241.0000 - fn: 156.0000 - precision: 0.7811 - recall: 0.7512 - auc: 0.9192 - prc: 0.8423\n",
            "loss :0.3320310711860657\n",
            "acc:0.8560000061988831\n",
            "tp:471.0\n",
            "fp:132.0\n",
            "tn:1241.0\n",
            "fn:156.0\n",
            "precision:0.7810945510864258\n",
            "recall:0.7511961460113525\n",
            "auc:0.9191678762435913\n",
            "prc:0.8422930836677551\n"
          ]
        }
      ]
    },
    {
      "cell_type": "code",
      "source": [
        "from sklearn.metrics import classification_report\n",
        "import numpy as np\n",
        "\n",
        "def prediction(X_test):\n",
        "  a = []\n",
        "  for predicted_val in predictive_model.predict(X_test):\n",
        "    if predicted_val>0.5:\n",
        "      a.append(1)\n",
        "    else:\n",
        "      a.append(0)\n",
        "  return a\n",
        "\n",
        "y_true = Y_test\n",
        "y_pred = np.where(predictive_model.predict(X_test) > 0.5, 1, 0)\n",
        "print(classification_report(y_true, y_pred, target_names=['dissapproved', 'approved']))"
      ],
      "metadata": {
        "colab": {
          "base_uri": "https://localhost:8080/"
        },
        "id": "t6kkIX3bUDbx",
        "outputId": "506c7821-795b-4e98-e6d0-e1f924e3e7d6"
      },
      "execution_count": null,
      "outputs": [
        {
          "output_type": "stream",
          "name": "stdout",
          "text": [
            "              precision    recall  f1-score   support\n",
            "\n",
            "dissapproved       0.89      0.90      0.90      1373\n",
            "    approved       0.78      0.75      0.77       627\n",
            "\n",
            "    accuracy                           0.86      2000\n",
            "   macro avg       0.83      0.83      0.83      2000\n",
            "weighted avg       0.85      0.86      0.86      2000\n",
            "\n"
          ]
        }
      ]
    },
    {
      "cell_type": "code",
      "source": [
        "%matplotlib inline\n",
        "import matplotlib.pyplot as plt\n",
        "from sklearn.metrics import confusion_matrix, ConfusionMatrixDisplay\n",
        "ConfusionMatrixDisplay(confusion_matrix=confusion_matrix(y_true, y_pred)).plot()\n",
        "plt.show()"
      ],
      "metadata": {
        "colab": {
          "base_uri": "https://localhost:8080/",
          "height": 279
        },
        "id": "_riXomlkWv1U",
        "outputId": "7cea0a57-338c-41c7-bfeb-13e81765a393"
      },
      "execution_count": null,
      "outputs": [
        {
          "output_type": "display_data",
          "data": {
            "text/plain": [
              "<Figure size 432x288 with 2 Axes>"
            ],
            "image/png": "[encoded data removed]"
          },
          "metadata": {
            "needs_background": "light"
          }
        }
      ]
    },
    {
      "cell_type": "code",
      "source": [
        "from sklearn.metrics import roc_auc_score, roc_curve\n",
        "roc_auc_score(Y_test, np.where(predictive_model.predict(X_test) > 0.5, 1, 0))"
      ],
      "metadata": {
        "colab": {
          "base_uri": "https://localhost:8080/"
        },
        "id": "g81dWA87bw5c",
        "outputId": "990162cb-74c8-4561-9034-b2a76b163966"
      },
      "execution_count": null,
      "outputs": [
        {
          "output_type": "execute_result",
          "data": {
            "text/plain": [
              "0.8275281662409351"
            ]
          },
          "metadata": {},
          "execution_count": 9
        }
      ]
    },
    {
      "cell_type": "code",
      "source": [
        "from sklearn.metrics import RocCurveDisplay\n",
        "RocCurveDisplay.from_predictions(y_true, y_pred)"
      ],
      "metadata": {
        "colab": {
          "base_uri": "https://localhost:8080/",
          "height": 296
        },
        "id": "xstkbEu8aSuY",
        "outputId": "f6e09fb2-0356-4f09-a518-9b4f2e3a2e8c"
      },
      "execution_count": null,
      "outputs": [
        {
          "output_type": "execute_result",
          "data": {
            "text/plain": [
              "<sklearn.metrics._plot.roc_curve.RocCurveDisplay at 0x7f8e1dc72f10>"
            ]
          },
          "metadata": {},
          "execution_count": 10
        },
        {
          "output_type": "display_data",
          "data": {
            "text/plain": [
              "<Figure size 432x288 with 1 Axes>"
            ],
            "image/png": "[encoded data removed]"
          },
          "metadata": {
            "needs_background": "light"
          }
        }
      ]
    },
    {
      "cell_type": "code",
      "source": [
        "# ROC AUC GRAPH\n",
        "no_skill_prediction_prob = [0 for _ in range(len(Y_test))]\n",
        "predicted_prob = np.where(predictive_model.predict(X_test) > 0.5, 1, 0)\n",
        "no_skill_prediction_auc = roc_auc_score(Y_test, no_skill_prediction_prob)\n",
        "predicted_prob_auc = roc_auc_score(Y_test, np.where(predictive_model.predict(X_test) > 0.5, 1, 0))\n",
        "\n",
        "# Summarize score\n",
        "print('No Skill: ROC AUC=%.3f' % (no_skill_prediction_auc))\n",
        "print('Logistic: ROC AUC=%.3f' % (predicted_prob_auc))"
      ],
      "metadata": {
        "colab": {
          "base_uri": "https://localhost:8080/"
        },
        "id": "UB4-fg8ja3QC",
        "outputId": "85e73103-a445-4787-a67d-ef88feea859c"
      },
      "execution_count": null,
      "outputs": [
        {
          "output_type": "stream",
          "name": "stdout",
          "text": [
            "No Skill: ROC AUC=0.500\n",
            "Logistic: ROC AUC=0.828\n"
          ]
        }
      ]
    },
    {
      "cell_type": "code",
      "source": [
        "# calculate roc curves\n",
        "ns_fpr, ns_tpr, _ = roc_curve(Y_test, no_skill_prediction_prob)\n",
        "lr_fpr, lr_tpr, _ = roc_curve(Y_test, np.where(predictive_model.predict(X_test) > 0.5, 1, 0))\n",
        "# plot the roc curve for the model\n",
        "plt.plot(ns_fpr, ns_tpr, linestyle='--', label='No Skill')\n",
        "plt.plot(lr_fpr, lr_tpr, marker='.', label='MLP')\n",
        "# axis labels\n",
        "plt.xlabel('False Positive Rate')\n",
        "plt.ylabel('True Positive Rate')\n",
        "# show the legend\n",
        "plt.legend()\n",
        "# show the plot\n",
        "plt.show()"
      ],
      "metadata": {
        "colab": {
          "base_uri": "https://localhost:8080/",
          "height": 279
        },
        "id": "wHAeg_4wfhpa",
        "outputId": "0217125b-5caf-4413-8d16-5884f2616f2b"
      },
      "execution_count": null,
      "outputs": [
        {
          "output_type": "display_data",
          "data": {
            "text/plain": [
              "<Figure size 432x288 with 1 Axes>"
            ],
            "image/png": "[encoded data removed]"
          },
          "metadata": {
            "needs_background": "light"
          }
        }
      ]
    },
    {
      "cell_type": "code",
      "source": [
        "# Precision Recall\n",
        "from sklearn.metrics import PrecisionRecallDisplay\n",
        "PrecisionRecallDisplay.from_predictions(Y_test, np.where(predictive_model.predict(X_test) > 0.5, 1, 0))"
      ],
      "metadata": {
        "colab": {
          "base_uri": "https://localhost:8080/",
          "height": 296
        },
        "id": "ZfWlf_gbfsXS",
        "outputId": "eb9e8a22-fcc1-47cb-ba45-2aa6a5bede7b"
      },
      "execution_count": null,
      "outputs": [
        {
          "output_type": "execute_result",
          "data": {
            "text/plain": [
              "<sklearn.metrics._plot.precision_recall_curve.PrecisionRecallDisplay at 0x7f8e1b010b50>"
            ]
          },
          "metadata": {},
          "execution_count": 13
        },
        {
          "output_type": "display_data",
          "data": {
            "text/plain": [
              "<Figure size 432x288 with 1 Axes>"
            ],
            "image/png": "[encoded data removed]"
          },
          "metadata": {
            "needs_background": "light"
          }
        }
      ]
    },
    {
      "cell_type": "code",
      "source": [
        "from sklearn.metrics import average_precision_score\n",
        "average_precision_score(Y_test, np.where(predictive_model.predict(X_test) > 0.5, 1, 0))"
      ],
      "metadata": {
        "colab": {
          "base_uri": "https://localhost:8080/"
        },
        "id": "NWQGqPUfgrAF",
        "outputId": "afcf2dfa-40da-425a-a411-29aa74497787"
      },
      "execution_count": null,
      "outputs": [
        {
          "output_type": "execute_result",
          "data": {
            "text/plain": [
              "0.6647552191197125"
            ]
          },
          "metadata": {},
          "execution_count": 14
        }
      ]
    },
    {
      "cell_type": "code",
      "source": [
        "from sklearn.metrics import precision_recall_curve\n",
        "precision, recall, threshold = precision_recall_curve(Y_test, np.where(predictive_model.predict(X_test) > 0.5, 1, 0))\n",
        "PrecisionRecallDisplay(precision=precision, recall=recall).plot()"
      ],
      "metadata": {
        "colab": {
          "base_uri": "https://localhost:8080/",
          "height": 296
        },
        "id": "8npDQ2j5hqTB",
        "outputId": "31722025-d183-46c5-a701-a4cb8590d1ce"
      },
      "execution_count": null,
      "outputs": [
        {
          "output_type": "execute_result",
          "data": {
            "text/plain": [
              "<sklearn.metrics._plot.precision_recall_curve.PrecisionRecallDisplay at 0x7f8e1b010450>"
            ]
          },
          "metadata": {},
          "execution_count": 15
        },
        {
          "output_type": "display_data",
          "data": {
            "text/plain": [
              "<Figure size 432x288 with 1 Axes>"
            ],
            "image/png": "[encoded data removed]"
          },
          "metadata": {
            "needs_background": "light"
          }
        }
      ]
    },
    {
      "cell_type": "code",
      "source": [
        "no_skill = len(Y_test[Y_test==1]) / len(Y_test)\n",
        "plt.plot([0, 1], [no_skill, no_skill], linestyle='--', label='No Skill')\n",
        "plt.plot(recall, precision, marker='.', label='mlp')\n",
        "# axis labels\n",
        "plt.xlabel('Recall')\n",
        "plt.ylabel('Precision')\n",
        "plt.legend()\n",
        "plt.show()"
      ],
      "metadata": {
        "colab": {
          "base_uri": "https://localhost:8080/",
          "height": 279
        },
        "id": "OBup58EgHN8I",
        "outputId": "b67f8e15-12a4-4069-ee6a-9e9791de00aa"
      },
      "execution_count": null,
      "outputs": [
        {
          "output_type": "display_data",
          "data": {
            "text/plain": [
              "<Figure size 432x288 with 1 Axes>"
            ],
            "image/png": "[encoded data removed]"
          },
          "metadata": {
            "needs_background": "light"
          }
        }
      ]
    },
    {
      "cell_type": "markdown",
      "source": [
        "**End of Project**"
      ],
      "metadata": {
        "id": "xZ_lFHBBhvDj"
      }
    }
  ]
}